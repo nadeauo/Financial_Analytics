{
 "cells": [
  {
   "cell_type": "code",
   "execution_count": 1,
   "metadata": {},
   "outputs": [
    {
     "data": {
      "text/html": [
       "<div>\n",
       "<style scoped>\n",
       "    .dataframe tbody tr th:only-of-type {\n",
       "        vertical-align: middle;\n",
       "    }\n",
       "\n",
       "    .dataframe tbody tr th {\n",
       "        vertical-align: top;\n",
       "    }\n",
       "\n",
       "    .dataframe thead th {\n",
       "        text-align: right;\n",
       "    }\n",
       "</style>\n",
       "<table border=\"1\" class=\"dataframe\">\n",
       "  <thead>\n",
       "    <tr style=\"text-align: right;\">\n",
       "      <th></th>\n",
       "      <th>ido</th>\n",
       "      <th>price</th>\n",
       "      <th>realizedtot</th>\n",
       "      <th>unrealq</th>\n",
       "      <th>uservolu</th>\n",
       "      <th>useroftotalvolu</th>\n",
       "      <th>totalvolu</th>\n",
       "      <th>tradecount</th>\n",
       "      <th>firsthourvolu</th>\n",
       "      <th>firsthouruservolu</th>\n",
       "      <th>...</th>\n",
       "      <th>uservoltradedbuysell</th>\n",
       "      <th>Gender</th>\n",
       "      <th>Q2</th>\n",
       "      <th>Q9</th>\n",
       "      <th>Q12</th>\n",
       "      <th>Q14</th>\n",
       "      <th>Q15</th>\n",
       "      <th>Q30</th>\n",
       "      <th>desk</th>\n",
       "      <th>trader</th>\n",
       "    </tr>\n",
       "  </thead>\n",
       "  <tbody>\n",
       "    <tr>\n",
       "      <th>0</th>\n",
       "      <td>S9C2015</td>\n",
       "      <td>21.0</td>\n",
       "      <td>-435.100000</td>\n",
       "      <td>20</td>\n",
       "      <td>310</td>\n",
       "      <td>0.092814</td>\n",
       "      <td>3340</td>\n",
       "      <td>21</td>\n",
       "      <td>1546</td>\n",
       "      <td>168</td>\n",
       "      <td>...</td>\n",
       "      <td>310</td>\n",
       "      <td>M</td>\n",
       "      <td>3</td>\n",
       "      <td>2</td>\n",
       "      <td>4</td>\n",
       "      <td>4</td>\n",
       "      <td>2</td>\n",
       "      <td>N</td>\n",
       "      <td>S9</td>\n",
       "      <td>2015</td>\n",
       "    </tr>\n",
       "    <tr>\n",
       "      <th>1</th>\n",
       "      <td>S9C1915</td>\n",
       "      <td>21.0</td>\n",
       "      <td>1109.200000</td>\n",
       "      <td>-53</td>\n",
       "      <td>165</td>\n",
       "      <td>0.060395</td>\n",
       "      <td>2732</td>\n",
       "      <td>18</td>\n",
       "      <td>788</td>\n",
       "      <td>0</td>\n",
       "      <td>...</td>\n",
       "      <td>165</td>\n",
       "      <td>M</td>\n",
       "      <td>3</td>\n",
       "      <td>2</td>\n",
       "      <td>4</td>\n",
       "      <td>4</td>\n",
       "      <td>2</td>\n",
       "      <td>N</td>\n",
       "      <td>S9</td>\n",
       "      <td>1915</td>\n",
       "    </tr>\n",
       "    <tr>\n",
       "      <th>2</th>\n",
       "      <td>S9C1615</td>\n",
       "      <td>21.0</td>\n",
       "      <td>17.799998</td>\n",
       "      <td>0</td>\n",
       "      <td>164</td>\n",
       "      <td>0.059399</td>\n",
       "      <td>2761</td>\n",
       "      <td>12</td>\n",
       "      <td>848</td>\n",
       "      <td>32</td>\n",
       "      <td>...</td>\n",
       "      <td>164</td>\n",
       "      <td>M</td>\n",
       "      <td>1</td>\n",
       "      <td>3</td>\n",
       "      <td>3</td>\n",
       "      <td>3</td>\n",
       "      <td>3</td>\n",
       "      <td>Y</td>\n",
       "      <td>S9</td>\n",
       "      <td>1615</td>\n",
       "    </tr>\n",
       "    <tr>\n",
       "      <th>3</th>\n",
       "      <td>S9C15TS</td>\n",
       "      <td>21.0</td>\n",
       "      <td>-1245.700090</td>\n",
       "      <td>58</td>\n",
       "      <td>882</td>\n",
       "      <td>0.251139</td>\n",
       "      <td>3512</td>\n",
       "      <td>58</td>\n",
       "      <td>1022</td>\n",
       "      <td>130</td>\n",
       "      <td>...</td>\n",
       "      <td>882</td>\n",
       "      <td>F</td>\n",
       "      <td>3</td>\n",
       "      <td>2</td>\n",
       "      <td>2</td>\n",
       "      <td>2</td>\n",
       "      <td>2</td>\n",
       "      <td>N</td>\n",
       "      <td>S9</td>\n",
       "      <td>15TS</td>\n",
       "    </tr>\n",
       "    <tr>\n",
       "      <th>4</th>\n",
       "      <td>S9C1515</td>\n",
       "      <td>21.0</td>\n",
       "      <td>-20.000000</td>\n",
       "      <td>0</td>\n",
       "      <td>200</td>\n",
       "      <td>0.071608</td>\n",
       "      <td>2793</td>\n",
       "      <td>16</td>\n",
       "      <td>828</td>\n",
       "      <td>20</td>\n",
       "      <td>...</td>\n",
       "      <td>200</td>\n",
       "      <td>M</td>\n",
       "      <td>3</td>\n",
       "      <td>2</td>\n",
       "      <td>2</td>\n",
       "      <td>2</td>\n",
       "      <td>2</td>\n",
       "      <td>N</td>\n",
       "      <td>S9</td>\n",
       "      <td>1515</td>\n",
       "    </tr>\n",
       "  </tbody>\n",
       "</table>\n",
       "<p>5 rows × 29 columns</p>\n",
       "</div>"
      ],
      "text/plain": [
       "       ido  price  realizedtot  unrealq  uservolu  useroftotalvolu  totalvolu  \\\n",
       "0  S9C2015   21.0  -435.100000       20       310         0.092814       3340   \n",
       "1  S9C1915   21.0  1109.200000      -53       165         0.060395       2732   \n",
       "2  S9C1615   21.0    17.799998        0       164         0.059399       2761   \n",
       "3  S9C15TS   21.0 -1245.700090       58       882         0.251139       3512   \n",
       "4  S9C1515   21.0   -20.000000        0       200         0.071608       2793   \n",
       "\n",
       "   tradecount  firsthourvolu  firsthouruservolu   ...    uservoltradedbuysell  \\\n",
       "0          21           1546                168   ...                     310   \n",
       "1          18            788                  0   ...                     165   \n",
       "2          12            848                 32   ...                     164   \n",
       "3          58           1022                130   ...                     882   \n",
       "4          16            828                 20   ...                     200   \n",
       "\n",
       "   Gender  Q2  Q9  Q12  Q14  Q15  Q30  desk  trader  \n",
       "0       M   3   2    4    4    2    N    S9    2015  \n",
       "1       M   3   2    4    4    2    N    S9    1915  \n",
       "2       M   1   3    3    3    3    Y    S9    1615  \n",
       "3       F   3   2    2    2    2    N    S9    15TS  \n",
       "4       M   3   2    2    2    2    N    S9    1515  \n",
       "\n",
       "[5 rows x 29 columns]"
      ]
     },
     "execution_count": 1,
     "metadata": {},
     "output_type": "execute_result"
    }
   ],
   "source": [
    "# All the same from original sent bt Cherilyn\n",
    "\n",
    "import pandas as pd\n",
    "import matplotlib.pyplot as plt\n",
    "import seaborn as sns\n",
    "plt.style.use ('ggplot')\n",
    "import numpy as np\n",
    "\n",
    "#to display multiple outputs from one cell\n",
    "from IPython.core.interactiveshell import InteractiveShell\n",
    "InteractiveShell.ast_node_interactivity = \"all\"\n",
    "\n",
    "# read/clean data\n",
    "df1=pd.read_csv(r'Trading Analytics.csv')\n",
    "\n",
    "#to clean all of the column names\n",
    "df1.columns = df1.columns.str.strip().str.lower().str.replace(' ', '').str.replace('(', '').str.replace(')', '').str.replace('&', '').str.replace('.', '').str.replace('?', '').str.replace('$', '').str.replace('%', '').str.replace('*', '').str.replace('=', '').str.replace('/', '').str.replace(':', '').str.replace('_', '').str.replace('-', '').str.replace('+', '')\n",
    "\n",
    "# to remove columns\n",
    "drop_cols = ['unnamed40','unnamed41', 'unnamed42', 'unnamed43', 'unnamed44', 'unnamed45', 'unnamed46','unnamed47','unnamed48', 'unnamed49', 'unnamed50','qualify','volume',\n",
    "             'tradetime','eventtime','offer','bid','buyer','seller','buyerid','sellerid','rpertr','upertrq','unrealtot','1sthour','lasthour','1sthrusrtotvol','lasthusrtotvol',\n",
    "             'range','p2p11','lnp2p1','volatstdevofln']\n",
    "df1 = df1.drop(drop_cols, axis=1)\n",
    "\n",
    "#to fix col that start with 1\n",
    "df1.columns = df1.columns.str.replace('1', 'fir')\n",
    "\n",
    "#to split ido into desk number and trader number\n",
    "    # note trader number no longer has the C in the front\n",
    "df1[['desk','trader']] = df1.ido.str.split(\"C\",n=1,expand=True)\n",
    "\n",
    "#to change the percentages into floats\n",
    "df1['useroftotalvolu'] = df1['useroftotalvolu'].str.rstrip('%').astype('float') / 100.0\n",
    "df1['firsthrusrfirsthrtot'] = df1['firsthrusrfirsthrtot'].str.rstrip('%').astype('float') / 100.0\n",
    "df1['lasthusrlasthrtot'] = df1['lasthusrlasthrtot'].str.replace('#DIV/0!', 'NaN')\n",
    "df1['lasthusrlasthrtot'] = df1['lasthusrlasthrtot'].str.rstrip('%').astype('float') / 100.0\n",
    "\n",
    "df1['desk'] = df1['desk'].str.replace('S 10', 'S10').str.replace('TralS9', 'S9').str.replace('S37b08T', 'S3').str.replace('S3 ', 'S3')\n",
    "\n",
    "df1.describe(include='all')\n",
    "\n",
    "# read/clean survey data\n",
    "df2 = pd.read_excel('Survey_clean.xlsx')\n",
    "\n",
    "#to clean the column names\n",
    "df2.columns = df2.columns.str.strip().str.replace(\".\",\"\").str.replace(\"Unnamed: 1\",\"Gender\")\n",
    "\n",
    "#to change IDo to ido so it matches the id column in df1 to make it easier to combine the dataframes; \n",
    "#I later learned that these could be combined without the column names being the same\n",
    "df2.columns = df2.columns.str.replace('IDo', 'ido')\n",
    "\n",
    "#to remove the row with the questions for analysis and to choose the desired questions\n",
    "df2 = df2.iloc[1:]\n",
    "df2 = df2[[\"ido\",\"Gender\",\"Q2\",\"Q9\",\"Q12\",\"Q14\",\"Q15\",\"Q30\"]]\n",
    "\n",
    "#to split IDo into seperate columns for desk and trader\n",
    "df2[['desk','trader']] = df2.ido.str.split(\"C\",n=1,expand=True)\n",
    "\n",
    "#to fix some of the desk names\n",
    "df2['desk'] = df2['desk'].str.replace('S 10', 'S10').str.replace('S37b08T', 'S3').str.replace('S3 ', 'S3')\n",
    "\n",
    "#to change the responses into a likert scale\n",
    "df2['Q2'] = df2['Q2'].str.replace('Neither Agree nor Disagree', '3').str.replace('Strongly Disagree', '5').str.replace('Strongly Agree', '1').str.replace('Agree', '2').str.replace('Disagree', '4')\n",
    "df2['Q9'] = df2['Q9'].str.replace('Neither Agree nor Disagree', '3').str.replace('Strongly Disagree', '5').str.replace('Strongly Agree', '1').str.replace('Agree', '2').str.replace('Disagree', '4')\n",
    "df2['Q12'] = df2['Q12'].str.replace('Neither Agree nor Disagree', '3').str.replace('Strongly Disagree', '5').str.replace('Strongly Agree', '1').str.replace('Agree', '2').str.replace('Disagree', '4')\n",
    "df2['Q14'] = df2['Q14'].str.replace('Neither Agree nor Disagree', '3').str.replace('Strongly Disagree', '5').str.replace('Strongly Agree', '1').str.replace('Agree', '2').str.replace('Disagree', '4')\n",
    "df2['Q15'] = df2['Q15'].str.replace('Neither Agree nor Disagree', '3').str.replace('Strongly Disagree', '5').str.replace('Strongly Agree', '1').str.replace('Agree', '2').str.replace('Disagree', '4')\n",
    "df2['Q30'] = df2['Q30'].str.replace('Yes', 'Y').str.replace('No', 'N')\n",
    "\n",
    "#df2\n",
    "\n",
    "df2.describe(include='all')\n",
    "\n",
    "#create 1 dataframe\n",
    "#combined along the IDo column; how as inner only inclued the rows that are common in both dataframes\n",
    "data = pd.merge(df1, df2, on='ido', how='inner')\n",
    "\n",
    "#removing the duplicate entries of desk and trader\n",
    "data = data.drop(columns=['desk_x'])\n",
    "data = data.drop(columns=['trader_x'])\n",
    "#renaming the remaining desk and trader columns\n",
    "data = data.rename(columns={'desk_y':'desk','trader_y':'trader'})\n",
    "\n",
    "data.head()"
   ]
  },
  {
   "cell_type": "markdown",
   "metadata": {},
   "source": [
    "# Lee"
   ]
  },
  {
   "cell_type": "code",
   "execution_count": 108,
   "metadata": {},
   "outputs": [
    {
     "data": {
      "text/html": [
       "<div>\n",
       "<style scoped>\n",
       "    .dataframe tbody tr th:only-of-type {\n",
       "        vertical-align: middle;\n",
       "    }\n",
       "\n",
       "    .dataframe tbody tr th {\n",
       "        vertical-align: top;\n",
       "    }\n",
       "\n",
       "    .dataframe thead th {\n",
       "        text-align: right;\n",
       "    }\n",
       "</style>\n",
       "<table border=\"1\" class=\"dataframe\">\n",
       "  <thead>\n",
       "    <tr style=\"text-align: right;\">\n",
       "      <th></th>\n",
       "      <th>desk</th>\n",
       "      <th>trader</th>\n",
       "      <th>Gender</th>\n",
       "      <th>Q2</th>\n",
       "      <th>Q9</th>\n",
       "      <th>Q12</th>\n",
       "      <th>Q14</th>\n",
       "      <th>Q15</th>\n",
       "      <th>Q30</th>\n",
       "    </tr>\n",
       "  </thead>\n",
       "  <tbody>\n",
       "    <tr>\n",
       "      <th>0</th>\n",
       "      <td>S6</td>\n",
       "      <td>14a1</td>\n",
       "      <td>F</td>\n",
       "      <td>1.0</td>\n",
       "      <td>3.0</td>\n",
       "      <td>2.0</td>\n",
       "      <td>3.0</td>\n",
       "      <td>2.0</td>\n",
       "      <td>Y</td>\n",
       "    </tr>\n",
       "    <tr>\n",
       "      <th>1</th>\n",
       "      <td>S6</td>\n",
       "      <td>12B1</td>\n",
       "      <td>F</td>\n",
       "      <td>5.0</td>\n",
       "      <td>1.0</td>\n",
       "      <td>3.0</td>\n",
       "      <td>4.0</td>\n",
       "      <td>1.0</td>\n",
       "      <td>N</td>\n",
       "    </tr>\n",
       "    <tr>\n",
       "      <th>2</th>\n",
       "      <td>S6</td>\n",
       "      <td>1514</td>\n",
       "      <td>M</td>\n",
       "      <td>1.0</td>\n",
       "      <td>4.0</td>\n",
       "      <td>3.0</td>\n",
       "      <td>3.0</td>\n",
       "      <td>1.0</td>\n",
       "      <td>N</td>\n",
       "    </tr>\n",
       "  </tbody>\n",
       "</table>\n",
       "</div>"
      ],
      "text/plain": [
       "  desk trader Gender   Q2   Q9  Q12  Q14  Q15 Q30\n",
       "0   S6   14a1      F  1.0  3.0  2.0  3.0  2.0   Y\n",
       "1   S6   12B1      F  5.0  1.0  3.0  4.0  1.0   N\n",
       "2   S6   1514      M  1.0  4.0  3.0  3.0  1.0   N"
      ]
     },
     "execution_count": 108,
     "metadata": {},
     "output_type": "execute_result"
    },
    {
     "data": {
      "text/plain": [
       "'I traded using ALL of the information provided to me at each stage'"
      ]
     },
     "execution_count": 108,
     "metadata": {},
     "output_type": "execute_result"
    },
    {
     "data": {
      "text/plain": [
       "'I believe that I can improve on my net profits if I had more information even if I did not have any technological tools to analyze the information'"
      ]
     },
     "execution_count": 108,
     "metadata": {},
     "output_type": "execute_result"
    },
    {
     "data": {
      "text/plain": [
       "'The source (Highly reputed like Wall Street Journal/ Bloomberg versus low/unknown reputation like Sun news) of information would impact my trading decisions'"
      ]
     },
     "execution_count": 108,
     "metadata": {},
     "output_type": "execute_result"
    },
    {
     "data": {
      "text/plain": [
       "'The medium (news /blog /video/ tool based) of information impacted my trading decisions'"
      ]
     },
     "execution_count": 108,
     "metadata": {},
     "output_type": "execute_result"
    },
    {
     "data": {
      "text/plain": [
       "'I believe that more stock specific information could have helped me to increase my net profits'"
      ]
     },
     "execution_count": 108,
     "metadata": {},
     "output_type": "execute_result"
    },
    {
     "data": {
      "text/plain": [
       "'I have had prior experience in live trading stock /shares'"
      ]
     },
     "execution_count": 108,
     "metadata": {},
     "output_type": "execute_result"
    }
   ],
   "source": [
    "# Import survey data recoded in SPSS\n",
    "import pyreadstat\n",
    "# .SAV file loaded in\n",
    "data_sav, meta = pyreadstat.read_sav('data_frame.sav')\n",
    "data_sav.head(3)\n",
    "#meta.column_labels # Variables from SPSS\n",
    "\n",
    "# Pull up survey questions\n",
    "meta_dict = dict(zip(meta.column_names, meta.column_labels))\n",
    "meta_dict['Q2']\n",
    "meta_dict['Q9']\n",
    "meta_dict['Q12']\n",
    "meta_dict['Q14']\n",
    "meta_dict['Q15']\n",
    "meta_dict['Q30']"
   ]
  },
  {
   "cell_type": "code",
   "execution_count": 38,
   "metadata": {},
   "outputs": [
    {
     "data": {
      "text/plain": [
       "'I traded using ALL of the information provided to me at each stage'"
      ]
     },
     "execution_count": 38,
     "metadata": {},
     "output_type": "execute_result"
    },
    {
     "data": {
      "text/html": [
       "<div>\n",
       "<style scoped>\n",
       "    .dataframe tbody tr th:only-of-type {\n",
       "        vertical-align: middle;\n",
       "    }\n",
       "\n",
       "    .dataframe tbody tr th {\n",
       "        vertical-align: top;\n",
       "    }\n",
       "\n",
       "    .dataframe thead th {\n",
       "        text-align: right;\n",
       "    }\n",
       "</style>\n",
       "<table border=\"1\" class=\"dataframe\">\n",
       "  <thead>\n",
       "    <tr style=\"text-align: right;\">\n",
       "      <th>desk</th>\n",
       "      <th>S1</th>\n",
       "      <th>S2</th>\n",
       "      <th>S3</th>\n",
       "      <th>S4</th>\n",
       "      <th>S5</th>\n",
       "      <th>S6</th>\n",
       "      <th>S7</th>\n",
       "      <th>S8</th>\n",
       "      <th>S9</th>\n",
       "      <th>S10</th>\n",
       "    </tr>\n",
       "    <tr>\n",
       "      <th>Q2</th>\n",
       "      <th></th>\n",
       "      <th></th>\n",
       "      <th></th>\n",
       "      <th></th>\n",
       "      <th></th>\n",
       "      <th></th>\n",
       "      <th></th>\n",
       "      <th></th>\n",
       "      <th></th>\n",
       "      <th></th>\n",
       "    </tr>\n",
       "  </thead>\n",
       "  <tbody>\n",
       "    <tr>\n",
       "      <th>Strongly Agree</th>\n",
       "      <td>7.142857</td>\n",
       "      <td>8.695652</td>\n",
       "      <td>7.843137</td>\n",
       "      <td>2.777778</td>\n",
       "      <td>16.0</td>\n",
       "      <td>19.230769</td>\n",
       "      <td>8.510638</td>\n",
       "      <td>8.333333</td>\n",
       "      <td>3.448276</td>\n",
       "      <td>16.326531</td>\n",
       "    </tr>\n",
       "    <tr>\n",
       "      <th>Agree</th>\n",
       "      <td>14.285714</td>\n",
       "      <td>30.434783</td>\n",
       "      <td>39.215686</td>\n",
       "      <td>33.333333</td>\n",
       "      <td>34.0</td>\n",
       "      <td>28.846154</td>\n",
       "      <td>25.531915</td>\n",
       "      <td>33.333333</td>\n",
       "      <td>24.137931</td>\n",
       "      <td>28.571429</td>\n",
       "    </tr>\n",
       "    <tr>\n",
       "      <th>Neither Agree nor Disagree</th>\n",
       "      <td>28.571429</td>\n",
       "      <td>30.434783</td>\n",
       "      <td>27.450980</td>\n",
       "      <td>36.111111</td>\n",
       "      <td>16.0</td>\n",
       "      <td>28.846154</td>\n",
       "      <td>34.042553</td>\n",
       "      <td>16.666667</td>\n",
       "      <td>44.827586</td>\n",
       "      <td>24.489796</td>\n",
       "    </tr>\n",
       "    <tr>\n",
       "      <th>Disagree</th>\n",
       "      <td>42.857143</td>\n",
       "      <td>26.086957</td>\n",
       "      <td>19.607843</td>\n",
       "      <td>25.000000</td>\n",
       "      <td>28.0</td>\n",
       "      <td>5.769231</td>\n",
       "      <td>25.531915</td>\n",
       "      <td>16.666667</td>\n",
       "      <td>24.137931</td>\n",
       "      <td>28.571429</td>\n",
       "    </tr>\n",
       "    <tr>\n",
       "      <th>Strongly Disagree</th>\n",
       "      <td>7.142857</td>\n",
       "      <td>4.347826</td>\n",
       "      <td>5.882353</td>\n",
       "      <td>2.777778</td>\n",
       "      <td>6.0</td>\n",
       "      <td>17.307692</td>\n",
       "      <td>6.382979</td>\n",
       "      <td>25.000000</td>\n",
       "      <td>3.448276</td>\n",
       "      <td>2.040816</td>\n",
       "    </tr>\n",
       "  </tbody>\n",
       "</table>\n",
       "</div>"
      ],
      "text/plain": [
       "desk                               S1         S2         S3         S4    S5  \\\n",
       "Q2                                                                             \n",
       "Strongly Agree               7.142857   8.695652   7.843137   2.777778  16.0   \n",
       "Agree                       14.285714  30.434783  39.215686  33.333333  34.0   \n",
       "Neither Agree nor Disagree  28.571429  30.434783  27.450980  36.111111  16.0   \n",
       "Disagree                    42.857143  26.086957  19.607843  25.000000  28.0   \n",
       "Strongly Disagree            7.142857   4.347826   5.882353   2.777778   6.0   \n",
       "\n",
       "desk                               S6         S7         S8         S9  \\\n",
       "Q2                                                                       \n",
       "Strongly Agree              19.230769   8.510638   8.333333   3.448276   \n",
       "Agree                       28.846154  25.531915  33.333333  24.137931   \n",
       "Neither Agree nor Disagree  28.846154  34.042553  16.666667  44.827586   \n",
       "Disagree                     5.769231  25.531915  16.666667  24.137931   \n",
       "Strongly Disagree           17.307692   6.382979  25.000000   3.448276   \n",
       "\n",
       "desk                              S10  \n",
       "Q2                                     \n",
       "Strongly Agree              16.326531  \n",
       "Agree                       28.571429  \n",
       "Neither Agree nor Disagree  24.489796  \n",
       "Disagree                    28.571429  \n",
       "Strongly Disagree            2.040816  "
      ]
     },
     "execution_count": 38,
     "metadata": {},
     "output_type": "execute_result"
    },
    {
     "data": {
      "text/plain": [
       "'I have had prior experience in live trading stock /shares'"
      ]
     },
     "execution_count": 38,
     "metadata": {},
     "output_type": "execute_result"
    },
    {
     "data": {
      "text/html": [
       "<div>\n",
       "<style scoped>\n",
       "    .dataframe tbody tr th:only-of-type {\n",
       "        vertical-align: middle;\n",
       "    }\n",
       "\n",
       "    .dataframe tbody tr th {\n",
       "        vertical-align: top;\n",
       "    }\n",
       "\n",
       "    .dataframe thead th {\n",
       "        text-align: right;\n",
       "    }\n",
       "</style>\n",
       "<table border=\"1\" class=\"dataframe\">\n",
       "  <thead>\n",
       "    <tr style=\"text-align: right;\">\n",
       "      <th>desk</th>\n",
       "      <th>S1</th>\n",
       "      <th>S2</th>\n",
       "      <th>S3</th>\n",
       "      <th>S4</th>\n",
       "      <th>S5</th>\n",
       "      <th>S6</th>\n",
       "      <th>S7</th>\n",
       "      <th>S8</th>\n",
       "      <th>S9</th>\n",
       "      <th>S10</th>\n",
       "    </tr>\n",
       "    <tr>\n",
       "      <th>Q30</th>\n",
       "      <th></th>\n",
       "      <th></th>\n",
       "      <th></th>\n",
       "      <th></th>\n",
       "      <th></th>\n",
       "      <th></th>\n",
       "      <th></th>\n",
       "      <th></th>\n",
       "      <th></th>\n",
       "      <th></th>\n",
       "    </tr>\n",
       "  </thead>\n",
       "  <tbody>\n",
       "    <tr>\n",
       "      <th>No</th>\n",
       "      <td>57.142857</td>\n",
       "      <td>78.26087</td>\n",
       "      <td>76.470588</td>\n",
       "      <td>86.111111</td>\n",
       "      <td>84.0</td>\n",
       "      <td>78.846154</td>\n",
       "      <td>78.723404</td>\n",
       "      <td>75.0</td>\n",
       "      <td>89.655172</td>\n",
       "      <td>77.55102</td>\n",
       "    </tr>\n",
       "    <tr>\n",
       "      <th>Yes</th>\n",
       "      <td>42.857143</td>\n",
       "      <td>21.73913</td>\n",
       "      <td>23.529412</td>\n",
       "      <td>13.888889</td>\n",
       "      <td>16.0</td>\n",
       "      <td>21.153846</td>\n",
       "      <td>21.276596</td>\n",
       "      <td>25.0</td>\n",
       "      <td>10.344828</td>\n",
       "      <td>22.44898</td>\n",
       "    </tr>\n",
       "  </tbody>\n",
       "</table>\n",
       "</div>"
      ],
      "text/plain": [
       "desk         S1        S2         S3         S4    S5         S6         S7  \\\n",
       "Q30                                                                           \n",
       "No    57.142857  78.26087  76.470588  86.111111  84.0  78.846154  78.723404   \n",
       "Yes   42.857143  21.73913  23.529412  13.888889  16.0  21.153846  21.276596   \n",
       "\n",
       "desk    S8         S9       S10  \n",
       "Q30                              \n",
       "No    75.0  89.655172  77.55102  \n",
       "Yes   25.0  10.344828  22.44898  "
      ]
     },
     "execution_count": 38,
     "metadata": {},
     "output_type": "execute_result"
    }
   ],
   "source": [
    "# Set up desks to cross tab each question\n",
    "Q2_desks = pd.crosstab(data_sav['Q2'].\\\n",
    "        map(meta.variable_value_labels['Q2']), \\\n",
    "        data_sav['desk'].map(meta.variable_value_labels['desk']), \\\n",
    "        dropna=True, normalize='columns'). \\\n",
    "        loc[meta.variable_value_labels['Q2'].values()]. \\\n",
    "        loc[:,meta.variable_value_labels['desk'].values()]*100\n",
    "\n",
    "Q30_desks = pd.crosstab(data_sav['Q30'].\\\n",
    "        map(meta.variable_value_labels['Q30']), \\\n",
    "        data_sav['desk'].map(meta.variable_value_labels['desk']), \\\n",
    "        dropna=True, normalize='columns'). \\\n",
    "        loc[meta.variable_value_labels['Q30'].values()]. \\\n",
    "        loc[:,meta.variable_value_labels['desk'].values()]*100\n",
    "\n",
    "# Most popular response from each desk:\n",
    "meta_dict['Q2']\n",
    "Q2_desks # Focus is on S1, where Disagree was the most popular choice.\n",
    "\n",
    "meta_dict['Q30']\n",
    "Q30_desks # S1 also had the greatest number of 'experienced' traders (~43%)."
   ]
  },
  {
   "cell_type": "markdown",
   "metadata": {},
   "source": [
    "## * Desk S1, 42.8% Disagreed to Q2\n",
    "## * Desk S1, 42.8% had prior stock market experience"
   ]
  },
  {
   "cell_type": "code",
   "execution_count": 53,
   "metadata": {},
   "outputs": [
    {
     "data": {
      "text/html": [
       "<div>\n",
       "<style scoped>\n",
       "    .dataframe tbody tr th:only-of-type {\n",
       "        vertical-align: middle;\n",
       "    }\n",
       "\n",
       "    .dataframe tbody tr th {\n",
       "        vertical-align: top;\n",
       "    }\n",
       "\n",
       "    .dataframe thead th {\n",
       "        text-align: right;\n",
       "    }\n",
       "</style>\n",
       "<table border=\"1\" class=\"dataframe\">\n",
       "  <thead>\n",
       "    <tr style=\"text-align: right;\">\n",
       "      <th></th>\n",
       "      <th>Desk</th>\n",
       "      <th>Sum of Returns</th>\n",
       "    </tr>\n",
       "  </thead>\n",
       "  <tbody>\n",
       "    <tr>\n",
       "      <th>0</th>\n",
       "      <td>S1</td>\n",
       "      <td>-646.499457</td>\n",
       "    </tr>\n",
       "    <tr>\n",
       "      <th>1</th>\n",
       "      <td>S2</td>\n",
       "      <td>-1459.499882</td>\n",
       "    </tr>\n",
       "    <tr>\n",
       "      <th>2</th>\n",
       "      <td>S3</td>\n",
       "      <td>-8902.198635</td>\n",
       "    </tr>\n",
       "    <tr>\n",
       "      <th>3</th>\n",
       "      <td>S4</td>\n",
       "      <td>-1200.498502</td>\n",
       "    </tr>\n",
       "    <tr>\n",
       "      <th>4</th>\n",
       "      <td>S5</td>\n",
       "      <td>-4942.000158</td>\n",
       "    </tr>\n",
       "    <tr>\n",
       "      <th>5</th>\n",
       "      <td>S6</td>\n",
       "      <td>-1637.399082</td>\n",
       "    </tr>\n",
       "    <tr>\n",
       "      <th>6</th>\n",
       "      <td>S7</td>\n",
       "      <td>-2278.098918</td>\n",
       "    </tr>\n",
       "    <tr>\n",
       "      <th>7</th>\n",
       "      <td>S8</td>\n",
       "      <td>-930.199340</td>\n",
       "    </tr>\n",
       "    <tr>\n",
       "      <th>8</th>\n",
       "      <td>S9</td>\n",
       "      <td>-649.499737</td>\n",
       "    </tr>\n",
       "    <tr>\n",
       "      <th>9</th>\n",
       "      <td>S10</td>\n",
       "      <td>-4129.299503</td>\n",
       "    </tr>\n",
       "  </tbody>\n",
       "</table>\n",
       "</div>"
      ],
      "text/plain": [
       "  Desk  Sum of Returns\n",
       "0   S1     -646.499457\n",
       "1   S2    -1459.499882\n",
       "2   S3    -8902.198635\n",
       "3   S4    -1200.498502\n",
       "4   S5    -4942.000158\n",
       "5   S6    -1637.399082\n",
       "6   S7    -2278.098918\n",
       "7   S8     -930.199340\n",
       "8   S9     -649.499737\n",
       "9  S10    -4129.299503"
      ]
     },
     "execution_count": 53,
     "metadata": {},
     "output_type": "execute_result"
    },
    {
     "data": {
      "text/plain": [
       "-26775.193214"
      ]
     },
     "execution_count": 53,
     "metadata": {},
     "output_type": "execute_result"
    },
    {
     "data": {
      "text/plain": [
       "<matplotlib.axes._subplots.AxesSubplot at 0x1a23908240>"
      ]
     },
     "execution_count": 53,
     "metadata": {},
     "output_type": "execute_result"
    },
    {
     "data": {
      "text/plain": [
       "S10    48\n",
       "S3     41\n",
       "S4     36\n",
       "S5     28\n",
       "S7     19\n",
       "S6     19\n",
       "S9     18\n",
       "S1     10\n",
       "S8      9\n",
       "S2      8\n",
       "Name: desk, dtype: int64"
      ]
     },
     "execution_count": 53,
     "metadata": {},
     "output_type": "execute_result"
    },
    {
     "data": {
      "text/plain": [
       "F    0.470339\n",
       "M    0.529661\n",
       "Name: Gender, dtype: float64"
      ]
     },
     "execution_count": 53,
     "metadata": {},
     "output_type": "execute_result"
    },
    {
     "data": {
      "image/png": "[encoded data removed]",
      "text/plain": [
       "<Figure size 576x360 with 1 Axes>"
      ]
     },
     "metadata": {
      "needs_background": "light"
     },
     "output_type": "display_data"
    }
   ],
   "source": [
    "# ALL duplicates dropped here because of issues with data.\n",
    "dr_data = data.sort_values('trader', ascending=False)\n",
    "dr_data = dr_data.drop_duplicates(subset='trader')\n",
    "\n",
    "# Splitting desks into their own groups\n",
    "s1 = dr_data[dr_data.desk=='S1']\n",
    "s2 = dr_data[dr_data.desk=='S2']\n",
    "s3 = dr_data[dr_data.desk=='S3']\n",
    "s4 = dr_data[dr_data.desk=='S4']\n",
    "s5 = dr_data[dr_data.desk=='S5']\n",
    "s6 = dr_data[dr_data.desk=='S6']\n",
    "s7 = dr_data[dr_data.desk=='S7']\n",
    "s8 = dr_data[dr_data.desk=='S8']\n",
    "s9 = dr_data[dr_data.desk=='S9']\n",
    "s10 = dr_data[dr_data.desk=='S10']\n",
    "\n",
    "# Now look at the returns of S1, vs the others\n",
    "net_s1 = s1['net'].sum()\n",
    "net_s2 = s2['net'].sum()\n",
    "net_s3 = s3['net'].sum()\n",
    "net_s4 = s4['net'].sum()\n",
    "net_s5 = s5['net'].sum()\n",
    "net_s6 = s6['net'].sum()\n",
    "net_s7 = s7['net'].sum()\n",
    "net_s8 = s8['net'].sum()\n",
    "net_s9 = s9['net'].sum() \n",
    "net_s10 = s10['net'].sum()\n",
    "\n",
    "nets = [['S1', net_s1], ['S2', net_s2], ['S3', net_s3], ['S4', net_s4], ['S5', net_s5], ['S6', net_s6], ['S7', net_s7], ['S8', net_s8], ['S9', net_s9], ['S10', net_s10]]\n",
    "\n",
    "desk_nets = pd.DataFrame(nets, columns = ['Desk', 'Sum of Returns'])\n",
    "\n",
    "desk_nets\n",
    "\n",
    "# Sum of all nets\n",
    "dr_data['net'].sum()\n",
    "\n",
    "# Plot of nets for each desk\n",
    "desk_nets.plot(figsize=(8,5))\n",
    "\n",
    "\n",
    "# Count of traders per desk\n",
    "dr_data['desk'].value_counts()\n",
    "\n",
    "# Male to Female Ratio\n",
    "dr_data['Gender'].value_counts(normalize=True).sort_index()"
   ]
  },
  {
   "cell_type": "markdown",
   "metadata": {},
   "source": [
    "## * Every desk lost money/Seems that all of the traders collectively lost money. \n",
    "## * S1 lost the least and had the > # of experienced, but also had less traders at its desk.\n",
    "## * Therefore, this analysis is inconclusive to any conclusion if S1 was any better than the rest."
   ]
  },
  {
   "cell_type": "markdown",
   "metadata": {},
   "source": [
    "***\n",
    "\n",
    "# Volume Weighted Average Price Analysis"
   ]
  },
  {
   "cell_type": "markdown",
   "metadata": {},
   "source": [
    "## Desk 1 VWAP Analysis"
   ]
  },
  {
   "cell_type": "code",
   "execution_count": 102,
   "metadata": {},
   "outputs": [
    {
     "data": {
      "text/plain": [
       "<matplotlib.axes._subplots.AxesSubplot at 0x1a22d44f98>"
      ]
     },
     "execution_count": 102,
     "metadata": {},
     "output_type": "execute_result"
    },
    {
     "data": {
      "text/plain": [
       "<matplotlib.axes._subplots.AxesSubplot at 0x1a22fff470>"
      ]
     },
     "execution_count": 102,
     "metadata": {},
     "output_type": "execute_result"
    },
    {
     "data": {
      "text/html": [
       "<div>\n",
       "<style scoped>\n",
       "    .dataframe tbody tr th:only-of-type {\n",
       "        vertical-align: middle;\n",
       "    }\n",
       "\n",
       "    .dataframe tbody tr th {\n",
       "        vertical-align: top;\n",
       "    }\n",
       "\n",
       "    .dataframe thead th {\n",
       "        text-align: right;\n",
       "    }\n",
       "</style>\n",
       "<table border=\"1\" class=\"dataframe\">\n",
       "  <thead>\n",
       "    <tr style=\"text-align: right;\">\n",
       "      <th></th>\n",
       "      <th>vwap</th>\n",
       "      <th>price</th>\n",
       "      <th>PVWAP</th>\n",
       "    </tr>\n",
       "    <tr>\n",
       "      <th>trader</th>\n",
       "      <th></th>\n",
       "      <th></th>\n",
       "      <th></th>\n",
       "    </tr>\n",
       "  </thead>\n",
       "  <tbody>\n",
       "    <tr>\n",
       "      <th>3A08</th>\n",
       "      <td>20.356805</td>\n",
       "      <td>20.400000</td>\n",
       "      <td>0.043195</td>\n",
       "    </tr>\n",
       "    <tr>\n",
       "      <th>3B08</th>\n",
       "      <td>20.337701</td>\n",
       "      <td>20.600000</td>\n",
       "      <td>0.262299</td>\n",
       "    </tr>\n",
       "    <tr>\n",
       "      <th>1b 2</th>\n",
       "      <td>20.350033</td>\n",
       "      <td>20.800001</td>\n",
       "      <td>0.449968</td>\n",
       "    </tr>\n",
       "  </tbody>\n",
       "</table>\n",
       "</div>"
      ],
      "text/plain": [
       "             vwap      price     PVWAP\n",
       "trader                                \n",
       "3A08    20.356805  20.400000  0.043195\n",
       "3B08    20.337701  20.600000  0.262299\n",
       "1b 2    20.350033  20.800001  0.449968"
      ]
     },
     "execution_count": 102,
     "metadata": {},
     "output_type": "execute_result"
    },
    {
     "data": {
      "image/png": "[encoded data removed]",
      "text/plain": [
       "<Figure size 432x288 with 1 Axes>"
      ]
     },
     "metadata": {
      "needs_background": "light"
     },
     "output_type": "display_data"
    },
    {
     "data": {
      "image/png": "[encoded data removed]",
      "text/plain": [
       "<Figure size 432x288 with 1 Axes>"
      ]
     },
     "metadata": {
      "needs_background": "light"
     },
     "output_type": "display_data"
    }
   ],
   "source": [
    "# Desk 1 VWAP - Price\n",
    "\n",
    "# Pull trader, vwap, price\n",
    "s1_vp = s1[[\"trader\",\"vwap\",\"price\"]]\n",
    "s1_vp.set_index('trader', inplace=True)\n",
    "\n",
    "# subtract and store price - vwap as PVWAP\n",
    "vp1_diff = pd.DataFrame(s1_vp,columns= ['vwap','price']) \n",
    "vp1_diff['PVWAP'] = vp1_diff['price'] - vp1_diff['vwap']\n",
    "\n",
    "# Plot price & vwap\n",
    "s1_vp.plot()\n",
    "\n",
    "# trader nets from desk\n",
    "s1_net = s1[[\"trader\",\"net\"]]\n",
    "s1_net.set_index('trader', inplace=True)\n",
    "s1_net.plot()\n",
    "\n",
    "# finding the closest price to vwap\n",
    "g0_1 = vp1_diff[vp1_diff.PVWAP > 0]\n",
    "g0_1 = g0_1[g0_1.PVWAP < .5]\n",
    "g0_1.sort_values('PVWAP', ascending=True)"
   ]
  },
  {
   "cell_type": "code",
   "execution_count": 58,
   "metadata": {},
   "outputs": [
    {
     "data": {
      "text/plain": [
       "354   -85.799901\n",
       "Name: net, dtype: float64"
      ]
     },
     "execution_count": 58,
     "metadata": {},
     "output_type": "execute_result"
    },
    {
     "data": {
      "text/plain": [
       "353    14.0\n",
       "Name: net, dtype: float64"
      ]
     },
     "execution_count": 58,
     "metadata": {},
     "output_type": "execute_result"
    },
    {
     "data": {
      "text/plain": [
       "357   -31.700065\n",
       "Name: net, dtype: float64"
      ]
     },
     "execution_count": 58,
     "metadata": {},
     "output_type": "execute_result"
    }
   ],
   "source": [
    "# Looking at trades from closest to vwap (closest first)\n",
    "trader_3A08 = s1[s1.trader=='3A08']\n",
    "trader_3A08['net'] # Loss\n",
    "\n",
    "trader_3B08 = s1[s1.trader=='3B08']\n",
    "trader_3B08['net'] # Gain\n",
    "\n",
    "trader_1b_2 = s1[s1.trader=='1b 2']\n",
    "trader_1b_2['net'] # Loss"
   ]
  },
  {
   "cell_type": "markdown",
   "metadata": {},
   "source": [
    "## Desk 2 VWAP Analysis"
   ]
  },
  {
   "cell_type": "code",
   "execution_count": 103,
   "metadata": {},
   "outputs": [
    {
     "data": {
      "text/plain": [
       "<matplotlib.axes._subplots.AxesSubplot at 0x1a23238f28>"
      ]
     },
     "execution_count": 103,
     "metadata": {},
     "output_type": "execute_result"
    },
    {
     "data": {
      "text/plain": [
       "<matplotlib.axes._subplots.AxesSubplot at 0x1a20a65320>"
      ]
     },
     "execution_count": 103,
     "metadata": {},
     "output_type": "execute_result"
    },
    {
     "data": {
      "text/html": [
       "<div>\n",
       "<style scoped>\n",
       "    .dataframe tbody tr th:only-of-type {\n",
       "        vertical-align: middle;\n",
       "    }\n",
       "\n",
       "    .dataframe tbody tr th {\n",
       "        vertical-align: top;\n",
       "    }\n",
       "\n",
       "    .dataframe thead th {\n",
       "        text-align: right;\n",
       "    }\n",
       "</style>\n",
       "<table border=\"1\" class=\"dataframe\">\n",
       "  <thead>\n",
       "    <tr style=\"text-align: right;\">\n",
       "      <th></th>\n",
       "      <th>vwap</th>\n",
       "      <th>price</th>\n",
       "      <th>PVWAP</th>\n",
       "    </tr>\n",
       "    <tr>\n",
       "      <th>trader</th>\n",
       "      <th></th>\n",
       "      <th></th>\n",
       "      <th></th>\n",
       "    </tr>\n",
       "  </thead>\n",
       "  <tbody>\n",
       "    <tr>\n",
       "      <th>108T</th>\n",
       "      <td>20.294984</td>\n",
       "      <td>20.5</td>\n",
       "      <td>0.205016</td>\n",
       "    </tr>\n",
       "    <tr>\n",
       "      <th>1008</th>\n",
       "      <td>20.294291</td>\n",
       "      <td>20.9</td>\n",
       "      <td>0.605709</td>\n",
       "    </tr>\n",
       "    <tr>\n",
       "      <th>208T</th>\n",
       "      <td>20.331804</td>\n",
       "      <td>21.0</td>\n",
       "      <td>0.668196</td>\n",
       "    </tr>\n",
       "    <tr>\n",
       "      <th>908T</th>\n",
       "      <td>20.319205</td>\n",
       "      <td>21.0</td>\n",
       "      <td>0.680795</td>\n",
       "    </tr>\n",
       "  </tbody>\n",
       "</table>\n",
       "</div>"
      ],
      "text/plain": [
       "             vwap  price     PVWAP\n",
       "trader                            \n",
       "108T    20.294984   20.5  0.205016\n",
       "1008    20.294291   20.9  0.605709\n",
       "208T    20.331804   21.0  0.668196\n",
       "908T    20.319205   21.0  0.680795"
      ]
     },
     "execution_count": 103,
     "metadata": {},
     "output_type": "execute_result"
    },
    {
     "data": {
      "image/png": "[encoded data removed]",
      "text/plain": [
       "<Figure size 432x288 with 1 Axes>"
      ]
     },
     "metadata": {
      "needs_background": "light"
     },
     "output_type": "display_data"
    },
    {
     "data": {
      "image/png": "[encoded data removed]",
      "text/plain": [
       "<Figure size 432x288 with 1 Axes>"
      ]
     },
     "metadata": {
      "needs_background": "light"
     },
     "output_type": "display_data"
    }
   ],
   "source": [
    "# Desk 2 VWAP - Price\n",
    "\n",
    "# Pull trader, vwap, price\n",
    "s2_vp = s2[[\"trader\",\"vwap\",\"price\"]]\n",
    "s2_vp.set_index('trader', inplace=True)\n",
    "\n",
    "# subtract and store price - vwap as PVWAP\n",
    "vp2_diff = pd.DataFrame(s2_vp,columns= ['vwap','price']) \n",
    "vp2_diff['PVWAP'] = vp2_diff['price'] - vp2_diff['vwap']\n",
    "\n",
    "# Plot price & vwap\n",
    "s2_vp.plot()\n",
    "\n",
    "# trader nets from desk\n",
    "s2_net = s2[[\"trader\",\"net\"]]\n",
    "s2_net.set_index('trader', inplace=True)\n",
    "s2_net.plot()\n",
    "\n",
    "# finding the closest price to vwap\n",
    "g0_2 = vp2_diff[vp2_diff.PVWAP > 0]\n",
    "g0_2 = g0_2[g0_2.PVWAP < .7]\n",
    "g0_2.sort_values('PVWAP', ascending=True)"
   ]
  },
  {
   "cell_type": "code",
   "execution_count": 66,
   "metadata": {},
   "outputs": [
    {
     "data": {
      "text/plain": [
       "116    79.4\n",
       "Name: net, dtype: float64"
      ]
     },
     "execution_count": 66,
     "metadata": {},
     "output_type": "execute_result"
    },
    {
     "data": {
      "text/plain": [
       "120    50.8\n",
       "Name: net, dtype: float64"
      ]
     },
     "execution_count": 66,
     "metadata": {},
     "output_type": "execute_result"
    },
    {
     "data": {
      "text/plain": [
       "107   -23.499995\n",
       "Name: net, dtype: float64"
      ]
     },
     "execution_count": 66,
     "metadata": {},
     "output_type": "execute_result"
    },
    {
     "data": {
      "text/plain": [
       "83   -72.799793\n",
       "Name: net, dtype: float64"
      ]
     },
     "execution_count": 66,
     "metadata": {},
     "output_type": "execute_result"
    }
   ],
   "source": [
    "# Looking at trades from closest to vwap (closest first)\n",
    "trader_108T = s2[s2.trader=='108T']\n",
    "trader_108T['net'] # Gain\n",
    "\n",
    "trader_1008 = s2[s2.trader=='1008']\n",
    "trader_1008['net'] # Gain\n",
    "\n",
    "trader_208T = s2[s2.trader=='208T']\n",
    "trader_208T['net'] # Loss\n",
    "\n",
    "trader_908T = s2[s2.trader=='908T']\n",
    "trader_908T['net'] # Loss"
   ]
  },
  {
   "cell_type": "markdown",
   "metadata": {},
   "source": [
    "## Desk 3 VWAP Analysis"
   ]
  },
  {
   "cell_type": "code",
   "execution_count": 104,
   "metadata": {},
   "outputs": [
    {
     "data": {
      "text/plain": [
       "<matplotlib.axes._subplots.AxesSubplot at 0x1a20b83e48>"
      ]
     },
     "execution_count": 104,
     "metadata": {},
     "output_type": "execute_result"
    },
    {
     "data": {
      "text/plain": [
       "<matplotlib.axes._subplots.AxesSubplot at 0x1a22d4bac8>"
      ]
     },
     "execution_count": 104,
     "metadata": {},
     "output_type": "execute_result"
    },
    {
     "data": {
      "text/html": [
       "<div>\n",
       "<style scoped>\n",
       "    .dataframe tbody tr th:only-of-type {\n",
       "        vertical-align: middle;\n",
       "    }\n",
       "\n",
       "    .dataframe tbody tr th {\n",
       "        vertical-align: top;\n",
       "    }\n",
       "\n",
       "    .dataframe thead th {\n",
       "        text-align: right;\n",
       "    }\n",
       "</style>\n",
       "<table border=\"1\" class=\"dataframe\">\n",
       "  <thead>\n",
       "    <tr style=\"text-align: right;\">\n",
       "      <th></th>\n",
       "      <th>vwap</th>\n",
       "      <th>price</th>\n",
       "      <th>PVWAP</th>\n",
       "    </tr>\n",
       "    <tr>\n",
       "      <th>trader</th>\n",
       "      <th></th>\n",
       "      <th></th>\n",
       "      <th></th>\n",
       "    </tr>\n",
       "  </thead>\n",
       "  <tbody>\n",
       "    <tr>\n",
       "      <th>2b08</th>\n",
       "      <td>20.086159</td>\n",
       "      <td>20.1</td>\n",
       "      <td>0.013841</td>\n",
       "    </tr>\n",
       "    <tr>\n",
       "      <th>11A0</th>\n",
       "      <td>20.270716</td>\n",
       "      <td>20.3</td>\n",
       "      <td>0.029284</td>\n",
       "    </tr>\n",
       "    <tr>\n",
       "      <th>10b0</th>\n",
       "      <td>20.300298</td>\n",
       "      <td>20.4</td>\n",
       "      <td>0.099702</td>\n",
       "    </tr>\n",
       "  </tbody>\n",
       "</table>\n",
       "</div>"
      ],
      "text/plain": [
       "             vwap  price     PVWAP\n",
       "trader                            \n",
       "2b08    20.086159   20.1  0.013841\n",
       "11A0    20.270716   20.3  0.029284\n",
       "10b0    20.300298   20.4  0.099702"
      ]
     },
     "execution_count": 104,
     "metadata": {},
     "output_type": "execute_result"
    },
    {
     "data": {
      "image/png": "[encoded data removed]",
      "text/plain": [
       "<Figure size 432x288 with 1 Axes>"
      ]
     },
     "metadata": {
      "needs_background": "light"
     },
     "output_type": "display_data"
    },
    {
     "data": {
      "image/png": "[encoded data removed]",
      "text/plain": [
       "<Figure size 432x288 with 1 Axes>"
      ]
     },
     "metadata": {
      "needs_background": "light"
     },
     "output_type": "display_data"
    }
   ],
   "source": [
    "# Desk 3 VWAP - Price\n",
    "\n",
    "# Pull trader, vwap, price\n",
    "s3_vp = s3[[\"trader\",\"vwap\",\"price\"]]\n",
    "s3_vp.set_index('trader', inplace=True)\n",
    "\n",
    "# subtract and store price - vwap as PVWAP\n",
    "vp3_diff = pd.DataFrame(s3_vp,columns= ['vwap','price']) \n",
    "vp3_diff['PVWAP'] = vp3_diff['price'] - vp3_diff['vwap']\n",
    "\n",
    "# Plot price & vwap\n",
    "s3_vp.plot()\n",
    "\n",
    "# trader nets from desk\n",
    "s3_net = s3[[\"trader\",\"net\"]]\n",
    "s3_net.set_index('trader', inplace=True)\n",
    "s3_net.plot()\n",
    "\n",
    "# finding the closest price to vwap\n",
    "g0_3 = vp3_diff[vp3_diff.PVWAP > 0]\n",
    "g0_3 = g0_3[g0_3.PVWAP < .1]\n",
    "g0_3.sort_values('PVWAP', ascending=True)"
   ]
  },
  {
   "cell_type": "code",
   "execution_count": 71,
   "metadata": {},
   "outputs": [
    {
     "data": {
      "text/plain": [
       "327    29.9\n",
       "Name: net, dtype: float64"
      ]
     },
     "execution_count": 71,
     "metadata": {},
     "output_type": "execute_result"
    },
    {
     "data": {
      "text/plain": [
       "344   -31.1\n",
       "Name: net, dtype: float64"
      ]
     },
     "execution_count": 71,
     "metadata": {},
     "output_type": "execute_result"
    },
    {
     "data": {
      "text/plain": [
       "345   -131.2\n",
       "Name: net, dtype: float64"
      ]
     },
     "execution_count": 71,
     "metadata": {},
     "output_type": "execute_result"
    }
   ],
   "source": [
    "# Looking at trades from closest to vwap (closest first)\n",
    "trader_2b08 = s3[s3.trader=='2b08']\n",
    "trader_2b08['net'] # Gain\n",
    "\n",
    "trader_11A0 = s3[s3.trader=='11A0']\n",
    "trader_11A0['net'] # Loss\n",
    "\n",
    "trader_10b0 = s3[s3.trader=='10b0']\n",
    "trader_10b0['net'] # Loss"
   ]
  },
  {
   "cell_type": "markdown",
   "metadata": {},
   "source": [
    "## Desk 4 VWAP Analysis"
   ]
  },
  {
   "cell_type": "code",
   "execution_count": 75,
   "metadata": {},
   "outputs": [
    {
     "data": {
      "text/plain": [
       "<matplotlib.axes._subplots.AxesSubplot at 0x1a20b15a58>"
      ]
     },
     "execution_count": 75,
     "metadata": {},
     "output_type": "execute_result"
    },
    {
     "data": {
      "text/plain": [
       "<matplotlib.axes._subplots.AxesSubplot at 0x1a238ff588>"
      ]
     },
     "execution_count": 75,
     "metadata": {},
     "output_type": "execute_result"
    },
    {
     "data": {
      "text/html": [
       "<div>\n",
       "<style scoped>\n",
       "    .dataframe tbody tr th:only-of-type {\n",
       "        vertical-align: middle;\n",
       "    }\n",
       "\n",
       "    .dataframe tbody tr th {\n",
       "        vertical-align: top;\n",
       "    }\n",
       "\n",
       "    .dataframe thead th {\n",
       "        text-align: right;\n",
       "    }\n",
       "</style>\n",
       "<table border=\"1\" class=\"dataframe\">\n",
       "  <thead>\n",
       "    <tr style=\"text-align: right;\">\n",
       "      <th></th>\n",
       "      <th>vwap</th>\n",
       "      <th>price</th>\n",
       "      <th>PVWAP</th>\n",
       "    </tr>\n",
       "    <tr>\n",
       "      <th>trader</th>\n",
       "      <th></th>\n",
       "      <th></th>\n",
       "      <th></th>\n",
       "    </tr>\n",
       "  </thead>\n",
       "  <tbody>\n",
       "    <tr>\n",
       "      <th>8a09</th>\n",
       "      <td>20.355984</td>\n",
       "      <td>20.5</td>\n",
       "      <td>0.144016</td>\n",
       "    </tr>\n",
       "    <tr>\n",
       "      <th>809T</th>\n",
       "      <td>20.350987</td>\n",
       "      <td>20.5</td>\n",
       "      <td>0.149013</td>\n",
       "    </tr>\n",
       "    <tr>\n",
       "      <th>6b09</th>\n",
       "      <td>20.231147</td>\n",
       "      <td>20.4</td>\n",
       "      <td>0.168853</td>\n",
       "    </tr>\n",
       "    <tr>\n",
       "      <th>7C09</th>\n",
       "      <td>20.210488</td>\n",
       "      <td>20.4</td>\n",
       "      <td>0.189512</td>\n",
       "    </tr>\n",
       "    <tr>\n",
       "      <th>209T</th>\n",
       "      <td>20.309023</td>\n",
       "      <td>20.5</td>\n",
       "      <td>0.190977</td>\n",
       "    </tr>\n",
       "  </tbody>\n",
       "</table>\n",
       "</div>"
      ],
      "text/plain": [
       "             vwap  price     PVWAP\n",
       "trader                            \n",
       "8a09    20.355984   20.5  0.144016\n",
       "809T    20.350987   20.5  0.149013\n",
       "6b09    20.231147   20.4  0.168853\n",
       "7C09    20.210488   20.4  0.189512\n",
       "209T    20.309023   20.5  0.190977"
      ]
     },
     "execution_count": 75,
     "metadata": {},
     "output_type": "execute_result"
    },
    {
     "data": {
      "image/png": "[encoded data removed]",
      "text/plain": [
       "<Figure size 432x288 with 1 Axes>"
      ]
     },
     "metadata": {
      "needs_background": "light"
     },
     "output_type": "display_data"
    },
    {
     "data": {
      "image/png": "[encoded data removed]",
      "text/plain": [
       "<Figure size 432x288 with 1 Axes>"
      ]
     },
     "metadata": {
      "needs_background": "light"
     },
     "output_type": "display_data"
    }
   ],
   "source": [
    "# Desk 4 VWAP - Price\n",
    "\n",
    "# Pull trader, vwap, price\n",
    "s4_vp = s4[[\"trader\",\"vwap\",\"price\"]]\n",
    "s4_vp.set_index('trader', inplace=True)\n",
    "\n",
    "# subtract and store price - vwap as PVWAP\n",
    "vp4_diff = pd.DataFrame(s4_vp,columns= ['vwap','price']) \n",
    "vp4_diff['PVWAP'] = vp4_diff['price'] - vp4_diff['vwap']\n",
    "\n",
    "# Plot price & vwap\n",
    "s4_vp.plot()\n",
    "\n",
    "# trader nets from desk\n",
    "s4_net = s4[[\"trader\",\"net\"]]\n",
    "s4_net.set_index('trader', inplace=True)\n",
    "s4_net.plot()\n",
    "\n",
    "# finding the closest price to vwap\n",
    "g0_4 = vp4_diff[vp4_diff.PVWAP > 0]\n",
    "g0_4 = g0_4[g0_4.PVWAP < .2]\n",
    "g0_4.sort_values('PVWAP', ascending=True)"
   ]
  },
  {
   "cell_type": "code",
   "execution_count": 76,
   "metadata": {},
   "outputs": [
    {
     "data": {
      "text/plain": [
       "293   -34.599965\n",
       "Name: net, dtype: float64"
      ]
     },
     "execution_count": 76,
     "metadata": {},
     "output_type": "execute_result"
    },
    {
     "data": {
      "text/plain": [
       "59   -20.099951\n",
       "Name: net, dtype: float64"
      ]
     },
     "execution_count": 76,
     "metadata": {},
     "output_type": "execute_result"
    },
    {
     "data": {
      "text/plain": [
       "298    6.400297\n",
       "Name: net, dtype: float64"
      ]
     },
     "execution_count": 76,
     "metadata": {},
     "output_type": "execute_result"
    },
    {
     "data": {
      "text/plain": [
       "294    29.60031\n",
       "Name: net, dtype: float64"
      ]
     },
     "execution_count": 76,
     "metadata": {},
     "output_type": "execute_result"
    },
    {
     "data": {
      "text/plain": [
       "65   -29.0\n",
       "Name: net, dtype: float64"
      ]
     },
     "execution_count": 76,
     "metadata": {},
     "output_type": "execute_result"
    }
   ],
   "source": [
    "# Looking at trades from closest to vwap (closest first)\n",
    "trader_8a09 = s4[s4.trader=='8a09']\n",
    "trader_8a09['net'] # Loss\n",
    "\n",
    "trader_809T = s4[s4.trader=='809T']\n",
    "trader_809T['net'] # Loss\n",
    "\n",
    "trader_6b09 = s4[s4.trader=='6b09']\n",
    "trader_6b09['net'] # Gain\n",
    "\n",
    "trader_7C09 = s4[s4.trader=='7C09']\n",
    "trader_7C09['net'] # Gain\n",
    "\n",
    "trader_209T = s4[s4.trader=='209T']\n",
    "trader_209T['net'] # Loss"
   ]
  },
  {
   "cell_type": "markdown",
   "metadata": {},
   "source": [
    "## Desk 5 VWAP Analysis"
   ]
  },
  {
   "cell_type": "code",
   "execution_count": 79,
   "metadata": {},
   "outputs": [
    {
     "data": {
      "text/plain": [
       "<matplotlib.axes._subplots.AxesSubplot at 0x1a233cbe10>"
      ]
     },
     "execution_count": 79,
     "metadata": {},
     "output_type": "execute_result"
    },
    {
     "data": {
      "text/plain": [
       "<matplotlib.axes._subplots.AxesSubplot at 0x1a20b3b358>"
      ]
     },
     "execution_count": 79,
     "metadata": {},
     "output_type": "execute_result"
    },
    {
     "data": {
      "text/html": [
       "<div>\n",
       "<style scoped>\n",
       "    .dataframe tbody tr th:only-of-type {\n",
       "        vertical-align: middle;\n",
       "    }\n",
       "\n",
       "    .dataframe tbody tr th {\n",
       "        vertical-align: top;\n",
       "    }\n",
       "\n",
       "    .dataframe thead th {\n",
       "        text-align: right;\n",
       "    }\n",
       "</style>\n",
       "<table border=\"1\" class=\"dataframe\">\n",
       "  <thead>\n",
       "    <tr style=\"text-align: right;\">\n",
       "      <th></th>\n",
       "      <th>vwap</th>\n",
       "      <th>price</th>\n",
       "      <th>PVWAP</th>\n",
       "    </tr>\n",
       "    <tr>\n",
       "      <th>trader</th>\n",
       "      <th></th>\n",
       "      <th></th>\n",
       "      <th></th>\n",
       "    </tr>\n",
       "  </thead>\n",
       "  <tbody>\n",
       "    <tr>\n",
       "      <th>3b14</th>\n",
       "      <td>20.329752</td>\n",
       "      <td>20.4</td>\n",
       "      <td>0.070248</td>\n",
       "    </tr>\n",
       "    <tr>\n",
       "      <th>214T</th>\n",
       "      <td>20.175811</td>\n",
       "      <td>20.3</td>\n",
       "      <td>0.124189</td>\n",
       "    </tr>\n",
       "    <tr>\n",
       "      <th>6B14</th>\n",
       "      <td>20.282093</td>\n",
       "      <td>20.5</td>\n",
       "      <td>0.217907</td>\n",
       "    </tr>\n",
       "    <tr>\n",
       "      <th>5b14</th>\n",
       "      <td>20.353553</td>\n",
       "      <td>20.6</td>\n",
       "      <td>0.246447</td>\n",
       "    </tr>\n",
       "  </tbody>\n",
       "</table>\n",
       "</div>"
      ],
      "text/plain": [
       "             vwap  price     PVWAP\n",
       "trader                            \n",
       "3b14    20.329752   20.4  0.070248\n",
       "214T    20.175811   20.3  0.124189\n",
       "6B14    20.282093   20.5  0.217907\n",
       "5b14    20.353553   20.6  0.246447"
      ]
     },
     "execution_count": 79,
     "metadata": {},
     "output_type": "execute_result"
    },
    {
     "data": {
      "image/png": "[encoded data removed]",
      "text/plain": [
       "<Figure size 432x288 with 1 Axes>"
      ]
     },
     "metadata": {
      "needs_background": "light"
     },
     "output_type": "display_data"
    },
    {
     "data": {
      "image/png": "[encoded data removed]",
      "text/plain": [
       "<Figure size 432x288 with 1 Axes>"
      ]
     },
     "metadata": {
      "needs_background": "light"
     },
     "output_type": "display_data"
    }
   ],
   "source": [
    "# Desk 5 VWAP - Price\n",
    "\n",
    "# Pull trader, vwap, price\n",
    "s5_vp = s5[[\"trader\",\"vwap\",\"price\"]]\n",
    "s5_vp.set_index('trader', inplace=True)\n",
    "\n",
    "# subtract and store price - vwap as PVWAP\n",
    "vp5_diff = pd.DataFrame(s5_vp,columns= ['vwap','price']) \n",
    "vp5_diff['PVWAP'] = vp5_diff['price'] - vp5_diff['vwap']\n",
    "\n",
    "# Plot price & vwap\n",
    "s5_vp.plot()\n",
    "\n",
    "# trader nets from desk\n",
    "s5_net = s5[[\"trader\",\"net\"]]\n",
    "s5_net.set_index('trader', inplace=True)\n",
    "s5_net.plot()\n",
    "\n",
    "# finding the closest price to vwap\n",
    "g0_5 = vp5_diff[vp5_diff.PVWAP > 0]\n",
    "g0_5 = g0_5[g0_5.PVWAP < .25]\n",
    "g0_5.sort_values('PVWAP', ascending=True)"
   ]
  },
  {
   "cell_type": "code",
   "execution_count": 80,
   "metadata": {},
   "outputs": [
    {
     "data": {
      "text/plain": [
       "270   -32.9\n",
       "Name: net, dtype: float64"
      ]
     },
     "execution_count": 80,
     "metadata": {},
     "output_type": "execute_result"
    },
    {
     "data": {
      "text/plain": [
       "52   -541.299925\n",
       "Name: net, dtype: float64"
      ]
     },
     "execution_count": 80,
     "metadata": {},
     "output_type": "execute_result"
    },
    {
     "data": {
      "text/plain": [
       "261    11.89996\n",
       "Name: net, dtype: float64"
      ]
     },
     "execution_count": 80,
     "metadata": {},
     "output_type": "execute_result"
    },
    {
     "data": {
      "text/plain": [
       "264   -3.5\n",
       "Name: net, dtype: float64"
      ]
     },
     "execution_count": 80,
     "metadata": {},
     "output_type": "execute_result"
    }
   ],
   "source": [
    "# Looking at trades from closest to vwap (closest first)\n",
    "trader_3b14 = s5[s5.trader=='3b14']\n",
    "trader_3b14['net'] # Loss\n",
    "\n",
    "trader_214T = s5[s5.trader=='214T']\n",
    "trader_214T['net'] # Loss\n",
    "\n",
    "trader_6B14 = s5[s5.trader=='6B14']\n",
    "trader_6B14['net'] # Gain\n",
    "\n",
    "trader_5b14 = s5[s5.trader=='5b14']\n",
    "trader_5b14['net'] # Loss"
   ]
  },
  {
   "cell_type": "markdown",
   "metadata": {},
   "source": [
    "## Desk 6 VWAP Analysis"
   ]
  },
  {
   "cell_type": "code",
   "execution_count": 82,
   "metadata": {},
   "outputs": [
    {
     "data": {
      "text/plain": [
       "<matplotlib.axes._subplots.AxesSubplot at 0x1a230d96a0>"
      ]
     },
     "execution_count": 82,
     "metadata": {},
     "output_type": "execute_result"
    },
    {
     "data": {
      "text/plain": [
       "<matplotlib.axes._subplots.AxesSubplot at 0x1a22ed0ef0>"
      ]
     },
     "execution_count": 82,
     "metadata": {},
     "output_type": "execute_result"
    },
    {
     "data": {
      "text/html": [
       "<div>\n",
       "<style scoped>\n",
       "    .dataframe tbody tr th:only-of-type {\n",
       "        vertical-align: middle;\n",
       "    }\n",
       "\n",
       "    .dataframe tbody tr th {\n",
       "        vertical-align: top;\n",
       "    }\n",
       "\n",
       "    .dataframe thead th {\n",
       "        text-align: right;\n",
       "    }\n",
       "</style>\n",
       "<table border=\"1\" class=\"dataframe\">\n",
       "  <thead>\n",
       "    <tr style=\"text-align: right;\">\n",
       "      <th></th>\n",
       "      <th>vwap</th>\n",
       "      <th>price</th>\n",
       "      <th>PVWAP</th>\n",
       "    </tr>\n",
       "    <tr>\n",
       "      <th>trader</th>\n",
       "      <th></th>\n",
       "      <th></th>\n",
       "      <th></th>\n",
       "    </tr>\n",
       "  </thead>\n",
       "  <tbody>\n",
       "    <tr>\n",
       "      <th>2014</th>\n",
       "      <td>20.236094</td>\n",
       "      <td>20.6</td>\n",
       "      <td>0.363906</td>\n",
       "    </tr>\n",
       "    <tr>\n",
       "      <th>9a14</th>\n",
       "      <td>20.264769</td>\n",
       "      <td>20.7</td>\n",
       "      <td>0.435231</td>\n",
       "    </tr>\n",
       "    <tr>\n",
       "      <th>314T</th>\n",
       "      <td>20.317902</td>\n",
       "      <td>20.8</td>\n",
       "      <td>0.482098</td>\n",
       "    </tr>\n",
       "  </tbody>\n",
       "</table>\n",
       "</div>"
      ],
      "text/plain": [
       "             vwap  price     PVWAP\n",
       "trader                            \n",
       "2014    20.236094   20.6  0.363906\n",
       "9a14    20.264769   20.7  0.435231\n",
       "314T    20.317902   20.8  0.482098"
      ]
     },
     "execution_count": 82,
     "metadata": {},
     "output_type": "execute_result"
    },
    {
     "data": {
      "image/png": "[encoded data removed]",
      "text/plain": [
       "<Figure size 432x288 with 1 Axes>"
      ]
     },
     "metadata": {
      "needs_background": "light"
     },
     "output_type": "display_data"
    },
    {
     "data": {
      "image/png": "[encoded data removed]",
      "text/plain": [
       "<Figure size 432x288 with 1 Axes>"
      ]
     },
     "metadata": {
      "needs_background": "light"
     },
     "output_type": "display_data"
    }
   ],
   "source": [
    "# Desk 6 VWAP - Price\n",
    "\n",
    "# Pull trader, vwap, price\n",
    "s6_vp = s6[[\"trader\",\"vwap\",\"price\"]]\n",
    "s6_vp.set_index('trader', inplace=True)\n",
    "\n",
    "# subtract and store price - vwap as PVWAP\n",
    "vp6_diff = pd.DataFrame(s6_vp,columns= ['vwap','price']) \n",
    "vp6_diff['PVWAP'] = vp6_diff['price'] - vp6_diff['vwap']\n",
    "\n",
    "# Plot price & vwap\n",
    "s6_vp.plot()\n",
    "\n",
    "# trader nets from desk\n",
    "s6_net = s6[[\"trader\",\"net\"]]\n",
    "s6_net.set_index('trader', inplace=True)\n",
    "s6_net.plot()\n",
    "\n",
    "# finding the closest price to vwap\n",
    "g0_6 = vp6_diff[vp6_diff.PVWAP > 0]\n",
    "g0_6 = g0_6[g0_6.PVWAP < .5]\n",
    "g0_6.sort_values('PVWAP', ascending=True)"
   ]
  },
  {
   "cell_type": "code",
   "execution_count": 83,
   "metadata": {},
   "outputs": [
    {
     "data": {
      "text/plain": [
       "38   -81.399688\n",
       "Name: net, dtype: float64"
      ]
     },
     "execution_count": 83,
     "metadata": {},
     "output_type": "execute_result"
    },
    {
     "data": {
      "text/plain": [
       "216   -11.2\n",
       "Name: net, dtype: float64"
      ]
     },
     "execution_count": 83,
     "metadata": {},
     "output_type": "execute_result"
    },
    {
     "data": {
      "text/plain": [
       "36    110.200092\n",
       "Name: net, dtype: float64"
      ]
     },
     "execution_count": 83,
     "metadata": {},
     "output_type": "execute_result"
    }
   ],
   "source": [
    "# Looking at trades from closest to vwap (closest first)\n",
    "trader_2014 = s6[s6.trader=='2014']\n",
    "trader_2014['net'] # Loss\n",
    "\n",
    "trader_9a14 = s6[s6.trader=='9a14']\n",
    "trader_9a14['net'] # Loss\n",
    "\n",
    "trader_314T = s6[s6.trader=='314T']\n",
    "trader_314T['net'] # Gain"
   ]
  },
  {
   "cell_type": "markdown",
   "metadata": {},
   "source": [
    "## Desk 7 VWAP Analysis"
   ]
  },
  {
   "cell_type": "code",
   "execution_count": 84,
   "metadata": {},
   "outputs": [
    {
     "data": {
      "text/plain": [
       "<matplotlib.axes._subplots.AxesSubplot at 0x1a23acb9e8>"
      ]
     },
     "execution_count": 84,
     "metadata": {},
     "output_type": "execute_result"
    },
    {
     "data": {
      "text/plain": [
       "<matplotlib.axes._subplots.AxesSubplot at 0x1a23c5aa20>"
      ]
     },
     "execution_count": 84,
     "metadata": {},
     "output_type": "execute_result"
    },
    {
     "data": {
      "text/html": [
       "<div>\n",
       "<style scoped>\n",
       "    .dataframe tbody tr th:only-of-type {\n",
       "        vertical-align: middle;\n",
       "    }\n",
       "\n",
       "    .dataframe tbody tr th {\n",
       "        vertical-align: top;\n",
       "    }\n",
       "\n",
       "    .dataframe thead th {\n",
       "        text-align: right;\n",
       "    }\n",
       "</style>\n",
       "<table border=\"1\" class=\"dataframe\">\n",
       "  <thead>\n",
       "    <tr style=\"text-align: right;\">\n",
       "      <th></th>\n",
       "      <th>vwap</th>\n",
       "      <th>price</th>\n",
       "      <th>PVWAP</th>\n",
       "    </tr>\n",
       "    <tr>\n",
       "      <th>trader</th>\n",
       "      <th></th>\n",
       "      <th></th>\n",
       "      <th></th>\n",
       "    </tr>\n",
       "  </thead>\n",
       "  <tbody>\n",
       "    <tr>\n",
       "      <th>1914</th>\n",
       "      <td>20.285638</td>\n",
       "      <td>20.3</td>\n",
       "      <td>0.014362</td>\n",
       "    </tr>\n",
       "    <tr>\n",
       "      <th>6a14</th>\n",
       "      <td>20.281124</td>\n",
       "      <td>20.3</td>\n",
       "      <td>0.018876</td>\n",
       "    </tr>\n",
       "    <tr>\n",
       "      <th>12b1</th>\n",
       "      <td>20.334069</td>\n",
       "      <td>20.5</td>\n",
       "      <td>0.165931</td>\n",
       "    </tr>\n",
       "  </tbody>\n",
       "</table>\n",
       "</div>"
      ],
      "text/plain": [
       "             vwap  price     PVWAP\n",
       "trader                            \n",
       "1914    20.285638   20.3  0.014362\n",
       "6a14    20.281124   20.3  0.018876\n",
       "12b1    20.334069   20.5  0.165931"
      ]
     },
     "execution_count": 84,
     "metadata": {},
     "output_type": "execute_result"
    },
    {
     "data": {
      "image/png": "[encoded data removed]",
      "text/plain": [
       "<Figure size 432x288 with 1 Axes>"
      ]
     },
     "metadata": {
      "needs_background": "light"
     },
     "output_type": "display_data"
    },
    {
     "data": {
      "image/png": "[encoded data removed]",
      "text/plain": [
       "<Figure size 432x288 with 1 Axes>"
      ]
     },
     "metadata": {
      "needs_background": "light"
     },
     "output_type": "display_data"
    }
   ],
   "source": [
    "# Desk 7 VWAP - Price\n",
    "\n",
    "# Pull trader, vwap, price\n",
    "s7_vp = s7[[\"trader\",\"vwap\",\"price\"]]\n",
    "s7_vp.set_index('trader', inplace=True)\n",
    "\n",
    "# subtract and store price - vwap as PVWAP\n",
    "vp7_diff = pd.DataFrame(s7_vp,columns= ['vwap','price']) \n",
    "vp7_diff['PVWAP'] = vp7_diff['price'] - vp7_diff['vwap']\n",
    "\n",
    "# Plot price & vwap\n",
    "s7_vp.plot()\n",
    "\n",
    "# trader nets from desk\n",
    "s7_net = s7[[\"trader\",\"net\"]]\n",
    "s7_net.set_index('trader', inplace=True)\n",
    "s7_net.plot()\n",
    "\n",
    "# finding the closest price to vwap\n",
    "g0_7 = vp7_diff[vp7_diff.PVWAP > 0]\n",
    "g0_7 = g0_7[g0_7.PVWAP < .2]\n",
    "g0_7.sort_values('PVWAP', ascending=True)"
   ]
  },
  {
   "cell_type": "code",
   "execution_count": 85,
   "metadata": {},
   "outputs": [
    {
     "data": {
      "text/plain": [
       "18    58.60005\n",
       "Name: net, dtype: float64"
      ]
     },
     "execution_count": 85,
     "metadata": {},
     "output_type": "execute_result"
    },
    {
     "data": {
      "text/plain": [
       "191    58.50006\n",
       "Name: net, dtype: float64"
      ]
     },
     "execution_count": 85,
     "metadata": {},
     "output_type": "execute_result"
    },
    {
     "data": {
      "text/plain": [
       "211   -0.69979\n",
       "Name: net, dtype: float64"
      ]
     },
     "execution_count": 85,
     "metadata": {},
     "output_type": "execute_result"
    }
   ],
   "source": [
    "# Looking at trades from closest to vwap (closest first)\n",
    "trader_1914 = s7[s7.trader=='1914']\n",
    "trader_1914['net'] # Gain\n",
    "\n",
    "trader_6a14 = s7[s7.trader=='6a14']\n",
    "trader_6a14['net'] # Gain\n",
    "\n",
    "trader_12b1 = s7[s7.trader=='12b1']\n",
    "trader_12b1['net'] # Small Loss"
   ]
  },
  {
   "cell_type": "markdown",
   "metadata": {},
   "source": [
    "## Desk 8 VWAP Analysis"
   ]
  },
  {
   "cell_type": "code",
   "execution_count": 88,
   "metadata": {},
   "outputs": [
    {
     "data": {
      "text/plain": [
       "<matplotlib.axes._subplots.AxesSubplot at 0x1a2339d6a0>"
      ]
     },
     "execution_count": 88,
     "metadata": {},
     "output_type": "execute_result"
    },
    {
     "data": {
      "text/plain": [
       "<matplotlib.axes._subplots.AxesSubplot at 0x1a23309da0>"
      ]
     },
     "execution_count": 88,
     "metadata": {},
     "output_type": "execute_result"
    },
    {
     "data": {
      "text/html": [
       "<div>\n",
       "<style scoped>\n",
       "    .dataframe tbody tr th:only-of-type {\n",
       "        vertical-align: middle;\n",
       "    }\n",
       "\n",
       "    .dataframe tbody tr th {\n",
       "        vertical-align: top;\n",
       "    }\n",
       "\n",
       "    .dataframe thead th {\n",
       "        text-align: right;\n",
       "    }\n",
       "</style>\n",
       "<table border=\"1\" class=\"dataframe\">\n",
       "  <thead>\n",
       "    <tr style=\"text-align: right;\">\n",
       "      <th></th>\n",
       "      <th>vwap</th>\n",
       "      <th>price</th>\n",
       "      <th>PVWAP</th>\n",
       "    </tr>\n",
       "    <tr>\n",
       "      <th>trader</th>\n",
       "      <th></th>\n",
       "      <th></th>\n",
       "      <th></th>\n",
       "    </tr>\n",
       "  </thead>\n",
       "  <tbody>\n",
       "    <tr>\n",
       "      <th>4b15</th>\n",
       "      <td>20.177148</td>\n",
       "      <td>20.5</td>\n",
       "      <td>0.322852</td>\n",
       "    </tr>\n",
       "    <tr>\n",
       "      <th>2a15</th>\n",
       "      <td>20.371701</td>\n",
       "      <td>20.7</td>\n",
       "      <td>0.328299</td>\n",
       "    </tr>\n",
       "    <tr>\n",
       "      <th>4a15</th>\n",
       "      <td>20.237757</td>\n",
       "      <td>20.6</td>\n",
       "      <td>0.362243</td>\n",
       "    </tr>\n",
       "    <tr>\n",
       "      <th>3A15</th>\n",
       "      <td>20.235642</td>\n",
       "      <td>20.6</td>\n",
       "      <td>0.364358</td>\n",
       "    </tr>\n",
       "  </tbody>\n",
       "</table>\n",
       "</div>"
      ],
      "text/plain": [
       "             vwap  price     PVWAP\n",
       "trader                            \n",
       "4b15    20.177148   20.5  0.322852\n",
       "2a15    20.371701   20.7  0.328299\n",
       "4a15    20.237757   20.6  0.362243\n",
       "3A15    20.235642   20.6  0.364358"
      ]
     },
     "execution_count": 88,
     "metadata": {},
     "output_type": "execute_result"
    },
    {
     "data": {
      "image/png": "[encoded data removed]",
      "text/plain": [
       "<Figure size 432x288 with 1 Axes>"
      ]
     },
     "metadata": {
      "needs_background": "light"
     },
     "output_type": "display_data"
    },
    {
     "data": {
      "image/png": "[encoded data removed]",
      "text/plain": [
       "<Figure size 432x288 with 1 Axes>"
      ]
     },
     "metadata": {
      "needs_background": "light"
     },
     "output_type": "display_data"
    }
   ],
   "source": [
    "# Desk 8 VWAP - Price\n",
    "\n",
    "# Pull trader, vwap, price\n",
    "s8_vp = s8[[\"trader\",\"vwap\",\"price\"]]\n",
    "s8_vp.set_index('trader', inplace=True)\n",
    "\n",
    "# subtract and store price - vwap as PVWAP\n",
    "vp8_diff = pd.DataFrame(s8_vp,columns= ['vwap','price']) \n",
    "vp8_diff['PVWAP'] = vp8_diff['price'] - vp8_diff['vwap']\n",
    "\n",
    "# Plot price & vwap\n",
    "s8_vp.plot()\n",
    "\n",
    "# trader nets from desk\n",
    "s8_net = s8[[\"trader\",\"net\"]]\n",
    "s8_net.set_index('trader', inplace=True)\n",
    "s8_net.plot()\n",
    "\n",
    "# finding the closest price to vwap\n",
    "g0_8 = vp8_diff[vp8_diff.PVWAP > 0]\n",
    "g0_8 = g0_8[g0_8.PVWAP < .4]\n",
    "g0_8.sort_values('PVWAP', ascending=True)"
   ]
  },
  {
   "cell_type": "code",
   "execution_count": 89,
   "metadata": {},
   "outputs": [
    {
     "data": {
      "text/plain": [
       "173   -80.09982\n",
       "Name: net, dtype: float64"
      ]
     },
     "execution_count": 89,
     "metadata": {},
     "output_type": "execute_result"
    },
    {
     "data": {
      "text/plain": [
       "178   -7.2\n",
       "Name: net, dtype: float64"
      ]
     },
     "execution_count": 89,
     "metadata": {},
     "output_type": "execute_result"
    },
    {
     "data": {
      "text/plain": [
       "174   -5.599976\n",
       "Name: net, dtype: float64"
      ]
     },
     "execution_count": 89,
     "metadata": {},
     "output_type": "execute_result"
    },
    {
     "data": {
      "text/plain": [
       "176   -112.499848\n",
       "Name: net, dtype: float64"
      ]
     },
     "execution_count": 89,
     "metadata": {},
     "output_type": "execute_result"
    }
   ],
   "source": [
    "# Looking at trades from closest to vwap (closest first)\n",
    "trader_4b15 = s8[s8.trader=='4b15']\n",
    "trader_4b15['net'] # Loss\n",
    "\n",
    "trader_2a15 = s8[s8.trader=='2a15']\n",
    "trader_2a15['net'] # Loss\n",
    "\n",
    "trader_4a15 = s8[s8.trader=='4a15']\n",
    "trader_4a15['net'] # Loss\n",
    "\n",
    "trader_3A15 = s8[s8.trader=='3A15']\n",
    "trader_3A15['net'] # Loss"
   ]
  },
  {
   "cell_type": "markdown",
   "metadata": {},
   "source": [
    "## Desk 9 VWAP Analysis"
   ]
  },
  {
   "cell_type": "code",
   "execution_count": 95,
   "metadata": {},
   "outputs": [
    {
     "data": {
      "text/plain": [
       "<matplotlib.axes._subplots.AxesSubplot at 0x1a239d6860>"
      ]
     },
     "execution_count": 95,
     "metadata": {},
     "output_type": "execute_result"
    },
    {
     "data": {
      "text/plain": [
       "<matplotlib.axes._subplots.AxesSubplot at 0x1a235015f8>"
      ]
     },
     "execution_count": 95,
     "metadata": {},
     "output_type": "execute_result"
    },
    {
     "data": {
      "text/html": [
       "<div>\n",
       "<style scoped>\n",
       "    .dataframe tbody tr th:only-of-type {\n",
       "        vertical-align: middle;\n",
       "    }\n",
       "\n",
       "    .dataframe tbody tr th {\n",
       "        vertical-align: top;\n",
       "    }\n",
       "\n",
       "    .dataframe thead th {\n",
       "        text-align: right;\n",
       "    }\n",
       "</style>\n",
       "<table border=\"1\" class=\"dataframe\">\n",
       "  <thead>\n",
       "    <tr style=\"text-align: right;\">\n",
       "      <th></th>\n",
       "      <th>vwap</th>\n",
       "      <th>price</th>\n",
       "      <th>PVWAP</th>\n",
       "    </tr>\n",
       "    <tr>\n",
       "      <th>trader</th>\n",
       "      <th></th>\n",
       "      <th></th>\n",
       "      <th></th>\n",
       "    </tr>\n",
       "  </thead>\n",
       "  <tbody>\n",
       "    <tr>\n",
       "      <th>1115</th>\n",
       "      <td>20.352569</td>\n",
       "      <td>20.6</td>\n",
       "      <td>0.247431</td>\n",
       "    </tr>\n",
       "    <tr>\n",
       "      <th>1015</th>\n",
       "      <td>20.353596</td>\n",
       "      <td>20.7</td>\n",
       "      <td>0.346404</td>\n",
       "    </tr>\n",
       "    <tr>\n",
       "      <th>1215</th>\n",
       "      <td>20.371220</td>\n",
       "      <td>20.9</td>\n",
       "      <td>0.528780</td>\n",
       "    </tr>\n",
       "    <tr>\n",
       "      <th>15a1</th>\n",
       "      <td>20.304506</td>\n",
       "      <td>20.9</td>\n",
       "      <td>0.595494</td>\n",
       "    </tr>\n",
       "  </tbody>\n",
       "</table>\n",
       "</div>"
      ],
      "text/plain": [
       "             vwap  price     PVWAP\n",
       "trader                            \n",
       "1115    20.352569   20.6  0.247431\n",
       "1015    20.353596   20.7  0.346404\n",
       "1215    20.371220   20.9  0.528780\n",
       "15a1    20.304506   20.9  0.595494"
      ]
     },
     "execution_count": 95,
     "metadata": {},
     "output_type": "execute_result"
    },
    {
     "data": {
      "image/png": "[encoded data removed]",
      "text/plain": [
       "<Figure size 432x288 with 1 Axes>"
      ]
     },
     "metadata": {
      "needs_background": "light"
     },
     "output_type": "display_data"
    },
    {
     "data": {
      "image/png": "[encoded data removed]",
      "text/plain": [
       "<Figure size 432x288 with 1 Axes>"
      ]
     },
     "metadata": {
      "needs_background": "light"
     },
     "output_type": "display_data"
    }
   ],
   "source": [
    "# Desk 9 VWAP - Price\n",
    "\n",
    "# Pull trader, vwap, price\n",
    "s9_vp = s9[[\"trader\",\"vwap\",\"price\"]]\n",
    "s9_vp.set_index('trader', inplace=True)\n",
    "\n",
    "# subtract and store price - vwap as PVWAP\n",
    "vp9_diff = pd.DataFrame(s9_vp,columns= ['vwap','price']) \n",
    "vp9_diff['PVWAP'] = vp9_diff['price'] - vp9_diff['vwap']\n",
    "\n",
    "# Plot price & vwap\n",
    "s9_vp.plot()\n",
    "\n",
    "# trader nets from desk\n",
    "s9_net = s9[[\"trader\",\"net\"]]\n",
    "s9_net.set_index('trader', inplace=True)\n",
    "s9_net.plot()\n",
    "\n",
    "# finding the closest price to vwap\n",
    "g0_9 = vp9_diff[vp9_diff.PVWAP > 0]\n",
    "g0_9 = g0_9[g0_9.PVWAP < .6]\n",
    "g0_9.sort_values('PVWAP', ascending=True)"
   ]
  },
  {
   "cell_type": "code",
   "execution_count": 96,
   "metadata": {},
   "outputs": [
    {
     "data": {
      "text/plain": [
       "8   -41.999975\n",
       "Name: net, dtype: float64"
      ]
     },
     "execution_count": 96,
     "metadata": {},
     "output_type": "execute_result"
    },
    {
     "data": {
      "text/plain": [
       "9   -17.5\n",
       "Name: net, dtype: float64"
      ]
     },
     "execution_count": 96,
     "metadata": {},
     "output_type": "execute_result"
    },
    {
     "data": {
      "text/plain": [
       "6   -147.599906\n",
       "Name: net, dtype: float64"
      ]
     },
     "execution_count": 96,
     "metadata": {},
     "output_type": "execute_result"
    },
    {
     "data": {
      "text/plain": [
       "164   -42.999985\n",
       "Name: net, dtype: float64"
      ]
     },
     "execution_count": 96,
     "metadata": {},
     "output_type": "execute_result"
    }
   ],
   "source": [
    "# Looking at trades from closest to vwap\n",
    "trader_1115 = s9[s9.trader=='1115']\n",
    "trader_1115['net'] # Loss\n",
    "\n",
    "trader_1015 = s9[s9.trader=='1015']\n",
    "trader_1015['net'] # Loss\n",
    "\n",
    "trader_1215 = s9[s9.trader=='1215']\n",
    "trader_1215['net'] # Loss\n",
    "\n",
    "trader_15a1 = s9[s9.trader=='15a1']\n",
    "trader_15a1['net'] # Loss"
   ]
  },
  {
   "cell_type": "markdown",
   "metadata": {},
   "source": [
    "## Desk 10 VWAP Analysis"
   ]
  },
  {
   "cell_type": "code",
   "execution_count": 98,
   "metadata": {},
   "outputs": [
    {
     "data": {
      "text/plain": [
       "<matplotlib.axes._subplots.AxesSubplot at 0x1a230b9470>"
      ]
     },
     "execution_count": 98,
     "metadata": {},
     "output_type": "execute_result"
    },
    {
     "data": {
      "text/plain": [
       "<matplotlib.axes._subplots.AxesSubplot at 0x1a2325b978>"
      ]
     },
     "execution_count": 98,
     "metadata": {},
     "output_type": "execute_result"
    },
    {
     "data": {
      "text/html": [
       "<div>\n",
       "<style scoped>\n",
       "    .dataframe tbody tr th:only-of-type {\n",
       "        vertical-align: middle;\n",
       "    }\n",
       "\n",
       "    .dataframe tbody tr th {\n",
       "        vertical-align: top;\n",
       "    }\n",
       "\n",
       "    .dataframe thead th {\n",
       "        text-align: right;\n",
       "    }\n",
       "</style>\n",
       "<table border=\"1\" class=\"dataframe\">\n",
       "  <thead>\n",
       "    <tr style=\"text-align: right;\">\n",
       "      <th></th>\n",
       "      <th>vwap</th>\n",
       "      <th>price</th>\n",
       "      <th>PVWAP</th>\n",
       "    </tr>\n",
       "    <tr>\n",
       "      <th>trader</th>\n",
       "      <th></th>\n",
       "      <th></th>\n",
       "      <th></th>\n",
       "    </tr>\n",
       "  </thead>\n",
       "  <tbody>\n",
       "    <tr>\n",
       "      <th>2A1</th>\n",
       "      <td>19.984423</td>\n",
       "      <td>20.0</td>\n",
       "      <td>0.015577</td>\n",
       "    </tr>\n",
       "    <tr>\n",
       "      <th>12b</th>\n",
       "      <td>20.336606</td>\n",
       "      <td>20.4</td>\n",
       "      <td>0.063394</td>\n",
       "    </tr>\n",
       "    <tr>\n",
       "      <th>12a</th>\n",
       "      <td>20.311624</td>\n",
       "      <td>20.4</td>\n",
       "      <td>0.088376</td>\n",
       "    </tr>\n",
       "  </tbody>\n",
       "</table>\n",
       "</div>"
      ],
      "text/plain": [
       "             vwap  price     PVWAP\n",
       "trader                            \n",
       "2A1     19.984423   20.0  0.015577\n",
       "12b     20.336606   20.4  0.063394\n",
       "12a     20.311624   20.4  0.088376"
      ]
     },
     "execution_count": 98,
     "metadata": {},
     "output_type": "execute_result"
    },
    {
     "data": {
      "image/png": "[encoded data removed]",
      "text/plain": [
       "<Figure size 432x288 with 1 Axes>"
      ]
     },
     "metadata": {
      "needs_background": "light"
     },
     "output_type": "display_data"
    },
    {
     "data": {
      "image/png": "[encoded data removed]",
      "text/plain": [
       "<Figure size 432x288 with 1 Axes>"
      ]
     },
     "metadata": {
      "needs_background": "light"
     },
     "output_type": "display_data"
    }
   ],
   "source": [
    "# Desk 10 VWAP - Price\n",
    "\n",
    "# Pull trader, vwap, price\n",
    "s10_vp = s10[[\"trader\",\"vwap\",\"price\"]]\n",
    "s10_vp.set_index('trader', inplace=True)\n",
    "\n",
    "# subtract and store price - vwap as PVWAP\n",
    "vp10_diff = pd.DataFrame(s10_vp,columns= ['vwap','price']) \n",
    "vp10_diff['PVWAP'] = vp10_diff['price'] - vp10_diff['vwap']\n",
    "\n",
    "# Plot price & vwap\n",
    "s10_vp.plot()\n",
    "\n",
    "# trader nets from desk\n",
    "s10_net = s10[[\"trader\",\"net\"]]\n",
    "s10_net.set_index('trader', inplace=True)\n",
    "s10_net.plot()\n",
    "\n",
    "# finding the closest price to vwap\n",
    "g0_10 = vp10_diff[vp10_diff.PVWAP > 0]\n",
    "g0_10 = g0_10[g0_10.PVWAP < .1]\n",
    "g0_10.sort_values('PVWAP', ascending=True)"
   ]
  },
  {
   "cell_type": "code",
   "execution_count": 99,
   "metadata": {},
   "outputs": [
    {
     "data": {
      "text/plain": [
       "373   -56.1\n",
       "Name: net, dtype: float64"
      ]
     },
     "execution_count": 99,
     "metadata": {},
     "output_type": "execute_result"
    },
    {
     "data": {
      "text/plain": [
       "388    18.29995\n",
       "Name: net, dtype: float64"
      ]
     },
     "execution_count": 99,
     "metadata": {},
     "output_type": "execute_result"
    },
    {
     "data": {
      "text/plain": [
       "389   -28.40005\n",
       "Name: net, dtype: float64"
      ]
     },
     "execution_count": 99,
     "metadata": {},
     "output_type": "execute_result"
    }
   ],
   "source": [
    "# Looking at trades from closest to vwap\n",
    "trader_2A1 = s10[s10.trader=='2A1']\n",
    "trader_2A1['net'] # Loss\n",
    "\n",
    "trader_12b= s10[s10.trader=='12b']\n",
    "trader_12b['net'] # Gain\n",
    "\n",
    "trader_12a = s10[s10.trader=='12a']\n",
    "trader_12a['net'] # Loss"
   ]
  },
  {
   "cell_type": "markdown",
   "metadata": {},
   "source": [
    "# Results\n",
    "## * Net's were pretty evenly split (Gain | Loss)\n",
    "## * No real signs from the analysis that any particular VWAP strategy was being followed\n",
    "## * Some traders did really well when they purchased just above the VWAP, or using it as a support, while others did not perform well"
   ]
  },
  {
   "cell_type": "markdown",
   "metadata": {},
   "source": [
    "***\n",
    "# Best Traders Analysis | Top 5 traders by 'net'"
   ]
  },
  {
   "cell_type": "code",
   "execution_count": 119,
   "metadata": {},
   "outputs": [
    {
     "data": {
      "text/plain": [
       "142    279.000000\n",
       "137    212.199886\n",
       "135    191.200000\n",
       "378    188.199931\n",
       "50     158.799898\n",
       "Name: net, dtype: float64"
      ]
     },
     "execution_count": 119,
     "metadata": {},
     "output_type": "execute_result"
    },
    {
     "data": {
      "text/plain": [
       "142    S10\n",
       "137    S10\n",
       "135    S10\n",
       "378    S10\n",
       "50      S5\n",
       "Name: desk, dtype: object"
      ]
     },
     "execution_count": 119,
     "metadata": {},
     "output_type": "execute_result"
    },
    {
     "data": {
      "text/plain": [
       "142      17\n",
       "137     151\n",
       "135     215\n",
       "378     17b\n",
       "50     414T\n",
       "Name: trader, dtype: object"
      ]
     },
     "execution_count": 119,
     "metadata": {},
     "output_type": "execute_result"
    },
    {
     "data": {
      "text/html": [
       "<div>\n",
       "<style scoped>\n",
       "    .dataframe tbody tr th:only-of-type {\n",
       "        vertical-align: middle;\n",
       "    }\n",
       "\n",
       "    .dataframe tbody tr th {\n",
       "        vertical-align: top;\n",
       "    }\n",
       "\n",
       "    .dataframe thead th {\n",
       "        text-align: right;\n",
       "    }\n",
       "</style>\n",
       "<table border=\"1\" class=\"dataframe\">\n",
       "  <thead>\n",
       "    <tr style=\"text-align: right;\">\n",
       "      <th></th>\n",
       "      <th>ido</th>\n",
       "      <th>price</th>\n",
       "      <th>realizedtot</th>\n",
       "      <th>unrealq</th>\n",
       "      <th>uservolu</th>\n",
       "      <th>useroftotalvolu</th>\n",
       "      <th>totalvolu</th>\n",
       "      <th>tradecount</th>\n",
       "      <th>firsthourvolu</th>\n",
       "      <th>firsthouruservolu</th>\n",
       "      <th>...</th>\n",
       "      <th>uservoltradedbuysell</th>\n",
       "      <th>Gender</th>\n",
       "      <th>Q2</th>\n",
       "      <th>Q9</th>\n",
       "      <th>Q12</th>\n",
       "      <th>Q14</th>\n",
       "      <th>Q15</th>\n",
       "      <th>Q30</th>\n",
       "      <th>desk</th>\n",
       "      <th>trader</th>\n",
       "    </tr>\n",
       "  </thead>\n",
       "  <tbody>\n",
       "    <tr>\n",
       "      <th>142</th>\n",
       "      <td>S 10C17</td>\n",
       "      <td>22.0</td>\n",
       "      <td>-3835.00000</td>\n",
       "      <td>187</td>\n",
       "      <td>367</td>\n",
       "      <td>0.534207</td>\n",
       "      <td>687</td>\n",
       "      <td>15</td>\n",
       "      <td>312</td>\n",
       "      <td>75</td>\n",
       "      <td>...</td>\n",
       "      <td>367</td>\n",
       "      <td>F</td>\n",
       "      <td>4</td>\n",
       "      <td>4</td>\n",
       "      <td>2</td>\n",
       "      <td>4</td>\n",
       "      <td>4</td>\n",
       "      <td>N</td>\n",
       "      <td>S10</td>\n",
       "      <td>17</td>\n",
       "    </tr>\n",
       "    <tr>\n",
       "      <th>137</th>\n",
       "      <td>S10C151</td>\n",
       "      <td>21.0</td>\n",
       "      <td>-11694.80011</td>\n",
       "      <td>567</td>\n",
       "      <td>1625</td>\n",
       "      <td>0.423508</td>\n",
       "      <td>3837</td>\n",
       "      <td>75</td>\n",
       "      <td>3944</td>\n",
       "      <td>1040</td>\n",
       "      <td>...</td>\n",
       "      <td>1625</td>\n",
       "      <td>M</td>\n",
       "      <td>2</td>\n",
       "      <td>2</td>\n",
       "      <td>3</td>\n",
       "      <td>2</td>\n",
       "      <td>2</td>\n",
       "      <td>N</td>\n",
       "      <td>S10</td>\n",
       "      <td>151</td>\n",
       "    </tr>\n",
       "    <tr>\n",
       "      <th>135</th>\n",
       "      <td>S10C215</td>\n",
       "      <td>20.5</td>\n",
       "      <td>4106.70000</td>\n",
       "      <td>-191</td>\n",
       "      <td>1977</td>\n",
       "      <td>0.550083</td>\n",
       "      <td>3594</td>\n",
       "      <td>65</td>\n",
       "      <td>1762</td>\n",
       "      <td>942</td>\n",
       "      <td>...</td>\n",
       "      <td>1977</td>\n",
       "      <td>M</td>\n",
       "      <td>2</td>\n",
       "      <td>3</td>\n",
       "      <td>2</td>\n",
       "      <td>3</td>\n",
       "      <td>2</td>\n",
       "      <td>Y</td>\n",
       "      <td>S10</td>\n",
       "      <td>215</td>\n",
       "    </tr>\n",
       "    <tr>\n",
       "      <th>378</th>\n",
       "      <td>S10C17b</td>\n",
       "      <td>21.8</td>\n",
       "      <td>-28784.00007</td>\n",
       "      <td>1329</td>\n",
       "      <td>3659</td>\n",
       "      <td>0.701495</td>\n",
       "      <td>5216</td>\n",
       "      <td>160</td>\n",
       "      <td>788</td>\n",
       "      <td>148</td>\n",
       "      <td>...</td>\n",
       "      <td>3659</td>\n",
       "      <td>F</td>\n",
       "      <td>2</td>\n",
       "      <td>2</td>\n",
       "      <td>2</td>\n",
       "      <td>3</td>\n",
       "      <td>1</td>\n",
       "      <td>Y</td>\n",
       "      <td>S10</td>\n",
       "      <td>17b</td>\n",
       "    </tr>\n",
       "    <tr>\n",
       "      <th>50</th>\n",
       "      <td>S5C414T</td>\n",
       "      <td>21.0</td>\n",
       "      <td>-12105.20010</td>\n",
       "      <td>584</td>\n",
       "      <td>1386</td>\n",
       "      <td>0.406929</td>\n",
       "      <td>3406</td>\n",
       "      <td>88</td>\n",
       "      <td>1240</td>\n",
       "      <td>155</td>\n",
       "      <td>...</td>\n",
       "      <td>1386</td>\n",
       "      <td>F</td>\n",
       "      <td>2</td>\n",
       "      <td>3</td>\n",
       "      <td>2</td>\n",
       "      <td>1</td>\n",
       "      <td>1</td>\n",
       "      <td>N</td>\n",
       "      <td>S5</td>\n",
       "      <td>414T</td>\n",
       "    </tr>\n",
       "  </tbody>\n",
       "</table>\n",
       "<p>5 rows × 29 columns</p>\n",
       "</div>"
      ],
      "text/plain": [
       "         ido  price  realizedtot  unrealq  uservolu  useroftotalvolu  \\\n",
       "142  S 10C17   22.0  -3835.00000      187       367         0.534207   \n",
       "137  S10C151   21.0 -11694.80011      567      1625         0.423508   \n",
       "135  S10C215   20.5   4106.70000     -191      1977         0.550083   \n",
       "378  S10C17b   21.8 -28784.00007     1329      3659         0.701495   \n",
       "50   S5C414T   21.0 -12105.20010      584      1386         0.406929   \n",
       "\n",
       "     totalvolu  tradecount  firsthourvolu  firsthouruservolu   ...    \\\n",
       "142        687          15            312                 75   ...     \n",
       "137       3837          75           3944               1040   ...     \n",
       "135       3594          65           1762                942   ...     \n",
       "378       5216         160            788                148   ...     \n",
       "50        3406          88           1240                155   ...     \n",
       "\n",
       "     uservoltradedbuysell  Gender  Q2  Q9  Q12  Q14  Q15  Q30  desk  trader  \n",
       "142                   367       F   4   4    2    4    4    N   S10      17  \n",
       "137                  1625       M   2   2    3    2    2    N   S10     151  \n",
       "135                  1977       M   2   3    2    3    2    Y   S10     215  \n",
       "378                  3659       F   2   2    2    3    1    Y   S10     17b  \n",
       "50                   1386       F   2   3    2    1    1    N    S5    414T  \n",
       "\n",
       "[5 rows x 29 columns]"
      ]
     },
     "execution_count": 119,
     "metadata": {},
     "output_type": "execute_result"
    }
   ],
   "source": [
    "best_net = dr_data[dr_data.net > 156].sort_values('net', ascending=False) # Top 5\n",
    "best_net['net']\n",
    "best_net['desk']\n",
    "best_net['trader']\n",
    "best_net"
   ]
  },
  {
   "cell_type": "code",
   "execution_count": 120,
   "metadata": {},
   "outputs": [
    {
     "data": {
      "text/plain": [
       "<seaborn.axisgrid.FacetGrid at 0x1a23d23e10>"
      ]
     },
     "execution_count": 120,
     "metadata": {},
     "output_type": "execute_result"
    },
    {
     "data": {
      "image/png": "[encoded data removed]",
      "text/plain": [
       "<Figure size 360x360 with 1 Axes>"
      ]
     },
     "metadata": {
      "needs_background": "light"
     },
     "output_type": "display_data"
    }
   ],
   "source": [
    "sns.catplot(x='trader',kind='count',data=best_net)\n",
    "# Flat across the board; no duplicates slipped through"
   ]
  },
  {
   "cell_type": "code",
   "execution_count": 279,
   "metadata": {},
   "outputs": [
    {
     "data": {
      "text/html": [
       "<div>\n",
       "<style scoped>\n",
       "    .dataframe tbody tr th:only-of-type {\n",
       "        vertical-align: middle;\n",
       "    }\n",
       "\n",
       "    .dataframe tbody tr th {\n",
       "        vertical-align: top;\n",
       "    }\n",
       "\n",
       "    .dataframe thead th {\n",
       "        text-align: right;\n",
       "    }\n",
       "</style>\n",
       "<table border=\"1\" class=\"dataframe\">\n",
       "  <thead>\n",
       "    <tr style=\"text-align: right;\">\n",
       "      <th></th>\n",
       "      <th>trader</th>\n",
       "      <th>net</th>\n",
       "      <th>uservolu</th>\n",
       "      <th>useroftotalvolu</th>\n",
       "      <th>totalvolu</th>\n",
       "      <th>tradecount</th>\n",
       "      <th>firsthourvolu</th>\n",
       "      <th>firsthouruservolu</th>\n",
       "      <th>lasthourvolu</th>\n",
       "      <th>lasthouruservolu</th>\n",
       "      <th>price</th>\n",
       "      <th>vwap</th>\n",
       "      <th>Gender</th>\n",
       "    </tr>\n",
       "  </thead>\n",
       "  <tbody>\n",
       "    <tr>\n",
       "      <th>142</th>\n",
       "      <td>17</td>\n",
       "      <td>279.000000</td>\n",
       "      <td>367</td>\n",
       "      <td>0.534207</td>\n",
       "      <td>687</td>\n",
       "      <td>15</td>\n",
       "      <td>312</td>\n",
       "      <td>75</td>\n",
       "      <td>510</td>\n",
       "      <td>231</td>\n",
       "      <td>22.0</td>\n",
       "      <td>20.317467</td>\n",
       "      <td>F</td>\n",
       "    </tr>\n",
       "    <tr>\n",
       "      <th>137</th>\n",
       "      <td>151</td>\n",
       "      <td>212.199886</td>\n",
       "      <td>1625</td>\n",
       "      <td>0.423508</td>\n",
       "      <td>3837</td>\n",
       "      <td>75</td>\n",
       "      <td>3944</td>\n",
       "      <td>1040</td>\n",
       "      <td>1018</td>\n",
       "      <td>104</td>\n",
       "      <td>21.0</td>\n",
       "      <td>20.366172</td>\n",
       "      <td>M</td>\n",
       "    </tr>\n",
       "    <tr>\n",
       "      <th>135</th>\n",
       "      <td>215</td>\n",
       "      <td>191.200000</td>\n",
       "      <td>1977</td>\n",
       "      <td>0.550083</td>\n",
       "      <td>3594</td>\n",
       "      <td>65</td>\n",
       "      <td>1762</td>\n",
       "      <td>942</td>\n",
       "      <td>2616</td>\n",
       "      <td>668</td>\n",
       "      <td>20.5</td>\n",
       "      <td>20.252337</td>\n",
       "      <td>M</td>\n",
       "    </tr>\n",
       "    <tr>\n",
       "      <th>378</th>\n",
       "      <td>17b</td>\n",
       "      <td>188.199931</td>\n",
       "      <td>3659</td>\n",
       "      <td>0.701495</td>\n",
       "      <td>5216</td>\n",
       "      <td>160</td>\n",
       "      <td>788</td>\n",
       "      <td>148</td>\n",
       "      <td>3490</td>\n",
       "      <td>1031</td>\n",
       "      <td>21.8</td>\n",
       "      <td>20.449118</td>\n",
       "      <td>F</td>\n",
       "    </tr>\n",
       "    <tr>\n",
       "      <th>50</th>\n",
       "      <td>414T</td>\n",
       "      <td>158.799898</td>\n",
       "      <td>1386</td>\n",
       "      <td>0.406929</td>\n",
       "      <td>3406</td>\n",
       "      <td>88</td>\n",
       "      <td>1240</td>\n",
       "      <td>155</td>\n",
       "      <td>2418</td>\n",
       "      <td>546</td>\n",
       "      <td>21.0</td>\n",
       "      <td>20.351644</td>\n",
       "      <td>F</td>\n",
       "    </tr>\n",
       "  </tbody>\n",
       "</table>\n",
       "</div>"
      ],
      "text/plain": [
       "    trader         net  uservolu  useroftotalvolu  totalvolu  tradecount  \\\n",
       "142     17  279.000000       367         0.534207        687          15   \n",
       "137    151  212.199886      1625         0.423508       3837          75   \n",
       "135    215  191.200000      1977         0.550083       3594          65   \n",
       "378    17b  188.199931      3659         0.701495       5216         160   \n",
       "50    414T  158.799898      1386         0.406929       3406          88   \n",
       "\n",
       "     firsthourvolu  firsthouruservolu  lasthourvolu  lasthouruservolu  price  \\\n",
       "142            312                 75           510               231   22.0   \n",
       "137           3944               1040          1018               104   21.0   \n",
       "135           1762                942          2616               668   20.5   \n",
       "378            788                148          3490              1031   21.8   \n",
       "50            1240                155          2418               546   21.0   \n",
       "\n",
       "          vwap Gender  \n",
       "142  20.317467      F  \n",
       "137  20.366172      M  \n",
       "135  20.252337      M  \n",
       "378  20.449118      F  \n",
       "50   20.351644      F  "
      ]
     },
     "execution_count": 279,
     "metadata": {},
     "output_type": "execute_result"
    },
    {
     "data": {
      "text/plain": [
       "142    F\n",
       "137    M\n",
       "135    M\n",
       "378    F\n",
       "50     F\n",
       "Name: Gender, dtype: object"
      ]
     },
     "execution_count": 279,
     "metadata": {},
     "output_type": "execute_result"
    },
    {
     "data": {
      "text/plain": [
       "'I traded using ALL of the information provided to me at each stage'"
      ]
     },
     "execution_count": 279,
     "metadata": {},
     "output_type": "execute_result"
    },
    {
     "data": {
      "text/plain": [
       "'I believe that I can improve on my net profits if I had more information even if I did not have any technological tools to analyze the information'"
      ]
     },
     "execution_count": 279,
     "metadata": {},
     "output_type": "execute_result"
    },
    {
     "data": {
      "text/plain": [
       "'The source (Highly reputed like Wall Street Journal/ Bloomberg versus low/unknown reputation like Sun news) of information would impact my trading decisions'"
      ]
     },
     "execution_count": 279,
     "metadata": {},
     "output_type": "execute_result"
    },
    {
     "data": {
      "text/plain": [
       "'The medium (news /blog /video/ tool based) of information impacted my trading decisions'"
      ]
     },
     "execution_count": 279,
     "metadata": {},
     "output_type": "execute_result"
    },
    {
     "data": {
      "text/plain": [
       "'I believe that more stock specific information could have helped me to increase my net profits'"
      ]
     },
     "execution_count": 279,
     "metadata": {},
     "output_type": "execute_result"
    },
    {
     "data": {
      "text/plain": [
       "'I have had prior experience in live trading stock /shares'"
      ]
     },
     "execution_count": 279,
     "metadata": {},
     "output_type": "execute_result"
    },
    {
     "data": {
      "text/html": [
       "<div>\n",
       "<style scoped>\n",
       "    .dataframe tbody tr th:only-of-type {\n",
       "        vertical-align: middle;\n",
       "    }\n",
       "\n",
       "    .dataframe tbody tr th {\n",
       "        vertical-align: top;\n",
       "    }\n",
       "\n",
       "    .dataframe thead th {\n",
       "        text-align: right;\n",
       "    }\n",
       "</style>\n",
       "<table border=\"1\" class=\"dataframe\">\n",
       "  <thead>\n",
       "    <tr style=\"text-align: right;\">\n",
       "      <th></th>\n",
       "      <th>Q2</th>\n",
       "      <th>Q9</th>\n",
       "      <th>Q12</th>\n",
       "      <th>Q14</th>\n",
       "      <th>Q15</th>\n",
       "      <th>Q30</th>\n",
       "    </tr>\n",
       "  </thead>\n",
       "  <tbody>\n",
       "    <tr>\n",
       "      <th>142</th>\n",
       "      <td>4</td>\n",
       "      <td>4</td>\n",
       "      <td>2</td>\n",
       "      <td>4</td>\n",
       "      <td>4</td>\n",
       "      <td>N</td>\n",
       "    </tr>\n",
       "    <tr>\n",
       "      <th>137</th>\n",
       "      <td>2</td>\n",
       "      <td>2</td>\n",
       "      <td>3</td>\n",
       "      <td>2</td>\n",
       "      <td>2</td>\n",
       "      <td>N</td>\n",
       "    </tr>\n",
       "    <tr>\n",
       "      <th>135</th>\n",
       "      <td>2</td>\n",
       "      <td>3</td>\n",
       "      <td>2</td>\n",
       "      <td>3</td>\n",
       "      <td>2</td>\n",
       "      <td>Y</td>\n",
       "    </tr>\n",
       "    <tr>\n",
       "      <th>378</th>\n",
       "      <td>2</td>\n",
       "      <td>2</td>\n",
       "      <td>2</td>\n",
       "      <td>3</td>\n",
       "      <td>1</td>\n",
       "      <td>Y</td>\n",
       "    </tr>\n",
       "    <tr>\n",
       "      <th>50</th>\n",
       "      <td>2</td>\n",
       "      <td>3</td>\n",
       "      <td>2</td>\n",
       "      <td>1</td>\n",
       "      <td>1</td>\n",
       "      <td>N</td>\n",
       "    </tr>\n",
       "  </tbody>\n",
       "</table>\n",
       "</div>"
      ],
      "text/plain": [
       "    Q2 Q9 Q12 Q14 Q15 Q30\n",
       "142  4  4   2   4   4   N\n",
       "137  2  2   3   2   2   N\n",
       "135  2  3   2   3   2   Y\n",
       "378  2  2   2   3   1   Y\n",
       "50   2  3   2   1   1   N"
      ]
     },
     "execution_count": 279,
     "metadata": {},
     "output_type": "execute_result"
    }
   ],
   "source": [
    "best_traders = best_net[['trader','net', 'uservolu','useroftotalvolu','totalvolu',\n",
    "                   'tradecount','firsthourvolu','firsthouruservolu',\n",
    "                   'lasthourvolu','lasthouruservolu', 'price','vwap','Gender']]\n",
    "best_traders\n",
    "\n",
    "best_traders['Gender']\n",
    "\n",
    "meta_dict['Q2']\n",
    "meta_dict['Q9']\n",
    "meta_dict['Q12']\n",
    "meta_dict['Q14']\n",
    "meta_dict['Q15']\n",
    "meta_dict['Q30']\n",
    "\n",
    "best_survey = best_net[['Q2', 'Q9', 'Q12', 'Q14', 'Q15', 'Q30']]\n",
    "best_survey\n",
    "\n",
    "best_all = best_net[['trader','net', 'uservolu','useroftotalvolu','totalvolu',\n",
    "                   'tradecount','firsthourvolu','firsthouruservolu',\n",
    "                   'lasthourvolu','lasthouruservolu', 'price','vwap','Gender',\n",
    "                    'Q2', 'Q9', 'Q12', 'Q14', 'Q15', 'Q30']]"
   ]
  },
  {
   "cell_type": "code",
   "execution_count": null,
   "metadata": {},
   "outputs": [],
   "source": [
    "# Survey shows that the best trader had no trade experience. She disagreed to all questions besides using a reputable news source for her trade decision.\n",
    "# The second best also had no trade experience. He agreed with all Q's, except was neutral on using a rep source for trade decisions.\n",
    "# The third best had trading experience and agreed to 2, 12, and 15, and was neutral on 9 and 14.\n",
    "# Fourth also had trade experience and agreed to Qs 2, 9 and 12. Neutral on 14 and strongly agreed to Q15.\n",
    "# Fifth did not have experience. She agreed to 2 and 12. Neutral on 9 and strongly agreed to 14 and 15."
   ]
  },
  {
   "cell_type": "code",
   "execution_count": 249,
   "metadata": {},
   "outputs": [],
   "source": [
    "import numpy as np\n",
    "import matplotlib.pyplot as plt\n",
    "\n",
    "# Separated\n",
    "bt_net = best_traders[['trader', 'net']]\n",
    "bt_uservol = best_traders[['trader', 'uservolu']]\n",
    "bt_usertotvol = best_traders[['trader', 'useroftotalvolu']]\n",
    "bt_totvol = best_traders[['trader', 'totalvolu']]\n",
    "bt_trdcnt = best_traders[['trader', 'tradecount']]\n",
    "bt_frsthrvol = best_traders[['trader', 'firsthourvolu']]\n",
    "bt_frsthruservol = best_traders[['trader', 'firsthouruservolu']]\n",
    "bt_lsthrvol = best_traders[['trader', 'lasthourvolu']]\n",
    "bt_lsthruservol = best_traders[['trader', 'lasthouruservolu']]\n",
    "bt_price = best_traders[['trader', 'price']]\n",
    "bt_vwap = best_traders[['trader', 'vwap']]\n",
    "bt_gender = best_traders[['trader', 'Gender']]\n",
    "\n",
    "# remove count\n",
    "bt_net.set_index('trader', inplace=True)\n",
    "bt_uservol.set_index('trader', inplace=True)\n",
    "bt_usertotvol.set_index('trader', inplace=True)\n",
    "bt_totvol.set_index('trader', inplace=True)\n",
    "bt_trdcnt.set_index('trader', inplace=True)\n",
    "bt_frsthrvol.set_index('trader', inplace=True)\n",
    "bt_frsthruservol.set_index('trader', inplace=True)\n",
    "bt_lsthrvol.set_index('trader', inplace=True)\n",
    "bt_lsthruservol.set_index('trader', inplace=True)\n",
    "bt_price.set_index('trader', inplace=True)\n",
    "bt_vwap.set_index('trader', inplace=True)\n",
    "bt_gender.set_index('trader', inplace=True)"
   ]
  },
  {
   "cell_type": "code",
   "execution_count": 337,
   "metadata": {},
   "outputs": [
    {
     "data": {
      "text/plain": [
       "<Figure size 432x288 with 0 Axes>"
      ]
     },
     "execution_count": 337,
     "metadata": {},
     "output_type": "execute_result"
    },
    {
     "data": {
      "text/plain": [
       "<matplotlib.axes._subplots.AxesSubplot at 0x1a3bc4ec88>"
      ]
     },
     "execution_count": 337,
     "metadata": {},
     "output_type": "execute_result"
    },
    {
     "data": {
      "text/plain": [
       "[<matplotlib.lines.Line2D at 0x1a3c8ae940>]"
      ]
     },
     "execution_count": 337,
     "metadata": {},
     "output_type": "execute_result"
    },
    {
     "data": {
      "text/plain": [
       "Text(0.5, 1.0, 'Best Net')"
      ]
     },
     "execution_count": 337,
     "metadata": {},
     "output_type": "execute_result"
    },
    {
     "data": {
      "text/plain": [
       "Text(0.5, 0, 'Traders')"
      ]
     },
     "execution_count": 337,
     "metadata": {},
     "output_type": "execute_result"
    },
    {
     "data": {
      "text/plain": [
       "Text(0, 0.5, 'Net')"
      ]
     },
     "execution_count": 337,
     "metadata": {},
     "output_type": "execute_result"
    },
    {
     "data": {
      "text/plain": [
       "<matplotlib.axes._subplots.AxesSubplot at 0x1a3cb36358>"
      ]
     },
     "execution_count": 337,
     "metadata": {},
     "output_type": "execute_result"
    },
    {
     "data": {
      "text/plain": [
       "<matplotlib.legend.Legend at 0x1a3cb696d8>"
      ]
     },
     "execution_count": 337,
     "metadata": {},
     "output_type": "execute_result"
    },
    {
     "data": {
      "text/plain": [
       "Text(0.5, 1.0, 'Best User Volume and Total Volume')"
      ]
     },
     "execution_count": 337,
     "metadata": {},
     "output_type": "execute_result"
    },
    {
     "data": {
      "text/plain": [
       "Text(0.5, 0, 'Traders')"
      ]
     },
     "execution_count": 337,
     "metadata": {},
     "output_type": "execute_result"
    },
    {
     "data": {
      "text/plain": [
       "Text(0, 0.5, 'Volume')"
      ]
     },
     "execution_count": 337,
     "metadata": {},
     "output_type": "execute_result"
    },
    {
     "data": {
      "text/plain": [
       "<matplotlib.axes._subplots.AxesSubplot at 0x1a3cb45208>"
      ]
     },
     "execution_count": 337,
     "metadata": {},
     "output_type": "execute_result"
    },
    {
     "data": {
      "text/plain": [
       "<matplotlib.legend.Legend at 0x1a3cb9fcc0>"
      ]
     },
     "execution_count": 337,
     "metadata": {},
     "output_type": "execute_result"
    },
    {
     "data": {
      "text/plain": [
       "Text(0.5, 1.0, 'Best First Hr Vol vs Last Hr Vol')"
      ]
     },
     "execution_count": 337,
     "metadata": {},
     "output_type": "execute_result"
    },
    {
     "data": {
      "text/plain": [
       "Text(0.5, 0, 'Traders')"
      ]
     },
     "execution_count": 337,
     "metadata": {},
     "output_type": "execute_result"
    },
    {
     "data": {
      "text/plain": [
       "Text(0, 0.5, 'Volume')"
      ]
     },
     "execution_count": 337,
     "metadata": {},
     "output_type": "execute_result"
    },
    {
     "data": {
      "text/plain": [
       "<matplotlib.axes._subplots.AxesSubplot at 0x1a3cb81e10>"
      ]
     },
     "execution_count": 337,
     "metadata": {},
     "output_type": "execute_result"
    },
    {
     "data": {
      "text/plain": [
       "<matplotlib.legend.Legend at 0x1a3cbe9f60>"
      ]
     },
     "execution_count": 337,
     "metadata": {},
     "output_type": "execute_result"
    },
    {
     "data": {
      "text/plain": [
       "Text(0.5, 1.0, 'Best First Hr User Vol vs Last User Hr Vol')"
      ]
     },
     "execution_count": 337,
     "metadata": {},
     "output_type": "execute_result"
    },
    {
     "data": {
      "text/plain": [
       "Text(0.5, 0, 'Traders')"
      ]
     },
     "execution_count": 337,
     "metadata": {},
     "output_type": "execute_result"
    },
    {
     "data": {
      "text/plain": [
       "Text(0, 0.5, 'Volume')"
      ]
     },
     "execution_count": 337,
     "metadata": {},
     "output_type": "execute_result"
    },
    {
     "data": {
      "image/png": "[encoded data removed]",
      "text/plain": [
       "<Figure size 432x288 with 4 Axes>"
      ]
     },
     "metadata": {
      "needs_background": "light"
     },
     "output_type": "display_data"
    }
   ],
   "source": [
    "import numpy as np\n",
    "import matplotlib.pyplot as plt\n",
    "from matplotlib.ticker import NullFormatter  # useful for `logit` scale\n",
    "# Plots\n",
    "\n",
    "# plot with various axes scales\n",
    "plt.figure(1)\n",
    "\n",
    "# Net\n",
    "plt.subplot(221)\n",
    "plt.plot(bt_net,'-')\n",
    "plt.title('Best Net')\n",
    "plt.xlabel('Traders')\n",
    "plt.ylabel('Net')\n",
    "plt.grid(True)\n",
    "\n",
    "# User Volume and Total Volume\n",
    "plt.subplot(222)\n",
    "#######\n",
    "line11, = plt.plot(bt_uservol, '-', label=\"User Volume\")\n",
    "line21, = plt.plot(bt_totvol, 'r--', label=\"Total Volume\")\n",
    "# Create a legend for the first line.\n",
    "fourth_legend = plt.legend(handles=[line11], loc=1)\n",
    "# Add the legend manually to the current Axes.\n",
    "ax11 = plt.gca().add_artist(fourth_legend)\n",
    "# Create another legend for the second line.\n",
    "plt.legend(handles=[line21], loc=4)\n",
    "#######\n",
    "plt.title('Best User Volume and Total Volume')\n",
    "plt.xlabel('Traders')\n",
    "plt.ylabel('Volume')\n",
    "plt.grid(True)\n",
    "\n",
    "# First Hr Vol vs Last Hr Vol\n",
    "plt.subplot(223)\n",
    "#########\n",
    "line31, = plt.plot(bt_frsthrvol, '-', label=\"First Hr Volume\")\n",
    "line41, = plt.plot(bt_lsthrvol, 'r--', label=\"Last Hr Volume\")\n",
    "# Create a legend for the first line.\n",
    "fifth_legend = plt.legend(handles=[line31], loc=1)\n",
    "# Add the legend manually to the current Axes.\n",
    "ax21 = plt.gca().add_artist(fifth_legend)\n",
    "# Create another legend for the second line.\n",
    "plt.legend(handles=[line41], loc=4)\n",
    "##########\n",
    "plt.title('Best First Hr Vol vs Last Hr Vol')\n",
    "plt.xlabel('Traders')\n",
    "plt.ylabel('Volume')\n",
    "plt.grid(True)\n",
    "\n",
    "# First and Last hr User Vol\n",
    "plt.subplot(224)\n",
    "#########\n",
    "line51, = plt.plot(bt_frsthruservol, '-', label=\"First Hr Volume\")\n",
    "line61, = plt.plot(bt_lsthruservol, 'r--', label=\"Last Hr Volume\")\n",
    "# Create a legend for the first line.\n",
    "six_legend = plt.legend(handles=[line51], loc=1)\n",
    "# Add the legend manually to the current Axes.\n",
    "ax31 = plt.gca().add_artist(six_legend)\n",
    "# Create another legend for the second line.\n",
    "plt.legend(handles=[line61], loc=4)\n",
    "##########\n",
    "plt.title('Best First Hr User Vol vs Last User Hr Vol')\n",
    "plt.xlabel('Traders')\n",
    "plt.ylabel('Volume')\n",
    "plt.grid(True) \n",
    "\n",
    "plt.subplots_adjust(top=12, bottom=11, left=0.10, right=1.4, hspace=.5,\n",
    "                    wspace=.5)\n",
    "\n",
    "\n",
    "plt.show()"
   ]
  },
  {
   "cell_type": "code",
   "execution_count": null,
   "metadata": {},
   "outputs": [],
   "source": [
    "# Those that traded in the first hour tended to do better.\n",
    "# Top traders traded less than the rest of the traders\n",
    "# Mixed Result, about half traded in the first hour while other half traded in last hour.\n",
    "# Same result for top traders (users), half traded in AM & half in PM"
   ]
  },
  {
   "cell_type": "markdown",
   "metadata": {},
   "source": [
    "### Top 5 Survey Analysis"
   ]
  },
  {
   "cell_type": "code",
   "execution_count": 277,
   "metadata": {},
   "outputs": [],
   "source": [
    "bt_q2 = best_all[['trader', 'Q2']]\n",
    "bt_q9 = best_all[['trader', 'Q9']]\n",
    "bt_q12 = best_all[['trader', 'Q12']]\n",
    "bt_q14 = best_all[['trader', 'Q14']]\n",
    "bt_q15 = best_all[['trader', 'Q15']]\n",
    "bt_q30 = best_all[['trader', 'Q30']]\n",
    "\n",
    "bt_q2.set_index('trader', inplace=True)\n",
    "bt_q9.set_index('trader', inplace=True)\n",
    "bt_q12.set_index('trader', inplace=True)\n",
    "bt_q14.set_index('trader', inplace=True)\n",
    "bt_q15.set_index('trader', inplace=True)\n",
    "bt_q30.set_index('trader', inplace=True)\n",
    "\n",
    "# Could not get these to plot **"
   ]
  },
  {
   "cell_type": "markdown",
   "metadata": {},
   "source": [
    "***\n",
    "# Worst Traders Analysis | Last 3 traders by 'net'"
   ]
  },
  {
   "cell_type": "code",
   "execution_count": 297,
   "metadata": {},
   "outputs": [
    {
     "data": {
      "text/plain": [
       "80    -1861.500000\n",
       "379   -1568.700087\n",
       "205   -1213.299985\n",
       "Name: net, dtype: float64"
      ]
     },
     "execution_count": 297,
     "metadata": {},
     "output_type": "execute_result"
    },
    {
     "data": {
      "text/plain": [
       "80      S3\n",
       "379    S10\n",
       "205     S7\n",
       "Name: desk, dtype: object"
      ]
     },
     "execution_count": 297,
     "metadata": {},
     "output_type": "execute_result"
    },
    {
     "data": {
      "text/plain": [
       "80     1508\n",
       "379     17a\n",
       "205    16b1\n",
       "Name: trader, dtype: object"
      ]
     },
     "execution_count": 297,
     "metadata": {},
     "output_type": "execute_result"
    },
    {
     "data": {
      "text/html": [
       "<div>\n",
       "<style scoped>\n",
       "    .dataframe tbody tr th:only-of-type {\n",
       "        vertical-align: middle;\n",
       "    }\n",
       "\n",
       "    .dataframe tbody tr th {\n",
       "        vertical-align: top;\n",
       "    }\n",
       "\n",
       "    .dataframe thead th {\n",
       "        text-align: right;\n",
       "    }\n",
       "</style>\n",
       "<table border=\"1\" class=\"dataframe\">\n",
       "  <thead>\n",
       "    <tr style=\"text-align: right;\">\n",
       "      <th></th>\n",
       "      <th>ido</th>\n",
       "      <th>price</th>\n",
       "      <th>realizedtot</th>\n",
       "      <th>unrealq</th>\n",
       "      <th>uservolu</th>\n",
       "      <th>useroftotalvolu</th>\n",
       "      <th>totalvolu</th>\n",
       "      <th>tradecount</th>\n",
       "      <th>firsthourvolu</th>\n",
       "      <th>firsthouruservolu</th>\n",
       "      <th>...</th>\n",
       "      <th>uservoltradedbuysell</th>\n",
       "      <th>Gender</th>\n",
       "      <th>Q2</th>\n",
       "      <th>Q9</th>\n",
       "      <th>Q12</th>\n",
       "      <th>Q14</th>\n",
       "      <th>Q15</th>\n",
       "      <th>Q30</th>\n",
       "      <th>desk</th>\n",
       "      <th>trader</th>\n",
       "    </tr>\n",
       "  </thead>\n",
       "  <tbody>\n",
       "    <tr>\n",
       "      <th>80</th>\n",
       "      <td>S3C1508</td>\n",
       "      <td>21.0</td>\n",
       "      <td>5425.50000</td>\n",
       "      <td>-347</td>\n",
       "      <td>5681</td>\n",
       "      <td>0.728333</td>\n",
       "      <td>7800</td>\n",
       "      <td>321</td>\n",
       "      <td>1688</td>\n",
       "      <td>450</td>\n",
       "      <td>...</td>\n",
       "      <td>5681</td>\n",
       "      <td>M</td>\n",
       "      <td>3</td>\n",
       "      <td>2</td>\n",
       "      <td>2</td>\n",
       "      <td>4</td>\n",
       "      <td>2</td>\n",
       "      <td>N</td>\n",
       "      <td>S3</td>\n",
       "      <td>1508</td>\n",
       "    </tr>\n",
       "    <tr>\n",
       "      <th>379</th>\n",
       "      <td>S10C17a</td>\n",
       "      <td>20.0</td>\n",
       "      <td>-22128.70009</td>\n",
       "      <td>1028</td>\n",
       "      <td>5204</td>\n",
       "      <td>0.684647</td>\n",
       "      <td>7601</td>\n",
       "      <td>214</td>\n",
       "      <td>3924</td>\n",
       "      <td>1450</td>\n",
       "      <td>...</td>\n",
       "      <td>5204</td>\n",
       "      <td>F</td>\n",
       "      <td>3</td>\n",
       "      <td>2</td>\n",
       "      <td>3</td>\n",
       "      <td>2</td>\n",
       "      <td>2</td>\n",
       "      <td>N</td>\n",
       "      <td>S10</td>\n",
       "      <td>17a</td>\n",
       "    </tr>\n",
       "    <tr>\n",
       "      <th>205</th>\n",
       "      <td>S7C16b1</td>\n",
       "      <td>20.9</td>\n",
       "      <td>22403.70002</td>\n",
       "      <td>-1130</td>\n",
       "      <td>1490</td>\n",
       "      <td>0.366544</td>\n",
       "      <td>4065</td>\n",
       "      <td>92</td>\n",
       "      <td>978</td>\n",
       "      <td>110</td>\n",
       "      <td>...</td>\n",
       "      <td>1490</td>\n",
       "      <td>M</td>\n",
       "      <td>3</td>\n",
       "      <td>5</td>\n",
       "      <td>1</td>\n",
       "      <td>1</td>\n",
       "      <td>1</td>\n",
       "      <td>N</td>\n",
       "      <td>S7</td>\n",
       "      <td>16b1</td>\n",
       "    </tr>\n",
       "  </tbody>\n",
       "</table>\n",
       "<p>3 rows × 29 columns</p>\n",
       "</div>"
      ],
      "text/plain": [
       "         ido  price  realizedtot  unrealq  uservolu  useroftotalvolu  \\\n",
       "80   S3C1508   21.0   5425.50000     -347      5681         0.728333   \n",
       "379  S10C17a   20.0 -22128.70009     1028      5204         0.684647   \n",
       "205  S7C16b1   20.9  22403.70002    -1130      1490         0.366544   \n",
       "\n",
       "     totalvolu  tradecount  firsthourvolu  firsthouruservolu   ...    \\\n",
       "80        7800         321           1688                450   ...     \n",
       "379       7601         214           3924               1450   ...     \n",
       "205       4065          92            978                110   ...     \n",
       "\n",
       "     uservoltradedbuysell  Gender  Q2  Q9  Q12  Q14  Q15  Q30  desk  trader  \n",
       "80                   5681       M   3   2    2    4    2    N    S3    1508  \n",
       "379                  5204       F   3   2    3    2    2    N   S10     17a  \n",
       "205                  1490       M   3   5    1    1    1    N    S7    16b1  \n",
       "\n",
       "[3 rows x 29 columns]"
      ]
     },
     "execution_count": 297,
     "metadata": {},
     "output_type": "execute_result"
    }
   ],
   "source": [
    "worst_net = dr_data[dr_data.net < -1000].sort_values('net', ascending=True) # Worst 5\n",
    "worst_net['net']\n",
    "worst_net['desk']\n",
    "worst_net['trader']\n",
    "worst_net"
   ]
  },
  {
   "cell_type": "code",
   "execution_count": 298,
   "metadata": {},
   "outputs": [
    {
     "data": {
      "text/plain": [
       "<seaborn.axisgrid.FacetGrid at 0x1a3661a0f0>"
      ]
     },
     "execution_count": 298,
     "metadata": {},
     "output_type": "execute_result"
    },
    {
     "data": {
      "image/png": "[encoded data removed]",
      "text/plain": [
       "<Figure size 360x360 with 1 Axes>"
      ]
     },
     "metadata": {
      "needs_background": "light"
     },
     "output_type": "display_data"
    }
   ],
   "source": [
    "sns.catplot(x='trader',kind='count',data=worst_net)\n",
    "# Flat across the board; no duplicates slipped through"
   ]
  },
  {
   "cell_type": "code",
   "execution_count": 299,
   "metadata": {},
   "outputs": [
    {
     "data": {
      "text/html": [
       "<div>\n",
       "<style scoped>\n",
       "    .dataframe tbody tr th:only-of-type {\n",
       "        vertical-align: middle;\n",
       "    }\n",
       "\n",
       "    .dataframe tbody tr th {\n",
       "        vertical-align: top;\n",
       "    }\n",
       "\n",
       "    .dataframe thead th {\n",
       "        text-align: right;\n",
       "    }\n",
       "</style>\n",
       "<table border=\"1\" class=\"dataframe\">\n",
       "  <thead>\n",
       "    <tr style=\"text-align: right;\">\n",
       "      <th></th>\n",
       "      <th>trader</th>\n",
       "      <th>net</th>\n",
       "      <th>uservolu</th>\n",
       "      <th>useroftotalvolu</th>\n",
       "      <th>totalvolu</th>\n",
       "      <th>tradecount</th>\n",
       "      <th>firsthourvolu</th>\n",
       "      <th>firsthouruservolu</th>\n",
       "      <th>lasthourvolu</th>\n",
       "      <th>lasthouruservolu</th>\n",
       "      <th>price</th>\n",
       "      <th>vwap</th>\n",
       "      <th>Gender</th>\n",
       "    </tr>\n",
       "  </thead>\n",
       "  <tbody>\n",
       "    <tr>\n",
       "      <th>80</th>\n",
       "      <td>1508</td>\n",
       "      <td>-1861.500000</td>\n",
       "      <td>5681</td>\n",
       "      <td>0.728333</td>\n",
       "      <td>7800</td>\n",
       "      <td>321</td>\n",
       "      <td>1688</td>\n",
       "      <td>450</td>\n",
       "      <td>8474</td>\n",
       "      <td>3200</td>\n",
       "      <td>21.0</td>\n",
       "      <td>20.359308</td>\n",
       "      <td>M</td>\n",
       "    </tr>\n",
       "    <tr>\n",
       "      <th>379</th>\n",
       "      <td>17a</td>\n",
       "      <td>-1568.700087</td>\n",
       "      <td>5204</td>\n",
       "      <td>0.684647</td>\n",
       "      <td>7601</td>\n",
       "      <td>214</td>\n",
       "      <td>3924</td>\n",
       "      <td>1450</td>\n",
       "      <td>5684</td>\n",
       "      <td>1965</td>\n",
       "      <td>20.0</td>\n",
       "      <td>20.404973</td>\n",
       "      <td>F</td>\n",
       "    </tr>\n",
       "    <tr>\n",
       "      <th>205</th>\n",
       "      <td>16b1</td>\n",
       "      <td>-1213.299985</td>\n",
       "      <td>1490</td>\n",
       "      <td>0.366544</td>\n",
       "      <td>4065</td>\n",
       "      <td>92</td>\n",
       "      <td>978</td>\n",
       "      <td>110</td>\n",
       "      <td>3118</td>\n",
       "      <td>480</td>\n",
       "      <td>20.9</td>\n",
       "      <td>20.152522</td>\n",
       "      <td>M</td>\n",
       "    </tr>\n",
       "  </tbody>\n",
       "</table>\n",
       "</div>"
      ],
      "text/plain": [
       "    trader          net  uservolu  useroftotalvolu  totalvolu  tradecount  \\\n",
       "80    1508 -1861.500000      5681         0.728333       7800         321   \n",
       "379    17a -1568.700087      5204         0.684647       7601         214   \n",
       "205   16b1 -1213.299985      1490         0.366544       4065          92   \n",
       "\n",
       "     firsthourvolu  firsthouruservolu  lasthourvolu  lasthouruservolu  price  \\\n",
       "80            1688                450          8474              3200   21.0   \n",
       "379           3924               1450          5684              1965   20.0   \n",
       "205            978                110          3118               480   20.9   \n",
       "\n",
       "          vwap Gender  \n",
       "80   20.359308      M  \n",
       "379  20.404973      F  \n",
       "205  20.152522      M  "
      ]
     },
     "execution_count": 299,
     "metadata": {},
     "output_type": "execute_result"
    },
    {
     "data": {
      "text/plain": [
       "80     M\n",
       "379    F\n",
       "205    M\n",
       "Name: Gender, dtype: object"
      ]
     },
     "execution_count": 299,
     "metadata": {},
     "output_type": "execute_result"
    },
    {
     "data": {
      "text/plain": [
       "'I traded using ALL of the information provided to me at each stage'"
      ]
     },
     "execution_count": 299,
     "metadata": {},
     "output_type": "execute_result"
    },
    {
     "data": {
      "text/plain": [
       "'I believe that I can improve on my net profits if I had more information even if I did not have any technological tools to analyze the information'"
      ]
     },
     "execution_count": 299,
     "metadata": {},
     "output_type": "execute_result"
    },
    {
     "data": {
      "text/plain": [
       "'The source (Highly reputed like Wall Street Journal/ Bloomberg versus low/unknown reputation like Sun news) of information would impact my trading decisions'"
      ]
     },
     "execution_count": 299,
     "metadata": {},
     "output_type": "execute_result"
    },
    {
     "data": {
      "text/plain": [
       "'The medium (news /blog /video/ tool based) of information impacted my trading decisions'"
      ]
     },
     "execution_count": 299,
     "metadata": {},
     "output_type": "execute_result"
    },
    {
     "data": {
      "text/plain": [
       "'I believe that more stock specific information could have helped me to increase my net profits'"
      ]
     },
     "execution_count": 299,
     "metadata": {},
     "output_type": "execute_result"
    },
    {
     "data": {
      "text/plain": [
       "'I have had prior experience in live trading stock /shares'"
      ]
     },
     "execution_count": 299,
     "metadata": {},
     "output_type": "execute_result"
    },
    {
     "data": {
      "text/html": [
       "<div>\n",
       "<style scoped>\n",
       "    .dataframe tbody tr th:only-of-type {\n",
       "        vertical-align: middle;\n",
       "    }\n",
       "\n",
       "    .dataframe tbody tr th {\n",
       "        vertical-align: top;\n",
       "    }\n",
       "\n",
       "    .dataframe thead th {\n",
       "        text-align: right;\n",
       "    }\n",
       "</style>\n",
       "<table border=\"1\" class=\"dataframe\">\n",
       "  <thead>\n",
       "    <tr style=\"text-align: right;\">\n",
       "      <th></th>\n",
       "      <th>Q2</th>\n",
       "      <th>Q9</th>\n",
       "      <th>Q12</th>\n",
       "      <th>Q14</th>\n",
       "      <th>Q15</th>\n",
       "      <th>Q30</th>\n",
       "    </tr>\n",
       "  </thead>\n",
       "  <tbody>\n",
       "    <tr>\n",
       "      <th>80</th>\n",
       "      <td>3</td>\n",
       "      <td>2</td>\n",
       "      <td>2</td>\n",
       "      <td>4</td>\n",
       "      <td>2</td>\n",
       "      <td>N</td>\n",
       "    </tr>\n",
       "    <tr>\n",
       "      <th>379</th>\n",
       "      <td>3</td>\n",
       "      <td>2</td>\n",
       "      <td>3</td>\n",
       "      <td>2</td>\n",
       "      <td>2</td>\n",
       "      <td>N</td>\n",
       "    </tr>\n",
       "    <tr>\n",
       "      <th>205</th>\n",
       "      <td>3</td>\n",
       "      <td>5</td>\n",
       "      <td>1</td>\n",
       "      <td>1</td>\n",
       "      <td>1</td>\n",
       "      <td>N</td>\n",
       "    </tr>\n",
       "  </tbody>\n",
       "</table>\n",
       "</div>"
      ],
      "text/plain": [
       "    Q2 Q9 Q12 Q14 Q15 Q30\n",
       "80   3  2   2   4   2   N\n",
       "379  3  2   3   2   2   N\n",
       "205  3  5   1   1   1   N"
      ]
     },
     "execution_count": 299,
     "metadata": {},
     "output_type": "execute_result"
    }
   ],
   "source": [
    "worst_traders = worst_net[['trader','net', 'uservolu','useroftotalvolu','totalvolu',\n",
    "                   'tradecount','firsthourvolu','firsthouruservolu',\n",
    "                   'lasthourvolu','lasthouruservolu', 'price','vwap','Gender']]\n",
    "worst_traders\n",
    "\n",
    "worst_traders['Gender']\n",
    "\n",
    "meta_dict['Q2']\n",
    "meta_dict['Q9']\n",
    "meta_dict['Q12']\n",
    "meta_dict['Q14']\n",
    "meta_dict['Q15']\n",
    "meta_dict['Q30']\n",
    "\n",
    "worst_survey = worst_net[['Q2', 'Q9', 'Q12', 'Q14', 'Q15', 'Q30']]\n",
    "worst_survey\n",
    "\n",
    "worst_all = worst_net[['trader','net', 'uservolu','useroftotalvolu','totalvolu',\n",
    "                   'tradecount','firsthourvolu','firsthouruservolu',\n",
    "                   'lasthourvolu','lasthouruservolu', 'price','vwap','Gender',\n",
    "                    'Q2', 'Q9', 'Q12', 'Q14', 'Q15', 'Q30']]"
   ]
  },
  {
   "cell_type": "code",
   "execution_count": 300,
   "metadata": {},
   "outputs": [],
   "source": [
    "# All were neutral on using ALL info provided.\n",
    "# The 2 worst agree that more info would have helped them. The 3rd from worst strongly disagreed with that.\n",
    "# High rep news sources impacted the worst and third from worst's trade decisions. 2nd worst was neutral.\n",
    "# news did not have an imact on the worst traders decisions. It did on the 2nd and 3rd worst, 3rd worst strongly agreed.\n",
    "# All agreed that mroe stock specific info would have helped them, 3rd worst strongly agreed.\n",
    "# All had no experience trading stocks."
   ]
  },
  {
   "cell_type": "code",
   "execution_count": 301,
   "metadata": {},
   "outputs": [],
   "source": [
    "# Separated\n",
    "wt_net = worst_traders[['trader', 'net']]\n",
    "wt_uservol = worst_traders[['trader', 'uservolu']]\n",
    "wt_usertotvol = worst_traders[['trader', 'useroftotalvolu']]\n",
    "wt_totvol = worst_traders[['trader', 'totalvolu']]\n",
    "wt_trdcnt = worst_traders[['trader', 'tradecount']]\n",
    "wt_frsthrvol = worst_traders[['trader', 'firsthourvolu']]\n",
    "wt_frsthruservol = worst_traders[['trader', 'firsthouruservolu']]\n",
    "wt_lsthrvol = worst_traders[['trader', 'lasthourvolu']]\n",
    "wt_lsthruservol = worst_traders[['trader', 'lasthouruservolu']]\n",
    "wt_price = worst_traders[['trader', 'price']]\n",
    "wt_vwap = worst_traders[['trader', 'vwap']]\n",
    "wt_gender = worst_traders[['trader', 'Gender']]\n",
    "\n",
    "# remove count\n",
    "wt_net.set_index('trader', inplace=True)\n",
    "wt_uservol.set_index('trader', inplace=True)\n",
    "wt_usertotvol.set_index('trader', inplace=True)\n",
    "wt_totvol.set_index('trader', inplace=True)\n",
    "wt_trdcnt.set_index('trader', inplace=True)\n",
    "wt_frsthrvol.set_index('trader', inplace=True)\n",
    "wt_frsthruservol.set_index('trader', inplace=True)\n",
    "wt_lsthrvol.set_index('trader', inplace=True)\n",
    "wt_lsthruservol.set_index('trader', inplace=True)\n",
    "wt_price.set_index('trader', inplace=True)\n",
    "wt_vwap.set_index('trader', inplace=True)\n",
    "wt_gender.set_index('trader', inplace=True)"
   ]
  },
  {
   "cell_type": "code",
   "execution_count": 338,
   "metadata": {},
   "outputs": [
    {
     "data": {
      "text/plain": [
       "<Figure size 432x288 with 0 Axes>"
      ]
     },
     "execution_count": 338,
     "metadata": {},
     "output_type": "execute_result"
    },
    {
     "data": {
      "text/plain": [
       "Text(0.5, 1.0, 'Worst Net')"
      ]
     },
     "execution_count": 338,
     "metadata": {},
     "output_type": "execute_result"
    },
    {
     "data": {
      "text/plain": [
       "<matplotlib.axes._subplots.AxesSubplot at 0x1a3cc979e8>"
      ]
     },
     "execution_count": 338,
     "metadata": {},
     "output_type": "execute_result"
    },
    {
     "data": {
      "text/plain": [
       "[<matplotlib.lines.Line2D at 0x1a3cbe9550>]"
      ]
     },
     "execution_count": 338,
     "metadata": {},
     "output_type": "execute_result"
    },
    {
     "data": {
      "text/plain": [
       "Text(0.5, 1.0, 'Worst Net')"
      ]
     },
     "execution_count": 338,
     "metadata": {},
     "output_type": "execute_result"
    },
    {
     "data": {
      "text/plain": [
       "Text(0.5, 0, 'Traders')"
      ]
     },
     "execution_count": 338,
     "metadata": {},
     "output_type": "execute_result"
    },
    {
     "data": {
      "text/plain": [
       "Text(0, 0.5, 'Net')"
      ]
     },
     "execution_count": 338,
     "metadata": {},
     "output_type": "execute_result"
    },
    {
     "data": {
      "text/plain": [
       "<matplotlib.axes._subplots.AxesSubplot at 0x1a3cca3198>"
      ]
     },
     "execution_count": 338,
     "metadata": {},
     "output_type": "execute_result"
    },
    {
     "data": {
      "text/plain": [
       "<matplotlib.legend.Legend at 0x1a3cdcaf28>"
      ]
     },
     "execution_count": 338,
     "metadata": {},
     "output_type": "execute_result"
    },
    {
     "data": {
      "text/plain": [
       "Text(0.5, 1.0, 'Worst User Volume and Total Volume')"
      ]
     },
     "execution_count": 338,
     "metadata": {},
     "output_type": "execute_result"
    },
    {
     "data": {
      "text/plain": [
       "Text(0.5, 0, 'Traders')"
      ]
     },
     "execution_count": 338,
     "metadata": {},
     "output_type": "execute_result"
    },
    {
     "data": {
      "text/plain": [
       "Text(0, 0.5, 'Volume')"
      ]
     },
     "execution_count": 338,
     "metadata": {},
     "output_type": "execute_result"
    },
    {
     "data": {
      "text/plain": [
       "<matplotlib.axes._subplots.AxesSubplot at 0x1a3cdb2940>"
      ]
     },
     "execution_count": 338,
     "metadata": {},
     "output_type": "execute_result"
    },
    {
     "data": {
      "text/plain": [
       "<matplotlib.legend.Legend at 0x1a3ce06ac8>"
      ]
     },
     "execution_count": 338,
     "metadata": {},
     "output_type": "execute_result"
    },
    {
     "data": {
      "text/plain": [
       "Text(0.5, 1.0, 'Worst First Hr Vol vs Last Hr Vol')"
      ]
     },
     "execution_count": 338,
     "metadata": {},
     "output_type": "execute_result"
    },
    {
     "data": {
      "text/plain": [
       "Text(0.5, 0, 'Traders')"
      ]
     },
     "execution_count": 338,
     "metadata": {},
     "output_type": "execute_result"
    },
    {
     "data": {
      "text/plain": [
       "Text(0, 0.5, 'Volume')"
      ]
     },
     "execution_count": 338,
     "metadata": {},
     "output_type": "execute_result"
    },
    {
     "data": {
      "text/plain": [
       "<matplotlib.axes._subplots.AxesSubplot at 0x1a3cdfdc18>"
      ]
     },
     "execution_count": 338,
     "metadata": {},
     "output_type": "execute_result"
    },
    {
     "data": {
      "text/plain": [
       "<matplotlib.legend.Legend at 0x1a3cc7fb38>"
      ]
     },
     "execution_count": 338,
     "metadata": {},
     "output_type": "execute_result"
    },
    {
     "data": {
      "text/plain": [
       "Text(0.5, 1.0, 'Worst First Hr User Vol vs Last User Hr Vol')"
      ]
     },
     "execution_count": 338,
     "metadata": {},
     "output_type": "execute_result"
    },
    {
     "data": {
      "text/plain": [
       "Text(0.5, 0, 'Traders')"
      ]
     },
     "execution_count": 338,
     "metadata": {},
     "output_type": "execute_result"
    },
    {
     "data": {
      "text/plain": [
       "Text(0, 0.5, 'Volume')"
      ]
     },
     "execution_count": 338,
     "metadata": {},
     "output_type": "execute_result"
    },
    {
     "data": {
      "image/png": "[encoded data removed]",
      "text/plain": [
       "<Figure size 432x288 with 4 Axes>"
      ]
     },
     "metadata": {
      "needs_background": "light"
     },
     "output_type": "display_data"
    }
   ],
   "source": [
    "# Plots\n",
    "\n",
    "# plot with various axes scales\n",
    "\n",
    "plt.figure(1)\n",
    "plt.title('Worst Net')\n",
    "\n",
    "# Net\n",
    "plt.subplot(221)\n",
    "plt.plot(wt_net,'-')\n",
    "plt.title('Worst Net')\n",
    "plt.xlabel('Traders')\n",
    "plt.ylabel('Net')\n",
    "plt.grid(True)\n",
    "# Those that traded in the first hour tended to do better.\n",
    "\n",
    "\n",
    "# User Volume and Total Volume\n",
    "plt.subplot(222)\n",
    "#######\n",
    "line1, = plt.plot(wt_uservol, '-', label=\"User Volume\")\n",
    "line2, = plt.plot(wt_totvol, 'r--', label=\"Total Volume\")\n",
    "# Create a legend for the first line.\n",
    "first_legend = plt.legend(handles=[line1], loc=1)\n",
    "# Add the legend manually to the current Axes.\n",
    "ax = plt.gca().add_artist(first_legend)\n",
    "# Create another legend for the second line.\n",
    "plt.legend(handles=[line2], loc=4)\n",
    "#######\n",
    "plt.title('Worst User Volume and Total Volume')\n",
    "plt.xlabel('Traders')\n",
    "plt.ylabel('Volume')\n",
    "plt.grid(True)\n",
    "# Top traders traded less than the rest of the traders\n",
    "\n",
    "\n",
    "# First Hr Vol vs Last Hr Vol\n",
    "plt.subplot(223)\n",
    "#########\n",
    "line3, = plt.plot(wt_frsthrvol, '-', label=\"First Hr Volume\")\n",
    "line4, = plt.plot(wt_lsthrvol, 'r--', label=\"Last Hr Volume\")\n",
    "# Create a legend for the first line.\n",
    "second_legend = plt.legend(handles=[line3], loc=1)\n",
    "# Add the legend manually to the current Axes.\n",
    "ax2 = plt.gca().add_artist(second_legend)\n",
    "# Create another legend for the second line.\n",
    "plt.legend(handles=[line4], loc=4)\n",
    "##########\n",
    "plt.title('Worst First Hr Vol vs Last Hr Vol')\n",
    "plt.xlabel('Traders')\n",
    "plt.ylabel('Volume')\n",
    "plt.grid(True)\n",
    "# Mixed Result, about half traded in the first hour while other half traded in last hour.\n",
    "\n",
    "\n",
    "\n",
    "# First and Last hr User Vol\n",
    "plt.subplot(224)\n",
    "#########\n",
    "line5, = plt.plot(wt_frsthruservol, '-', label=\"First Hr Volume\")\n",
    "line6, = plt.plot(wt_lsthruservol, 'r--', label=\"Last Hr Volume\")\n",
    "# Create a legend for the first line.\n",
    "third_legend = plt.legend(handles=[line5], loc=1)\n",
    "# Add the legend manually to the current Axes.\n",
    "ax3 = plt.gca().add_artist(third_legend)\n",
    "# Create another legend for the second line.\n",
    "plt.legend(handles=[line6], loc=4)\n",
    "##########\n",
    "plt.title('Worst First Hr User Vol vs Last User Hr Vol')\n",
    "plt.xlabel('Traders')\n",
    "plt.ylabel('Volume')\n",
    "plt.grid(True) \n",
    "# Same result for top traders (users), half traded in AM & half in PM\n",
    "\n",
    "plt.subplots_adjust(top=12, bottom=11, left=0.10, right=1.4, hspace=.5,\n",
    "                    wspace=.5)\n",
    "\n",
    "plt.show()"
   ]
  },
  {
   "cell_type": "code",
   "execution_count": null,
   "metadata": {},
   "outputs": [],
   "source": [
    "# Trader 1508 traded in the PM and did the worst.\n",
    "# 16b1 traded in the first hour and did the least worst.\n",
    "# All traded less than the rest of the traders.\n",
    "# All traded more in the first and last hour than the rest."
   ]
  },
  {
   "cell_type": "code",
   "execution_count": null,
   "metadata": {},
   "outputs": [],
   "source": []
  },
  {
   "cell_type": "code",
   "execution_count": null,
   "metadata": {},
   "outputs": [],
   "source": []
  },
  {
   "cell_type": "code",
   "execution_count": null,
   "metadata": {},
   "outputs": [],
   "source": []
  },
  {
   "cell_type": "code",
   "execution_count": null,
   "metadata": {},
   "outputs": [],
   "source": []
  },
  {
   "cell_type": "code",
   "execution_count": null,
   "metadata": {},
   "outputs": [],
   "source": []
  },
  {
   "cell_type": "code",
   "execution_count": null,
   "metadata": {},
   "outputs": [],
   "source": []
  },
  {
   "cell_type": "code",
   "execution_count": null,
   "metadata": {},
   "outputs": [],
   "source": []
  },
  {
   "cell_type": "code",
   "execution_count": null,
   "metadata": {},
   "outputs": [],
   "source": []
  },
  {
   "cell_type": "code",
   "execution_count": null,
   "metadata": {},
   "outputs": [],
   "source": []
  },
  {
   "cell_type": "code",
   "execution_count": null,
   "metadata": {},
   "outputs": [],
   "source": []
  },
  {
   "cell_type": "code",
   "execution_count": null,
   "metadata": {},
   "outputs": [],
   "source": []
  },
  {
   "cell_type": "code",
   "execution_count": null,
   "metadata": {},
   "outputs": [],
   "source": []
  },
  {
   "cell_type": "code",
   "execution_count": null,
   "metadata": {},
   "outputs": [],
   "source": []
  },
  {
   "cell_type": "code",
   "execution_count": null,
   "metadata": {},
   "outputs": [],
   "source": []
  },
  {
   "cell_type": "code",
   "execution_count": null,
   "metadata": {},
   "outputs": [],
   "source": []
  },
  {
   "cell_type": "code",
   "execution_count": null,
   "metadata": {},
   "outputs": [],
   "source": []
  }
 ],
 "metadata": {
  "kernelspec": {
   "display_name": "Python 3",
   "language": "python",
   "name": "python3"
  },
  "language_info": {
   "codemirror_mode": {
    "name": "ipython",
    "version": 3
   },
   "file_extension": ".py",
   "mimetype": "text/x-python",
   "name": "python",
   "nbconvert_exporter": "python",
   "pygments_lexer": "ipython3",
   "version": "3.7.1"
  }
 },
 "nbformat": 4,
 "nbformat_minor": 2
}

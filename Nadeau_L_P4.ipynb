{
 "cells": [
  {
   "cell_type": "markdown",
   "metadata": {},
   "source": [
    "# Lee Nadeau\n",
    "\n",
    "## Assignment 4: Survey Analysis"
   ]
  },
  {
   "cell_type": "code",
   "execution_count": 178,
   "metadata": {},
   "outputs": [],
   "source": [
    "import pandas as pd\n",
    "import matplotlib.pyplot as plt\n",
    "import csv\n",
    "import numpy as np\n",
    "import pyreadstat\n",
    "import os\n",
    "import seaborn as sns\n",
    "import collections\n",
    "from sklearn.cluster import KMeans\n",
    "from sklearn.decomposition import PCA\n",
    "from sklearn.metrics import silhouette_samples\n",
    "from matplotlib import cm\n",
    "import scipy.cluster.hierarchy as hier"
   ]
  },
  {
   "cell_type": "markdown",
   "metadata": {},
   "source": [
    "### Clean Data"
   ]
  },
  {
   "cell_type": "code",
   "execution_count": 5,
   "metadata": {},
   "outputs": [],
   "source": [
    "# Load Data\n",
    "data = pd.read_excel('Survey_clean.xlsx')\n",
    "data.columns = data.columns.str.strip().str.lower().str.replace(' ','').str.replace('(','').str.replace(')', '').str.replace('.', '_').str.replace('1', 'fir').str.replace('-','_')\n",
    "df = data[['id_o', 'unnamed:fir', 'unnamed:2', 'q2', 'q9', 'qfir2', 'qfir4', 'qfir5', 'q30']]\n",
    "df = df.rename(columns={\"unnamed:fir\": \"Gender\", \"unnamed:2\": \"Based on the INFORMATION provided, the best strategy is to:\", \"q2\": \"Q2\", \"q9\": \"Q9\", \"qfir2\": \"Q12\", \"qfir4\": \"Q14\", \"qfir5\": \"Q15\", \"q30\": \"Q30\"})\n",
    "df = df.iloc[1:] # Deletes 1st column where questions were asked, causes issues with format... will bring back.\n",
    "\n",
    "# Split id_o into 'desk' & 'trader'\n",
    "df[['desk', 'trader']] = df.id_o.str.split(\"C\", n=1, expand = True)\n",
    "\n",
    "# Make formatting uniform\n",
    "df['desk'] = df['desk'].str.replace('S 10','S10').str.replace('TralS9C','S9').str.replace('S37b08T','S3').str.replace('S3 ', 'S3')\n",
    "\n",
    "# Ran once to move 'trader' column to start of data\n",
    "cols = list(df.columns)\n",
    "cols = [cols[-1]] + cols[:-1]\n",
    "df = df[cols]\n",
    "\n",
    "# Ran again to move 'desk' column to start of data\n",
    "cols = list(df.columns)\n",
    "cols = [cols[-1]] + cols[:-1]\n",
    "df = df[cols]\n",
    "\n",
    "df = df.drop(columns=['id_o'])\n",
    "df = df.drop(columns=['Based on the INFORMATION provided, the best strategy is to:'])"
   ]
  },
  {
   "cell_type": "code",
   "execution_count": 161,
   "metadata": {},
   "outputs": [
    {
     "data": {
      "text/html": [
       "<div>\n",
       "<style scoped>\n",
       "    .dataframe tbody tr th:only-of-type {\n",
       "        vertical-align: middle;\n",
       "    }\n",
       "\n",
       "    .dataframe tbody tr th {\n",
       "        vertical-align: top;\n",
       "    }\n",
       "\n",
       "    .dataframe thead th {\n",
       "        text-align: right;\n",
       "    }\n",
       "</style>\n",
       "<table border=\"1\" class=\"dataframe\">\n",
       "  <thead>\n",
       "    <tr style=\"text-align: right;\">\n",
       "      <th></th>\n",
       "      <th>desk</th>\n",
       "      <th>trader</th>\n",
       "      <th>Gender</th>\n",
       "      <th>Q2</th>\n",
       "      <th>Q9</th>\n",
       "      <th>Q12</th>\n",
       "      <th>Q14</th>\n",
       "      <th>Q15</th>\n",
       "      <th>Q30</th>\n",
       "    </tr>\n",
       "  </thead>\n",
       "  <tbody>\n",
       "    <tr>\n",
       "      <th>1</th>\n",
       "      <td>S6</td>\n",
       "      <td>14a1</td>\n",
       "      <td>F</td>\n",
       "      <td>1</td>\n",
       "      <td>3</td>\n",
       "      <td>2</td>\n",
       "      <td>3</td>\n",
       "      <td>2</td>\n",
       "      <td>Y</td>\n",
       "    </tr>\n",
       "  </tbody>\n",
       "</table>\n",
       "</div>"
      ],
      "text/plain": [
       "  desk trader Gender Q2 Q9 Q12 Q14 Q15 Q30\n",
       "1   S6   14a1      F  1  3   2   3   2   Y"
      ]
     },
     "execution_count": 161,
     "metadata": {},
     "output_type": "execute_result"
    }
   ],
   "source": [
    "df.head(1)"
   ]
  },
  {
   "cell_type": "code",
   "execution_count": 7,
   "metadata": {},
   "outputs": [
    {
     "data": {
      "text/html": [
       "<div>\n",
       "<style scoped>\n",
       "    .dataframe tbody tr th:only-of-type {\n",
       "        vertical-align: middle;\n",
       "    }\n",
       "\n",
       "    .dataframe tbody tr th {\n",
       "        vertical-align: top;\n",
       "    }\n",
       "\n",
       "    .dataframe thead th {\n",
       "        text-align: right;\n",
       "    }\n",
       "</style>\n",
       "<table border=\"1\" class=\"dataframe\">\n",
       "  <thead>\n",
       "    <tr style=\"text-align: right;\">\n",
       "      <th></th>\n",
       "      <th>desk</th>\n",
       "      <th>trader</th>\n",
       "      <th>Gender</th>\n",
       "      <th>Q2</th>\n",
       "      <th>Q9</th>\n",
       "      <th>Q12</th>\n",
       "      <th>Q14</th>\n",
       "      <th>Q15</th>\n",
       "      <th>Q30</th>\n",
       "    </tr>\n",
       "  </thead>\n",
       "  <tbody>\n",
       "    <tr>\n",
       "      <th>count</th>\n",
       "      <td>363</td>\n",
       "      <td>362</td>\n",
       "      <td>363</td>\n",
       "      <td>363</td>\n",
       "      <td>363</td>\n",
       "      <td>363</td>\n",
       "      <td>363</td>\n",
       "      <td>363</td>\n",
       "      <td>363</td>\n",
       "    </tr>\n",
       "    <tr>\n",
       "      <th>unique</th>\n",
       "      <td>10</td>\n",
       "      <td>235</td>\n",
       "      <td>2</td>\n",
       "      <td>5</td>\n",
       "      <td>5</td>\n",
       "      <td>5</td>\n",
       "      <td>5</td>\n",
       "      <td>5</td>\n",
       "      <td>2</td>\n",
       "    </tr>\n",
       "    <tr>\n",
       "      <th>top</th>\n",
       "      <td>S6</td>\n",
       "      <td>10a1</td>\n",
       "      <td>M</td>\n",
       "      <td>Agree</td>\n",
       "      <td>Agree</td>\n",
       "      <td>Agree</td>\n",
       "      <td>Agree</td>\n",
       "      <td>Agree</td>\n",
       "      <td>No</td>\n",
       "    </tr>\n",
       "    <tr>\n",
       "      <th>freq</th>\n",
       "      <td>52</td>\n",
       "      <td>5</td>\n",
       "      <td>193</td>\n",
       "      <td>110</td>\n",
       "      <td>167</td>\n",
       "      <td>203</td>\n",
       "      <td>179</td>\n",
       "      <td>212</td>\n",
       "      <td>289</td>\n",
       "    </tr>\n",
       "  </tbody>\n",
       "</table>\n",
       "</div>"
      ],
      "text/plain": [
       "       desk trader Gender     Q2     Q9    Q12    Q14    Q15  Q30\n",
       "count   363    362    363    363    363    363    363    363  363\n",
       "unique   10    235      2      5      5      5      5      5    2\n",
       "top      S6   10a1      M  Agree  Agree  Agree  Agree  Agree   No\n",
       "freq     52      5    193    110    167    203    179    212  289"
      ]
     },
     "execution_count": 7,
     "metadata": {},
     "output_type": "execute_result"
    }
   ],
   "source": [
    "# Looking to see how many desks there are\n",
    "df.describe(include='all') # See there are 10 desks"
   ]
  },
  {
   "cell_type": "code",
   "execution_count": 9,
   "metadata": {},
   "outputs": [],
   "source": [
    "# Splitting desks into their own groups\n",
    "s1 = df[df.desk=='S1']\n",
    "s2 = df[df.desk=='S2']\n",
    "s3 = df[df.desk=='S3']\n",
    "s4 = df[df.desk=='S4']\n",
    "s5 = df[df.desk=='S5']\n",
    "s6 = df[df.desk=='S6']\n",
    "s7 = df[df.desk=='S7']\n",
    "s8 = df[df.desk=='S8']\n",
    "s9 = df[df.desk=='S9']\n",
    "s10 = df[df.desk=='S10']\n",
    "\n",
    "# Changing responses to numerical values and 'Y/N' for Q30\n",
    "df['Q2'] = df['Q2'].str.replace('Neither Agree nor Disagree', '3').str.replace('Strongly Disagree', '5').str.replace('Strongly Agree', '1').str.replace('Agree', '2').str.replace('Disagree', '4')\n",
    "df['Q9'] = df['Q9'].str.replace('Neither Agree nor Disagree', '3').str.replace('Strongly Disagree', '5').str.replace('Strongly Agree', '1').str.replace('Agree', '2').str.replace('Disagree', '4')\n",
    "df['Q12'] = df['Q12'].str.replace('Neither Agree nor Disagree', '3').str.replace('Strongly Disagree', '5').str.replace('Strongly Agree', '1').str.replace('Agree', '2').str.replace('Disagree', '4')\n",
    "df['Q14'] = df['Q14'].str.replace('Neither Agree nor Disagree', '3').str.replace('Strongly Disagree', '5').str.replace('Strongly Agree', '1').str.replace('Agree', '2').str.replace('Disagree', '4')\n",
    "df['Q15'] = df['Q15'].str.replace('Neither Agree nor Disagree', '3').str.replace('Strongly Disagree', '5').str.replace('Strongly Agree', '1').str.replace('Agree', '2').str.replace('Disagree', '4')\n",
    "df['Q30'] = df['Q30'].str.replace('Yes', 'Y').str.replace('No', 'N')"
   ]
  },
  {
   "cell_type": "code",
   "execution_count": 10,
   "metadata": {},
   "outputs": [
    {
     "data": {
      "text/html": [
       "<div>\n",
       "<style scoped>\n",
       "    .dataframe tbody tr th:only-of-type {\n",
       "        vertical-align: middle;\n",
       "    }\n",
       "\n",
       "    .dataframe tbody tr th {\n",
       "        vertical-align: top;\n",
       "    }\n",
       "\n",
       "    .dataframe thead th {\n",
       "        text-align: right;\n",
       "    }\n",
       "</style>\n",
       "<table border=\"1\" class=\"dataframe\">\n",
       "  <thead>\n",
       "    <tr style=\"text-align: right;\">\n",
       "      <th></th>\n",
       "      <th>desk</th>\n",
       "      <th>trader</th>\n",
       "      <th>Gender</th>\n",
       "      <th>Q2</th>\n",
       "      <th>Q9</th>\n",
       "      <th>Q12</th>\n",
       "      <th>Q14</th>\n",
       "      <th>Q15</th>\n",
       "      <th>Q30</th>\n",
       "    </tr>\n",
       "  </thead>\n",
       "  <tbody>\n",
       "    <tr>\n",
       "      <th>1</th>\n",
       "      <td>S6</td>\n",
       "      <td>14a1</td>\n",
       "      <td>F</td>\n",
       "      <td>1</td>\n",
       "      <td>3</td>\n",
       "      <td>2</td>\n",
       "      <td>3</td>\n",
       "      <td>2</td>\n",
       "      <td>Y</td>\n",
       "    </tr>\n",
       "  </tbody>\n",
       "</table>\n",
       "</div>"
      ],
      "text/plain": [
       "  desk trader Gender Q2 Q9 Q12 Q14 Q15 Q30\n",
       "1   S6   14a1      F  1  3   2   3   2   Y"
      ]
     },
     "execution_count": 10,
     "metadata": {},
     "output_type": "execute_result"
    }
   ],
   "source": [
    "df.head(1)"
   ]
  },
  {
   "cell_type": "markdown",
   "metadata": {},
   "source": [
    "### Exploring and Evaluating Data"
   ]
  },
  {
   "cell_type": "code",
   "execution_count": 21,
   "metadata": {},
   "outputs": [
    {
     "data": {
      "text/plain": [
       "S1     0.038567\n",
       "S10    0.134986\n",
       "S2     0.063361\n",
       "S3     0.140496\n",
       "S4     0.099174\n",
       "S5     0.137741\n",
       "S6     0.143251\n",
       "S7     0.129477\n",
       "S8     0.033058\n",
       "S9     0.079890\n",
       "Name: desk, dtype: float64"
      ]
     },
     "execution_count": 21,
     "metadata": {},
     "output_type": "execute_result"
    }
   ],
   "source": [
    "# Looking at percents of traders within each desk\n",
    "df['desk'].value_counts(normalize=True).sort_index()"
   ]
  },
  {
   "cell_type": "code",
   "execution_count": 20,
   "metadata": {},
   "outputs": [
    {
     "data": {
      "text/plain": [
       "S6     52\n",
       "S3     51\n",
       "S5     50\n",
       "S10    49\n",
       "S7     47\n",
       "S4     36\n",
       "S9     29\n",
       "S2     23\n",
       "S1     14\n",
       "S8     12\n",
       "Name: desk, dtype: int64"
      ]
     },
     "execution_count": 20,
     "metadata": {},
     "output_type": "execute_result"
    }
   ],
   "source": [
    "# Gives a count of traders per desk, continuation of above cell\n",
    "df['desk'].value_counts()"
   ]
  },
  {
   "cell_type": "code",
   "execution_count": 22,
   "metadata": {},
   "outputs": [
    {
     "data": {
      "text/plain": [
       "F    0.46832\n",
       "M    0.53168\n",
       "Name: Gender, dtype: float64"
      ]
     },
     "execution_count": 22,
     "metadata": {},
     "output_type": "execute_result"
    }
   ],
   "source": [
    "# Looking at male to female ratio\n",
    "df['Gender'].value_counts(normalize=True).sort_index() \n",
    "# Almost evenly split, but slightly more males"
   ]
  },
  {
   "cell_type": "markdown",
   "metadata": {},
   "source": [
    "#### Looking at responses"
   ]
  },
  {
   "cell_type": "code",
   "execution_count": 23,
   "metadata": {},
   "outputs": [
    {
     "data": {
      "text/plain": [
       "1    0.110193\n",
       "2    0.303030\n",
       "3    0.286501\n",
       "4    0.228650\n",
       "5    0.071625\n",
       "Name: Q2, dtype: float64"
      ]
     },
     "execution_count": 23,
     "metadata": {},
     "output_type": "execute_result"
    }
   ],
   "source": [
    "df['Q2'].value_counts(normalize=True).sort_index() \n",
    "# Shows that response 2 was most popular answer with 3 being close second\n",
    "# These are okay, insights, but not so clear because we removed the questions from the data"
   ]
  },
  {
   "cell_type": "code",
   "execution_count": 25,
   "metadata": {},
   "outputs": [
    {
     "data": {
      "text/plain": [
       "1    0.165289\n",
       "2    0.460055\n",
       "3    0.203857\n",
       "4    0.143251\n",
       "5    0.027548\n",
       "Name: Q9, dtype: float64"
      ]
     },
     "execution_count": 25,
     "metadata": {},
     "output_type": "execute_result"
    }
   ],
   "source": [
    "# Will continue with this method, but add question back in next section to make analysis mroe clear\n",
    "df['Q9'].value_counts(normalize=True).sort_index()\n",
    "# Response 2 was most popular answer, 3 in second"
   ]
  },
  {
   "cell_type": "code",
   "execution_count": 26,
   "metadata": {},
   "outputs": [
    {
     "data": {
      "text/plain": [
       "1    0.134986\n",
       "2    0.559229\n",
       "3    0.225895\n",
       "4    0.066116\n",
       "5    0.013774\n",
       "Name: Q12, dtype: float64"
      ]
     },
     "execution_count": 26,
     "metadata": {},
     "output_type": "execute_result"
    }
   ],
   "source": [
    "df['Q12'].value_counts(normalize=True).sort_index()\n",
    "# Response 2 was most popular answer, 3 in second"
   ]
  },
  {
   "cell_type": "code",
   "execution_count": 28,
   "metadata": {},
   "outputs": [
    {
     "data": {
      "text/plain": [
       "1    0.082645\n",
       "2    0.493113\n",
       "3    0.231405\n",
       "4    0.162534\n",
       "5    0.030303\n",
       "Name: Q14, dtype: float64"
      ]
     },
     "execution_count": 28,
     "metadata": {},
     "output_type": "execute_result"
    }
   ],
   "source": [
    "df['Q14'].value_counts(normalize=True).sort_index()\n",
    "# Response 2 was most popular answer, 3 in second"
   ]
  },
  {
   "cell_type": "code",
   "execution_count": 30,
   "metadata": {},
   "outputs": [
    {
     "data": {
      "text/plain": [
       "1    0.234160\n",
       "2    0.584022\n",
       "3    0.134986\n",
       "4    0.035813\n",
       "5    0.011019\n",
       "Name: Q15, dtype: float64"
      ]
     },
     "execution_count": 30,
     "metadata": {},
     "output_type": "execute_result"
    }
   ],
   "source": [
    "df['Q15'].value_counts(normalize=True).sort_index()\n",
    "# Response 2 was most popular answer, 1 in second **"
   ]
  },
  {
   "cell_type": "code",
   "execution_count": 31,
   "metadata": {},
   "outputs": [
    {
     "data": {
      "text/plain": [
       "N    0.796143\n",
       "Y    0.203857\n",
       "Name: Q30, dtype: float64"
      ]
     },
     "execution_count": 31,
     "metadata": {},
     "output_type": "execute_result"
    }
   ],
   "source": [
    "df['Q30'].value_counts(normalize=True).sort_index()\n",
    "# Almost 80% answered 'No'"
   ]
  },
  {
   "cell_type": "code",
   "execution_count": 34,
   "metadata": {},
   "outputs": [
    {
     "data": {
      "text/plain": [
       "N    289\n",
       "Y     74\n",
       "Name: Q30, dtype: int64"
      ]
     },
     "execution_count": 34,
     "metadata": {},
     "output_type": "execute_result"
    }
   ],
   "source": [
    "df['Q30'].value_counts()"
   ]
  },
  {
   "cell_type": "markdown",
   "metadata": {},
   "source": [
    "### * From this we can see that response 2 was the most popular response among most of the questions.\n",
    "### * Response 3 was the second most popular response in all of the questions besides 15, where 1 was the second most popular response.\n",
    "### * No was the popular response in question 30.\n",
    "\n",
    "***"
   ]
  },
  {
   "cell_type": "markdown",
   "metadata": {},
   "source": [
    "## Using 'pyreadstat' analyze with question data\n",
    "### Data was edited in SPSS to add variables to the data"
   ]
  },
  {
   "cell_type": "code",
   "execution_count": 36,
   "metadata": {},
   "outputs": [],
   "source": [
    "# .SAV file loaded in\n",
    "df_sav, meta = pyreadstat.read_sav('data_frame.sav')"
   ]
  },
  {
   "cell_type": "code",
   "execution_count": 39,
   "metadata": {},
   "outputs": [
    {
     "data": {
      "text/html": [
       "<div>\n",
       "<style scoped>\n",
       "    .dataframe tbody tr th:only-of-type {\n",
       "        vertical-align: middle;\n",
       "    }\n",
       "\n",
       "    .dataframe tbody tr th {\n",
       "        vertical-align: top;\n",
       "    }\n",
       "\n",
       "    .dataframe thead th {\n",
       "        text-align: right;\n",
       "    }\n",
       "</style>\n",
       "<table border=\"1\" class=\"dataframe\">\n",
       "  <thead>\n",
       "    <tr style=\"text-align: right;\">\n",
       "      <th></th>\n",
       "      <th>desk</th>\n",
       "      <th>trader</th>\n",
       "      <th>Gender</th>\n",
       "      <th>Q2</th>\n",
       "      <th>Q9</th>\n",
       "      <th>Q12</th>\n",
       "      <th>Q14</th>\n",
       "      <th>Q15</th>\n",
       "      <th>Q30</th>\n",
       "    </tr>\n",
       "  </thead>\n",
       "  <tbody>\n",
       "    <tr>\n",
       "      <th>0</th>\n",
       "      <td>S6</td>\n",
       "      <td>14a1</td>\n",
       "      <td>F</td>\n",
       "      <td>1.0</td>\n",
       "      <td>3.0</td>\n",
       "      <td>2.0</td>\n",
       "      <td>3.0</td>\n",
       "      <td>2.0</td>\n",
       "      <td>Y</td>\n",
       "    </tr>\n",
       "    <tr>\n",
       "      <th>1</th>\n",
       "      <td>S6</td>\n",
       "      <td>12B1</td>\n",
       "      <td>F</td>\n",
       "      <td>5.0</td>\n",
       "      <td>1.0</td>\n",
       "      <td>3.0</td>\n",
       "      <td>4.0</td>\n",
       "      <td>1.0</td>\n",
       "      <td>N</td>\n",
       "    </tr>\n",
       "    <tr>\n",
       "      <th>2</th>\n",
       "      <td>S6</td>\n",
       "      <td>1514</td>\n",
       "      <td>M</td>\n",
       "      <td>1.0</td>\n",
       "      <td>4.0</td>\n",
       "      <td>3.0</td>\n",
       "      <td>3.0</td>\n",
       "      <td>1.0</td>\n",
       "      <td>N</td>\n",
       "    </tr>\n",
       "  </tbody>\n",
       "</table>\n",
       "</div>"
      ],
      "text/plain": [
       "  desk trader Gender   Q2   Q9  Q12  Q14  Q15 Q30\n",
       "0   S6   14a1      F  1.0  3.0  2.0  3.0  2.0   Y\n",
       "1   S6   12B1      F  5.0  1.0  3.0  4.0  1.0   N\n",
       "2   S6   1514      M  1.0  4.0  3.0  3.0  1.0   N"
      ]
     },
     "execution_count": 39,
     "metadata": {},
     "output_type": "execute_result"
    }
   ],
   "source": [
    "df_sav.head(3)"
   ]
  },
  {
   "cell_type": "code",
   "execution_count": 185,
   "metadata": {},
   "outputs": [
    {
     "data": {
      "text/plain": [
       "<matplotlib.axes._subplots.AxesSubplot at 0x1a2965a9e8>"
      ]
     },
     "execution_count": 185,
     "metadata": {},
     "output_type": "execute_result"
    },
    {
     "data": {
      "image/png": "[encoded data removed]",
      "text/plain": [
       "<Figure size 432x288 with 1 Axes>"
      ]
     },
     "metadata": {
      "needs_background": "light"
     },
     "output_type": "display_data"
    }
   ],
   "source": [
    "df_sav.boxplot()"
   ]
  },
  {
   "cell_type": "code",
   "execution_count": 50,
   "metadata": {},
   "outputs": [
    {
     "data": {
      "text/plain": [
       "[None,\n",
       " None,\n",
       " None,\n",
       " 'I traded using ALL of the information provided to me at each stage',\n",
       " 'I believe that I can improve on my net profits if I had more information even if I did not have any technological tools to analyze the information',\n",
       " 'The source (Highly reputed like Wall Street Journal/ Bloomberg versus low/unknown reputation like Sun news) of information would impact my trading decisions',\n",
       " 'The medium (news /blog /video/ tool based) of information impacted my trading decisions',\n",
       " 'I believe that more stock specific information could have helped me to increase my net profits',\n",
       " 'I have had prior experience in live trading stock /shares']"
      ]
     },
     "execution_count": 50,
     "metadata": {},
     "output_type": "execute_result"
    }
   ],
   "source": [
    "meta.column_labels\n",
    "# Can see questions are now part of the data again"
   ]
  },
  {
   "cell_type": "code",
   "execution_count": 51,
   "metadata": {},
   "outputs": [],
   "source": [
    "meta_dict = dict(zip(meta.column_names, meta.column_labels))"
   ]
  },
  {
   "cell_type": "code",
   "execution_count": 52,
   "metadata": {},
   "outputs": [
    {
     "data": {
      "text/plain": [
       "'I traded using ALL of the information provided to me at each stage'"
      ]
     },
     "execution_count": 52,
     "metadata": {},
     "output_type": "execute_result"
    }
   ],
   "source": [
    "# Displays the question tied to 'Q2' - Will be used below.\n",
    "meta_dict['Q2']"
   ]
  },
  {
   "cell_type": "code",
   "execution_count": 56,
   "metadata": {},
   "outputs": [
    {
     "data": {
      "text/plain": [
       "1.0    0.110193\n",
       "2.0    0.303030\n",
       "3.0    0.286501\n",
       "4.0    0.228650\n",
       "5.0    0.071625\n",
       "Name: Q2, dtype: float64"
      ]
     },
     "execution_count": 56,
     "metadata": {},
     "output_type": "execute_result"
    }
   ],
   "source": [
    "# This gives us a similar result to what was analyzed above.\n",
    "df_sav['Q2'].value_counts(normalize=True).sort_index()"
   ]
  },
  {
   "cell_type": "code",
   "execution_count": 57,
   "metadata": {},
   "outputs": [],
   "source": [
    "# The responses are added into the analysis for easy interpretation.\n",
    "Q2_sav = df_sav['Q2'].map(meta.variable_value_labels['Q2']).value_counts(normalize=True)\n",
    "Q9_sav = df_sav['Q9'].map(meta.variable_value_labels['Q9']).value_counts(normalize=True)\n",
    "Q12_sav = df_sav['Q12'].map(meta.variable_value_labels['Q12']).value_counts(normalize=True)\n",
    "Q14_sav = df_sav['Q14'].map(meta.variable_value_labels['Q14']).value_counts(normalize=True)\n",
    "Q15_sav = df_sav['Q15'].map(meta.variable_value_labels['Q15']).value_counts(normalize=True)\n",
    "Q30_sav = df_sav['Q30'].map(meta.variable_value_labels['Q30']).value_counts(normalize=True)"
   ]
  },
  {
   "cell_type": "code",
   "execution_count": 65,
   "metadata": {},
   "outputs": [
    {
     "data": {
      "text/plain": [
       "'I traded using ALL of the information provided to me at each stage'"
      ]
     },
     "execution_count": 65,
     "metadata": {},
     "output_type": "execute_result"
    }
   ],
   "source": [
    "meta_dict['Q2']"
   ]
  },
  {
   "cell_type": "code",
   "execution_count": 64,
   "metadata": {},
   "outputs": [
    {
     "data": {
      "text/plain": [
       "Agree                         0.303030\n",
       "Neither Agree nor Disagree    0.286501\n",
       "Disagree                      0.228650\n",
       "Strongly Agree                0.110193\n",
       "Strongly Disagree             0.071625\n",
       "Name: Q2, dtype: float64"
      ]
     },
     "execution_count": 64,
     "metadata": {},
     "output_type": "execute_result"
    }
   ],
   "source": [
    "Q2_sav\n",
    "# Although Agree is the most popular response, NAnD and Disagress are close in %\n",
    "# Therefore its split that about 1/3 used ALL info provided, and <1/3 was in the middle and 1/5 did not."
   ]
  },
  {
   "cell_type": "code",
   "execution_count": 66,
   "metadata": {},
   "outputs": [
    {
     "data": {
      "text/plain": [
       "'I believe that I can improve on my net profits if I had more information even if I did not have any technological tools to analyze the information'"
      ]
     },
     "execution_count": 66,
     "metadata": {},
     "output_type": "execute_result"
    }
   ],
   "source": [
    "meta_dict['Q9']"
   ]
  },
  {
   "cell_type": "code",
   "execution_count": 59,
   "metadata": {},
   "outputs": [
    {
     "data": {
      "text/plain": [
       "Agree                         0.460055\n",
       "Neither Agree nor Disagree    0.203857\n",
       "Strongly Agree                0.165289\n",
       "Disagree                      0.143251\n",
       "Strongly Disagree             0.027548\n",
       "Name: Q9, dtype: float64"
      ]
     },
     "execution_count": 59,
     "metadata": {},
     "output_type": "execute_result"
    }
   ],
   "source": [
    "Q9_sav\n",
    "# Almost half of the respondents believed that if they had more info they would have improved their net profits."
   ]
  },
  {
   "cell_type": "code",
   "execution_count": 67,
   "metadata": {},
   "outputs": [
    {
     "data": {
      "text/plain": [
       "'The source (Highly reputed like Wall Street Journal/ Bloomberg versus low/unknown reputation like Sun news) of information would impact my trading decisions'"
      ]
     },
     "execution_count": 67,
     "metadata": {},
     "output_type": "execute_result"
    }
   ],
   "source": [
    "meta_dict['Q12']"
   ]
  },
  {
   "cell_type": "code",
   "execution_count": 61,
   "metadata": {},
   "outputs": [
    {
     "data": {
      "text/plain": [
       "Agree                         0.559229\n",
       "Neither Agree nor Disagree    0.225895\n",
       "Strongly Agree                0.134986\n",
       "Disagree                      0.066116\n",
       "Strongly Disagree             0.013774\n",
       "Name: Q12, dtype: float64"
      ]
     },
     "execution_count": 61,
     "metadata": {},
     "output_type": "execute_result"
    }
   ],
   "source": [
    "Q12_sav\n",
    "# A little more than half agreed that highly reputable sources > low rep sources impacted their trading decisions"
   ]
  },
  {
   "cell_type": "code",
   "execution_count": 68,
   "metadata": {},
   "outputs": [
    {
     "data": {
      "text/plain": [
       "'The medium (news /blog /video/ tool based) of information impacted my trading decisions'"
      ]
     },
     "execution_count": 68,
     "metadata": {},
     "output_type": "execute_result"
    }
   ],
   "source": [
    "meta_dict['Q14']"
   ]
  },
  {
   "cell_type": "code",
   "execution_count": 62,
   "metadata": {},
   "outputs": [
    {
     "data": {
      "text/plain": [
       "Agree                         0.493113\n",
       "Neither Agree nor Disagree    0.231405\n",
       "Disagree                      0.162534\n",
       "Strongly Agree                0.082645\n",
       "Strongly Disagree             0.030303\n",
       "Name: Q14, dtype: float64"
      ]
     },
     "execution_count": 62,
     "metadata": {},
     "output_type": "execute_result"
    }
   ],
   "source": [
    "Q14_sav \n",
    "# Almost half agreed that (news /blog /video/ tool based) information impacted their trading decisions"
   ]
  },
  {
   "cell_type": "code",
   "execution_count": 69,
   "metadata": {},
   "outputs": [
    {
     "data": {
      "text/plain": [
       "'I believe that more stock specific information could have helped me to increase my net profits'"
      ]
     },
     "execution_count": 69,
     "metadata": {},
     "output_type": "execute_result"
    }
   ],
   "source": [
    "meta_dict['Q15']"
   ]
  },
  {
   "cell_type": "code",
   "execution_count": 63,
   "metadata": {},
   "outputs": [
    {
     "data": {
      "text/plain": [
       "Agree                         0.584022\n",
       "Strongly Agree                0.234160\n",
       "Neither Agree nor Disagree    0.134986\n",
       "Disagree                      0.035813\n",
       "Strongly Disagree             0.011019\n",
       "Name: Q15, dtype: float64"
      ]
     },
     "execution_count": 63,
     "metadata": {},
     "output_type": "execute_result"
    }
   ],
   "source": [
    "Q15_sav\n",
    "# Combining 'Strongly Agree' & 'Agree', >80% of responders said more stock spec. info would have helped their net profits."
   ]
  },
  {
   "cell_type": "markdown",
   "metadata": {},
   "source": [
    "### Can conclude from this that 'Agree' was the most popular responses to each quesiton."
   ]
  },
  {
   "cell_type": "code",
   "execution_count": 70,
   "metadata": {},
   "outputs": [
    {
     "data": {
      "text/plain": [
       "'I have had prior experience in live trading stock /shares'"
      ]
     },
     "execution_count": 70,
     "metadata": {},
     "output_type": "execute_result"
    }
   ],
   "source": [
    "meta_dict['Q30']"
   ]
  },
  {
   "cell_type": "code",
   "execution_count": 71,
   "metadata": {},
   "outputs": [
    {
     "data": {
      "text/plain": [
       "No     0.796143\n",
       "Yes    0.203857\n",
       "Name: Q30, dtype: float64"
      ]
     },
     "execution_count": 71,
     "metadata": {},
     "output_type": "execute_result"
    }
   ],
   "source": [
    "Q30_sav"
   ]
  },
  {
   "cell_type": "markdown",
   "metadata": {},
   "source": [
    "### The majority (80%) of the participants did not have any prior experience trading stocks live.\n",
    "\n",
    "***"
   ]
  },
  {
   "cell_type": "markdown",
   "metadata": {},
   "source": [
    "## This next section looks at the responses of each trade desk using crosstabs"
   ]
  },
  {
   "cell_type": "code",
   "execution_count": 72,
   "metadata": {},
   "outputs": [],
   "source": [
    "# Set up desks to cross tab each question\n",
    "Q2_desks = pd.crosstab(df_sav['Q2'].\\\n",
    "        map(meta.variable_value_labels['Q2']), \\\n",
    "        df_sav['desk'].map(meta.variable_value_labels['desk']), \\\n",
    "        dropna=True, normalize='columns'). \\\n",
    "        loc[meta.variable_value_labels['Q2'].values()]. \\\n",
    "        loc[:,meta.variable_value_labels['desk'].values()]*100\n",
    "\n",
    "Q9_desks = pd.crosstab(df_sav['Q9'].\\\n",
    "        map(meta.variable_value_labels['Q9']), \\\n",
    "        df_sav['desk'].map(meta.variable_value_labels['desk']), \\\n",
    "        dropna=True, normalize='columns'). \\\n",
    "        loc[meta.variable_value_labels['Q9'].values()]. \\\n",
    "        loc[:,meta.variable_value_labels['desk'].values()]*100\n",
    "\n",
    "Q12_desks = pd.crosstab(df_sav['Q12'].\\\n",
    "        map(meta.variable_value_labels['Q12']), \\\n",
    "        df_sav['desk'].map(meta.variable_value_labels['desk']), \\\n",
    "        dropna=True, normalize='columns'). \\\n",
    "        loc[meta.variable_value_labels['Q12'].values()]. \\\n",
    "        loc[:,meta.variable_value_labels['desk'].values()]*100\n",
    "\n",
    "Q14_desks = pd.crosstab(df_sav['Q14'].\\\n",
    "        map(meta.variable_value_labels['Q14']), \\\n",
    "        df_sav['desk'].map(meta.variable_value_labels['desk']), \\\n",
    "        dropna=True, normalize='columns'). \\\n",
    "        loc[meta.variable_value_labels['Q14'].values()]. \\\n",
    "        loc[:,meta.variable_value_labels['desk'].values()]*100\n",
    "\n",
    "Q15_desks = pd.crosstab(df_sav['Q15'].\\\n",
    "        map(meta.variable_value_labels['Q15']), \\\n",
    "        df_sav['desk'].map(meta.variable_value_labels['desk']), \\\n",
    "        dropna=True, normalize='columns'). \\\n",
    "        loc[meta.variable_value_labels['Q15'].values()]. \\\n",
    "        loc[:,meta.variable_value_labels['desk'].values()]*100\n",
    "\n",
    "Q30_desks = pd.crosstab(df_sav['Q30'].\\\n",
    "        map(meta.variable_value_labels['Q30']), \\\n",
    "        df_sav['desk'].map(meta.variable_value_labels['desk']), \\\n",
    "        dropna=True, normalize='columns'). \\\n",
    "        loc[meta.variable_value_labels['Q30'].values()]. \\\n",
    "        loc[:,meta.variable_value_labels['desk'].values()]*100"
   ]
  },
  {
   "cell_type": "code",
   "execution_count": 132,
   "metadata": {},
   "outputs": [
    {
     "data": {
      "text/plain": [
       "'I traded using ALL of the information provided to me at each stage'"
      ]
     },
     "execution_count": 132,
     "metadata": {},
     "output_type": "execute_result"
    }
   ],
   "source": [
    "meta_dict['Q2']"
   ]
  },
  {
   "cell_type": "code",
   "execution_count": 73,
   "metadata": {},
   "outputs": [
    {
     "data": {
      "text/html": [
       "<div>\n",
       "<style scoped>\n",
       "    .dataframe tbody tr th:only-of-type {\n",
       "        vertical-align: middle;\n",
       "    }\n",
       "\n",
       "    .dataframe tbody tr th {\n",
       "        vertical-align: top;\n",
       "    }\n",
       "\n",
       "    .dataframe thead th {\n",
       "        text-align: right;\n",
       "    }\n",
       "</style>\n",
       "<table border=\"1\" class=\"dataframe\">\n",
       "  <thead>\n",
       "    <tr style=\"text-align: right;\">\n",
       "      <th>desk</th>\n",
       "      <th>S1</th>\n",
       "      <th>S2</th>\n",
       "      <th>S3</th>\n",
       "      <th>S4</th>\n",
       "      <th>S5</th>\n",
       "      <th>S6</th>\n",
       "      <th>S7</th>\n",
       "      <th>S8</th>\n",
       "      <th>S9</th>\n",
       "      <th>S10</th>\n",
       "    </tr>\n",
       "    <tr>\n",
       "      <th>Q2</th>\n",
       "      <th></th>\n",
       "      <th></th>\n",
       "      <th></th>\n",
       "      <th></th>\n",
       "      <th></th>\n",
       "      <th></th>\n",
       "      <th></th>\n",
       "      <th></th>\n",
       "      <th></th>\n",
       "      <th></th>\n",
       "    </tr>\n",
       "  </thead>\n",
       "  <tbody>\n",
       "    <tr>\n",
       "      <th>Strongly Agree</th>\n",
       "      <td>7.142857</td>\n",
       "      <td>8.695652</td>\n",
       "      <td>7.843137</td>\n",
       "      <td>2.777778</td>\n",
       "      <td>16.0</td>\n",
       "      <td>19.230769</td>\n",
       "      <td>8.510638</td>\n",
       "      <td>8.333333</td>\n",
       "      <td>3.448276</td>\n",
       "      <td>16.326531</td>\n",
       "    </tr>\n",
       "    <tr>\n",
       "      <th>Agree</th>\n",
       "      <td>14.285714</td>\n",
       "      <td>30.434783</td>\n",
       "      <td>39.215686</td>\n",
       "      <td>33.333333</td>\n",
       "      <td>34.0</td>\n",
       "      <td>28.846154</td>\n",
       "      <td>25.531915</td>\n",
       "      <td>33.333333</td>\n",
       "      <td>24.137931</td>\n",
       "      <td>28.571429</td>\n",
       "    </tr>\n",
       "    <tr>\n",
       "      <th>Neither Agree nor Disagree</th>\n",
       "      <td>28.571429</td>\n",
       "      <td>30.434783</td>\n",
       "      <td>27.450980</td>\n",
       "      <td>36.111111</td>\n",
       "      <td>16.0</td>\n",
       "      <td>28.846154</td>\n",
       "      <td>34.042553</td>\n",
       "      <td>16.666667</td>\n",
       "      <td>44.827586</td>\n",
       "      <td>24.489796</td>\n",
       "    </tr>\n",
       "    <tr>\n",
       "      <th>Disagree</th>\n",
       "      <td>42.857143</td>\n",
       "      <td>26.086957</td>\n",
       "      <td>19.607843</td>\n",
       "      <td>25.000000</td>\n",
       "      <td>28.0</td>\n",
       "      <td>5.769231</td>\n",
       "      <td>25.531915</td>\n",
       "      <td>16.666667</td>\n",
       "      <td>24.137931</td>\n",
       "      <td>28.571429</td>\n",
       "    </tr>\n",
       "    <tr>\n",
       "      <th>Strongly Disagree</th>\n",
       "      <td>7.142857</td>\n",
       "      <td>4.347826</td>\n",
       "      <td>5.882353</td>\n",
       "      <td>2.777778</td>\n",
       "      <td>6.0</td>\n",
       "      <td>17.307692</td>\n",
       "      <td>6.382979</td>\n",
       "      <td>25.000000</td>\n",
       "      <td>3.448276</td>\n",
       "      <td>2.040816</td>\n",
       "    </tr>\n",
       "  </tbody>\n",
       "</table>\n",
       "</div>"
      ],
      "text/plain": [
       "desk                               S1         S2         S3         S4    S5  \\\n",
       "Q2                                                                             \n",
       "Strongly Agree               7.142857   8.695652   7.843137   2.777778  16.0   \n",
       "Agree                       14.285714  30.434783  39.215686  33.333333  34.0   \n",
       "Neither Agree nor Disagree  28.571429  30.434783  27.450980  36.111111  16.0   \n",
       "Disagree                    42.857143  26.086957  19.607843  25.000000  28.0   \n",
       "Strongly Disagree            7.142857   4.347826   5.882353   2.777778   6.0   \n",
       "\n",
       "desk                               S6         S7         S8         S9  \\\n",
       "Q2                                                                       \n",
       "Strongly Agree              19.230769   8.510638   8.333333   3.448276   \n",
       "Agree                       28.846154  25.531915  33.333333  24.137931   \n",
       "Neither Agree nor Disagree  28.846154  34.042553  16.666667  44.827586   \n",
       "Disagree                     5.769231  25.531915  16.666667  24.137931   \n",
       "Strongly Disagree           17.307692   6.382979  25.000000   3.448276   \n",
       "\n",
       "desk                              S10  \n",
       "Q2                                     \n",
       "Strongly Agree              16.326531  \n",
       "Agree                       28.571429  \n",
       "Neither Agree nor Disagree  24.489796  \n",
       "Disagree                    28.571429  \n",
       "Strongly Disagree            2.040816  "
      ]
     },
     "execution_count": 73,
     "metadata": {},
     "output_type": "execute_result"
    }
   ],
   "source": [
    "Q2_desks\n",
    "\n",
    "# Most popular response from each desk:\n",
    "# S1: Disagree\n",
    "# S2: Agree/NAnD\n",
    "# S3: Agree\n",
    "# S4: Agree\n",
    "# S5: Agree\n",
    "# S6: Agree/NAnD\n",
    "# S7: NAnD\n",
    "# S8: Agree\n",
    "# S9: NAnD\n",
    "# S10: Agree/Disagree\n",
    "\n",
    "# Desk 1 did not use ALL of the info provided in each stage.\n",
    "# Desk 2 & 6 had a splot Agree/NAnD\n",
    "# Desk 7 & 9 were NAnD\n",
    "# Desk 10 had a split Agree and Disagree"
   ]
  },
  {
   "cell_type": "code",
   "execution_count": 113,
   "metadata": {},
   "outputs": [
    {
     "data": {
      "text/plain": [
       "<matplotlib.axes._subplots.AxesSubplot at 0x1a254c2e48>"
      ]
     },
     "execution_count": 113,
     "metadata": {},
     "output_type": "execute_result"
    },
    {
     "data": {
      "image/png": "[encoded data removed]",
      "text/plain": [
       "<Figure size 432x288 with 1 Axes>"
      ]
     },
     "metadata": {
      "needs_background": "light"
     },
     "output_type": "display_data"
    }
   ],
   "source": [
    "Q2_desks.plot(kind='bar', stacked=True, grid=False)\n",
    "\n",
    "# Can see some of the split responses around Agree/NAnD/Disagree"
   ]
  },
  {
   "cell_type": "code",
   "execution_count": 134,
   "metadata": {},
   "outputs": [
    {
     "data": {
      "text/plain": [
       "'I believe that I can improve on my net profits if I had more information even if I did not have any technological tools to analyze the information'"
      ]
     },
     "execution_count": 134,
     "metadata": {},
     "output_type": "execute_result"
    }
   ],
   "source": [
    "meta_dict['Q9']"
   ]
  },
  {
   "cell_type": "code",
   "execution_count": 128,
   "metadata": {},
   "outputs": [
    {
     "data": {
      "text/html": [
       "<div>\n",
       "<style scoped>\n",
       "    .dataframe tbody tr th:only-of-type {\n",
       "        vertical-align: middle;\n",
       "    }\n",
       "\n",
       "    .dataframe tbody tr th {\n",
       "        vertical-align: top;\n",
       "    }\n",
       "\n",
       "    .dataframe thead th {\n",
       "        text-align: right;\n",
       "    }\n",
       "</style>\n",
       "<table border=\"1\" class=\"dataframe\">\n",
       "  <thead>\n",
       "    <tr style=\"text-align: right;\">\n",
       "      <th>desk</th>\n",
       "      <th>S1</th>\n",
       "      <th>S2</th>\n",
       "      <th>S3</th>\n",
       "      <th>S4</th>\n",
       "      <th>S5</th>\n",
       "      <th>S6</th>\n",
       "      <th>S7</th>\n",
       "      <th>S8</th>\n",
       "      <th>S9</th>\n",
       "      <th>S10</th>\n",
       "    </tr>\n",
       "    <tr>\n",
       "      <th>Q9</th>\n",
       "      <th></th>\n",
       "      <th></th>\n",
       "      <th></th>\n",
       "      <th></th>\n",
       "      <th></th>\n",
       "      <th></th>\n",
       "      <th></th>\n",
       "      <th></th>\n",
       "      <th></th>\n",
       "      <th></th>\n",
       "    </tr>\n",
       "  </thead>\n",
       "  <tbody>\n",
       "    <tr>\n",
       "      <th>Strongly Agree</th>\n",
       "      <td>7.142857</td>\n",
       "      <td>8.695652</td>\n",
       "      <td>19.607843</td>\n",
       "      <td>8.333333</td>\n",
       "      <td>16.0</td>\n",
       "      <td>30.769231</td>\n",
       "      <td>14.893617</td>\n",
       "      <td>16.666667</td>\n",
       "      <td>13.793103</td>\n",
       "      <td>14.285714</td>\n",
       "    </tr>\n",
       "    <tr>\n",
       "      <th>Agree</th>\n",
       "      <td>50.000000</td>\n",
       "      <td>52.173913</td>\n",
       "      <td>50.980392</td>\n",
       "      <td>47.222222</td>\n",
       "      <td>42.0</td>\n",
       "      <td>25.000000</td>\n",
       "      <td>57.446809</td>\n",
       "      <td>50.000000</td>\n",
       "      <td>58.620690</td>\n",
       "      <td>42.857143</td>\n",
       "    </tr>\n",
       "    <tr>\n",
       "      <th>Neither Agree nor Disagree</th>\n",
       "      <td>35.714286</td>\n",
       "      <td>26.086957</td>\n",
       "      <td>7.843137</td>\n",
       "      <td>27.777778</td>\n",
       "      <td>20.0</td>\n",
       "      <td>26.923077</td>\n",
       "      <td>14.893617</td>\n",
       "      <td>16.666667</td>\n",
       "      <td>17.241379</td>\n",
       "      <td>22.448980</td>\n",
       "    </tr>\n",
       "    <tr>\n",
       "      <th>Disagree</th>\n",
       "      <td>7.142857</td>\n",
       "      <td>13.043478</td>\n",
       "      <td>17.647059</td>\n",
       "      <td>11.111111</td>\n",
       "      <td>20.0</td>\n",
       "      <td>13.461538</td>\n",
       "      <td>10.638298</td>\n",
       "      <td>16.666667</td>\n",
       "      <td>6.896552</td>\n",
       "      <td>18.367347</td>\n",
       "    </tr>\n",
       "    <tr>\n",
       "      <th>Strongly Disagree</th>\n",
       "      <td>0.000000</td>\n",
       "      <td>0.000000</td>\n",
       "      <td>3.921569</td>\n",
       "      <td>5.555556</td>\n",
       "      <td>2.0</td>\n",
       "      <td>3.846154</td>\n",
       "      <td>2.127660</td>\n",
       "      <td>0.000000</td>\n",
       "      <td>3.448276</td>\n",
       "      <td>2.040816</td>\n",
       "    </tr>\n",
       "  </tbody>\n",
       "</table>\n",
       "</div>"
      ],
      "text/plain": [
       "desk                               S1         S2         S3         S4    S5  \\\n",
       "Q9                                                                             \n",
       "Strongly Agree               7.142857   8.695652  19.607843   8.333333  16.0   \n",
       "Agree                       50.000000  52.173913  50.980392  47.222222  42.0   \n",
       "Neither Agree nor Disagree  35.714286  26.086957   7.843137  27.777778  20.0   \n",
       "Disagree                     7.142857  13.043478  17.647059  11.111111  20.0   \n",
       "Strongly Disagree            0.000000   0.000000   3.921569   5.555556   2.0   \n",
       "\n",
       "desk                               S6         S7         S8         S9  \\\n",
       "Q9                                                                       \n",
       "Strongly Agree              30.769231  14.893617  16.666667  13.793103   \n",
       "Agree                       25.000000  57.446809  50.000000  58.620690   \n",
       "Neither Agree nor Disagree  26.923077  14.893617  16.666667  17.241379   \n",
       "Disagree                    13.461538  10.638298  16.666667   6.896552   \n",
       "Strongly Disagree            3.846154   2.127660   0.000000   3.448276   \n",
       "\n",
       "desk                              S10  \n",
       "Q9                                     \n",
       "Strongly Agree              14.285714  \n",
       "Agree                       42.857143  \n",
       "Neither Agree nor Disagree  22.448980  \n",
       "Disagree                    18.367347  \n",
       "Strongly Disagree            2.040816  "
      ]
     },
     "execution_count": 128,
     "metadata": {},
     "output_type": "execute_result"
    }
   ],
   "source": [
    "Q9_desks\n",
    "\n",
    "# Most popular response from each desk:\n",
    "# S1: Agree\n",
    "# S2: Agree\n",
    "# S3: Agree\n",
    "# S4: Agree\n",
    "# S5: Agree\n",
    "# S6: Strongly Agree\n",
    "# S7: Agree\n",
    "# S8: Agree\n",
    "# S9: Agree\n",
    "# S10: Agree\n",
    "\n",
    "# All agree that they would have performed better if provided more info."
   ]
  },
  {
   "cell_type": "code",
   "execution_count": 135,
   "metadata": {},
   "outputs": [
    {
     "data": {
      "text/plain": [
       "<matplotlib.axes._subplots.AxesSubplot at 0x1a258b3f28>"
      ]
     },
     "execution_count": 135,
     "metadata": {},
     "output_type": "execute_result"
    },
    {
     "data": {
      "image/png": "[encoded data removed]",
      "text/plain": [
       "<Figure size 432x288 with 1 Axes>"
      ]
     },
     "metadata": {
      "needs_background": "light"
     },
     "output_type": "display_data"
    }
   ],
   "source": [
    "Q9_desks.plot(kind='bar', stacked=True, grid=False)\n",
    "\n",
    "# Agree prevails"
   ]
  },
  {
   "cell_type": "code",
   "execution_count": 136,
   "metadata": {},
   "outputs": [
    {
     "data": {
      "text/plain": [
       "'The source (Highly reputed like Wall Street Journal/ Bloomberg versus low/unknown reputation like Sun news) of information would impact my trading decisions'"
      ]
     },
     "execution_count": 136,
     "metadata": {},
     "output_type": "execute_result"
    }
   ],
   "source": [
    "meta_dict['Q12']"
   ]
  },
  {
   "cell_type": "code",
   "execution_count": 129,
   "metadata": {},
   "outputs": [
    {
     "data": {
      "text/html": [
       "<div>\n",
       "<style scoped>\n",
       "    .dataframe tbody tr th:only-of-type {\n",
       "        vertical-align: middle;\n",
       "    }\n",
       "\n",
       "    .dataframe tbody tr th {\n",
       "        vertical-align: top;\n",
       "    }\n",
       "\n",
       "    .dataframe thead th {\n",
       "        text-align: right;\n",
       "    }\n",
       "</style>\n",
       "<table border=\"1\" class=\"dataframe\">\n",
       "  <thead>\n",
       "    <tr style=\"text-align: right;\">\n",
       "      <th>desk</th>\n",
       "      <th>S1</th>\n",
       "      <th>S2</th>\n",
       "      <th>S3</th>\n",
       "      <th>S4</th>\n",
       "      <th>S5</th>\n",
       "      <th>S6</th>\n",
       "      <th>S7</th>\n",
       "      <th>S8</th>\n",
       "      <th>S9</th>\n",
       "      <th>S10</th>\n",
       "    </tr>\n",
       "    <tr>\n",
       "      <th>Q12</th>\n",
       "      <th></th>\n",
       "      <th></th>\n",
       "      <th></th>\n",
       "      <th></th>\n",
       "      <th></th>\n",
       "      <th></th>\n",
       "      <th></th>\n",
       "      <th></th>\n",
       "      <th></th>\n",
       "      <th></th>\n",
       "    </tr>\n",
       "  </thead>\n",
       "  <tbody>\n",
       "    <tr>\n",
       "      <th>Strongly Agree</th>\n",
       "      <td>21.428571</td>\n",
       "      <td>13.043478</td>\n",
       "      <td>19.607843</td>\n",
       "      <td>27.777778</td>\n",
       "      <td>8.0</td>\n",
       "      <td>9.615385</td>\n",
       "      <td>8.510638</td>\n",
       "      <td>8.333333</td>\n",
       "      <td>10.344828</td>\n",
       "      <td>12.244898</td>\n",
       "    </tr>\n",
       "    <tr>\n",
       "      <th>Agree</th>\n",
       "      <td>50.000000</td>\n",
       "      <td>73.913043</td>\n",
       "      <td>60.784314</td>\n",
       "      <td>44.444444</td>\n",
       "      <td>72.0</td>\n",
       "      <td>59.615385</td>\n",
       "      <td>42.553191</td>\n",
       "      <td>50.000000</td>\n",
       "      <td>31.034483</td>\n",
       "      <td>61.224490</td>\n",
       "    </tr>\n",
       "    <tr>\n",
       "      <th>Neither Agree nor Disagree</th>\n",
       "      <td>21.428571</td>\n",
       "      <td>13.043478</td>\n",
       "      <td>17.647059</td>\n",
       "      <td>13.888889</td>\n",
       "      <td>18.0</td>\n",
       "      <td>19.230769</td>\n",
       "      <td>34.042553</td>\n",
       "      <td>33.333333</td>\n",
       "      <td>44.827586</td>\n",
       "      <td>20.408163</td>\n",
       "    </tr>\n",
       "    <tr>\n",
       "      <th>Disagree</th>\n",
       "      <td>7.142857</td>\n",
       "      <td>0.000000</td>\n",
       "      <td>1.960784</td>\n",
       "      <td>13.888889</td>\n",
       "      <td>0.0</td>\n",
       "      <td>7.692308</td>\n",
       "      <td>12.765957</td>\n",
       "      <td>8.333333</td>\n",
       "      <td>13.793103</td>\n",
       "      <td>4.081633</td>\n",
       "    </tr>\n",
       "    <tr>\n",
       "      <th>Strongly Disagree</th>\n",
       "      <td>0.000000</td>\n",
       "      <td>0.000000</td>\n",
       "      <td>0.000000</td>\n",
       "      <td>0.000000</td>\n",
       "      <td>2.0</td>\n",
       "      <td>3.846154</td>\n",
       "      <td>2.127660</td>\n",
       "      <td>0.000000</td>\n",
       "      <td>0.000000</td>\n",
       "      <td>2.040816</td>\n",
       "    </tr>\n",
       "  </tbody>\n",
       "</table>\n",
       "</div>"
      ],
      "text/plain": [
       "desk                               S1         S2         S3         S4    S5  \\\n",
       "Q12                                                                            \n",
       "Strongly Agree              21.428571  13.043478  19.607843  27.777778   8.0   \n",
       "Agree                       50.000000  73.913043  60.784314  44.444444  72.0   \n",
       "Neither Agree nor Disagree  21.428571  13.043478  17.647059  13.888889  18.0   \n",
       "Disagree                     7.142857   0.000000   1.960784  13.888889   0.0   \n",
       "Strongly Disagree            0.000000   0.000000   0.000000   0.000000   2.0   \n",
       "\n",
       "desk                               S6         S7         S8         S9  \\\n",
       "Q12                                                                      \n",
       "Strongly Agree               9.615385   8.510638   8.333333  10.344828   \n",
       "Agree                       59.615385  42.553191  50.000000  31.034483   \n",
       "Neither Agree nor Disagree  19.230769  34.042553  33.333333  44.827586   \n",
       "Disagree                     7.692308  12.765957   8.333333  13.793103   \n",
       "Strongly Disagree            3.846154   2.127660   0.000000   0.000000   \n",
       "\n",
       "desk                              S10  \n",
       "Q12                                    \n",
       "Strongly Agree              12.244898  \n",
       "Agree                       61.224490  \n",
       "Neither Agree nor Disagree  20.408163  \n",
       "Disagree                     4.081633  \n",
       "Strongly Disagree            2.040816  "
      ]
     },
     "execution_count": 129,
     "metadata": {},
     "output_type": "execute_result"
    }
   ],
   "source": [
    "Q12_desks\n",
    "\n",
    "# Most popular response from each desk:\n",
    "# S1: Agree\n",
    "# S2: Agree\n",
    "# S3: Agree\n",
    "# S4: Agree\n",
    "# S5: Agree\n",
    "# S6: Agree\n",
    "# S7: Agree\n",
    "# S8: Agree\n",
    "# S9: NAnD\n",
    "# S10: Agree\n",
    "\n",
    "# 90% (-desk 9), agree that high rep > low rep news sources impacted trade decisions"
   ]
  },
  {
   "cell_type": "code",
   "execution_count": 137,
   "metadata": {},
   "outputs": [
    {
     "data": {
      "text/plain": [
       "<matplotlib.axes._subplots.AxesSubplot at 0x1a25bcdb38>"
      ]
     },
     "execution_count": 137,
     "metadata": {},
     "output_type": "execute_result"
    },
    {
     "data": {
      "image/png": "[encoded data removed]",
      "text/plain": [
       "<Figure size 432x288 with 1 Axes>"
      ]
     },
     "metadata": {
      "needs_background": "light"
     },
     "output_type": "display_data"
    }
   ],
   "source": [
    "Q12_desks.plot(kind='bar', stacked=True, grid=False)\n",
    "\n",
    "# Agree prevails"
   ]
  },
  {
   "cell_type": "code",
   "execution_count": 138,
   "metadata": {},
   "outputs": [
    {
     "data": {
      "text/plain": [
       "'The medium (news /blog /video/ tool based) of information impacted my trading decisions'"
      ]
     },
     "execution_count": 138,
     "metadata": {},
     "output_type": "execute_result"
    }
   ],
   "source": [
    "meta_dict['Q14']"
   ]
  },
  {
   "cell_type": "code",
   "execution_count": 130,
   "metadata": {},
   "outputs": [
    {
     "data": {
      "text/html": [
       "<div>\n",
       "<style scoped>\n",
       "    .dataframe tbody tr th:only-of-type {\n",
       "        vertical-align: middle;\n",
       "    }\n",
       "\n",
       "    .dataframe tbody tr th {\n",
       "        vertical-align: top;\n",
       "    }\n",
       "\n",
       "    .dataframe thead th {\n",
       "        text-align: right;\n",
       "    }\n",
       "</style>\n",
       "<table border=\"1\" class=\"dataframe\">\n",
       "  <thead>\n",
       "    <tr style=\"text-align: right;\">\n",
       "      <th>desk</th>\n",
       "      <th>S1</th>\n",
       "      <th>S2</th>\n",
       "      <th>S3</th>\n",
       "      <th>S4</th>\n",
       "      <th>S5</th>\n",
       "      <th>S6</th>\n",
       "      <th>S7</th>\n",
       "      <th>S8</th>\n",
       "      <th>S9</th>\n",
       "      <th>S10</th>\n",
       "    </tr>\n",
       "    <tr>\n",
       "      <th>Q14</th>\n",
       "      <th></th>\n",
       "      <th></th>\n",
       "      <th></th>\n",
       "      <th></th>\n",
       "      <th></th>\n",
       "      <th></th>\n",
       "      <th></th>\n",
       "      <th></th>\n",
       "      <th></th>\n",
       "      <th></th>\n",
       "    </tr>\n",
       "  </thead>\n",
       "  <tbody>\n",
       "    <tr>\n",
       "      <th>Strongly Agree</th>\n",
       "      <td>14.285714</td>\n",
       "      <td>4.347826</td>\n",
       "      <td>9.803922</td>\n",
       "      <td>13.888889</td>\n",
       "      <td>4.0</td>\n",
       "      <td>5.769231</td>\n",
       "      <td>6.382979</td>\n",
       "      <td>8.333333</td>\n",
       "      <td>6.896552</td>\n",
       "      <td>12.244898</td>\n",
       "    </tr>\n",
       "    <tr>\n",
       "      <th>Agree</th>\n",
       "      <td>57.142857</td>\n",
       "      <td>60.869565</td>\n",
       "      <td>74.509804</td>\n",
       "      <td>61.111111</td>\n",
       "      <td>50.0</td>\n",
       "      <td>32.692308</td>\n",
       "      <td>36.170213</td>\n",
       "      <td>33.333333</td>\n",
       "      <td>31.034483</td>\n",
       "      <td>51.020408</td>\n",
       "    </tr>\n",
       "    <tr>\n",
       "      <th>Neither Agree nor Disagree</th>\n",
       "      <td>14.285714</td>\n",
       "      <td>21.739130</td>\n",
       "      <td>11.764706</td>\n",
       "      <td>22.222222</td>\n",
       "      <td>24.0</td>\n",
       "      <td>26.923077</td>\n",
       "      <td>29.787234</td>\n",
       "      <td>16.666667</td>\n",
       "      <td>24.137931</td>\n",
       "      <td>28.571429</td>\n",
       "    </tr>\n",
       "    <tr>\n",
       "      <th>Disagree</th>\n",
       "      <td>14.285714</td>\n",
       "      <td>13.043478</td>\n",
       "      <td>3.921569</td>\n",
       "      <td>2.777778</td>\n",
       "      <td>20.0</td>\n",
       "      <td>25.000000</td>\n",
       "      <td>21.276596</td>\n",
       "      <td>33.333333</td>\n",
       "      <td>34.482759</td>\n",
       "      <td>8.163265</td>\n",
       "    </tr>\n",
       "    <tr>\n",
       "      <th>Strongly Disagree</th>\n",
       "      <td>0.000000</td>\n",
       "      <td>0.000000</td>\n",
       "      <td>0.000000</td>\n",
       "      <td>0.000000</td>\n",
       "      <td>2.0</td>\n",
       "      <td>9.615385</td>\n",
       "      <td>6.382979</td>\n",
       "      <td>8.333333</td>\n",
       "      <td>3.448276</td>\n",
       "      <td>0.000000</td>\n",
       "    </tr>\n",
       "  </tbody>\n",
       "</table>\n",
       "</div>"
      ],
      "text/plain": [
       "desk                               S1         S2         S3         S4    S5  \\\n",
       "Q14                                                                            \n",
       "Strongly Agree              14.285714   4.347826   9.803922  13.888889   4.0   \n",
       "Agree                       57.142857  60.869565  74.509804  61.111111  50.0   \n",
       "Neither Agree nor Disagree  14.285714  21.739130  11.764706  22.222222  24.0   \n",
       "Disagree                    14.285714  13.043478   3.921569   2.777778  20.0   \n",
       "Strongly Disagree            0.000000   0.000000   0.000000   0.000000   2.0   \n",
       "\n",
       "desk                               S6         S7         S8         S9  \\\n",
       "Q14                                                                      \n",
       "Strongly Agree               5.769231   6.382979   8.333333   6.896552   \n",
       "Agree                       32.692308  36.170213  33.333333  31.034483   \n",
       "Neither Agree nor Disagree  26.923077  29.787234  16.666667  24.137931   \n",
       "Disagree                    25.000000  21.276596  33.333333  34.482759   \n",
       "Strongly Disagree            9.615385   6.382979   8.333333   3.448276   \n",
       "\n",
       "desk                              S10  \n",
       "Q14                                    \n",
       "Strongly Agree              12.244898  \n",
       "Agree                       51.020408  \n",
       "Neither Agree nor Disagree  28.571429  \n",
       "Disagree                     8.163265  \n",
       "Strongly Disagree            0.000000  "
      ]
     },
     "execution_count": 130,
     "metadata": {},
     "output_type": "execute_result"
    }
   ],
   "source": [
    "Q14_desks\n",
    "\n",
    "# Most popular response from each desk:\n",
    "# S1: Agree\n",
    "# S2: Agree\n",
    "# S3: Agree\n",
    "# S4: Agree\n",
    "# S5: Agree\n",
    "# S6: Agree\n",
    "# S7: Agree\n",
    "# S8: Agree/Disagree\n",
    "# S9: Disagree\n",
    "# S10: Agree\n",
    "\n",
    "# News, etc impacted the trade decisions of all desks minus (split of 8), and 9."
   ]
  },
  {
   "cell_type": "code",
   "execution_count": 139,
   "metadata": {},
   "outputs": [
    {
     "data": {
      "text/plain": [
       "<matplotlib.axes._subplots.AxesSubplot at 0x1a259bcba8>"
      ]
     },
     "execution_count": 139,
     "metadata": {},
     "output_type": "execute_result"
    },
    {
     "data": {
      "image/png": "[encoded data removed]",
      "text/plain": [
       "<Figure size 432x288 with 1 Axes>"
      ]
     },
     "metadata": {
      "needs_background": "light"
     },
     "output_type": "display_data"
    }
   ],
   "source": [
    "Q14_desks.plot(kind='bar', stacked=True, grid=False)\n",
    "\n",
    "# Agree prevails"
   ]
  },
  {
   "cell_type": "code",
   "execution_count": 140,
   "metadata": {},
   "outputs": [
    {
     "data": {
      "text/plain": [
       "'I believe that more stock specific information could have helped me to increase my net profits'"
      ]
     },
     "execution_count": 140,
     "metadata": {},
     "output_type": "execute_result"
    }
   ],
   "source": [
    "meta_dict['Q15']"
   ]
  },
  {
   "cell_type": "code",
   "execution_count": 131,
   "metadata": {},
   "outputs": [
    {
     "data": {
      "text/html": [
       "<div>\n",
       "<style scoped>\n",
       "    .dataframe tbody tr th:only-of-type {\n",
       "        vertical-align: middle;\n",
       "    }\n",
       "\n",
       "    .dataframe tbody tr th {\n",
       "        vertical-align: top;\n",
       "    }\n",
       "\n",
       "    .dataframe thead th {\n",
       "        text-align: right;\n",
       "    }\n",
       "</style>\n",
       "<table border=\"1\" class=\"dataframe\">\n",
       "  <thead>\n",
       "    <tr style=\"text-align: right;\">\n",
       "      <th>desk</th>\n",
       "      <th>S1</th>\n",
       "      <th>S2</th>\n",
       "      <th>S3</th>\n",
       "      <th>S4</th>\n",
       "      <th>S5</th>\n",
       "      <th>S6</th>\n",
       "      <th>S7</th>\n",
       "      <th>S8</th>\n",
       "      <th>S9</th>\n",
       "      <th>S10</th>\n",
       "    </tr>\n",
       "    <tr>\n",
       "      <th>Q15</th>\n",
       "      <th></th>\n",
       "      <th></th>\n",
       "      <th></th>\n",
       "      <th></th>\n",
       "      <th></th>\n",
       "      <th></th>\n",
       "      <th></th>\n",
       "      <th></th>\n",
       "      <th></th>\n",
       "      <th></th>\n",
       "    </tr>\n",
       "  </thead>\n",
       "  <tbody>\n",
       "    <tr>\n",
       "      <th>Strongly Agree</th>\n",
       "      <td>21.428571</td>\n",
       "      <td>13.043478</td>\n",
       "      <td>31.372549</td>\n",
       "      <td>30.555556</td>\n",
       "      <td>12.0</td>\n",
       "      <td>30.769231</td>\n",
       "      <td>17.021277</td>\n",
       "      <td>16.666667</td>\n",
       "      <td>13.793103</td>\n",
       "      <td>32.653061</td>\n",
       "    </tr>\n",
       "    <tr>\n",
       "      <th>Agree</th>\n",
       "      <td>57.142857</td>\n",
       "      <td>73.913043</td>\n",
       "      <td>56.862745</td>\n",
       "      <td>52.777778</td>\n",
       "      <td>70.0</td>\n",
       "      <td>48.076923</td>\n",
       "      <td>57.446809</td>\n",
       "      <td>50.000000</td>\n",
       "      <td>65.517241</td>\n",
       "      <td>55.102041</td>\n",
       "    </tr>\n",
       "    <tr>\n",
       "      <th>Neither Agree nor Disagree</th>\n",
       "      <td>7.142857</td>\n",
       "      <td>8.695652</td>\n",
       "      <td>9.803922</td>\n",
       "      <td>11.111111</td>\n",
       "      <td>14.0</td>\n",
       "      <td>15.384615</td>\n",
       "      <td>19.148936</td>\n",
       "      <td>25.000000</td>\n",
       "      <td>20.689655</td>\n",
       "      <td>8.163265</td>\n",
       "    </tr>\n",
       "    <tr>\n",
       "      <th>Disagree</th>\n",
       "      <td>14.285714</td>\n",
       "      <td>4.347826</td>\n",
       "      <td>0.000000</td>\n",
       "      <td>5.555556</td>\n",
       "      <td>4.0</td>\n",
       "      <td>1.923077</td>\n",
       "      <td>4.255319</td>\n",
       "      <td>8.333333</td>\n",
       "      <td>0.000000</td>\n",
       "      <td>4.081633</td>\n",
       "    </tr>\n",
       "    <tr>\n",
       "      <th>Strongly Disagree</th>\n",
       "      <td>0.000000</td>\n",
       "      <td>0.000000</td>\n",
       "      <td>1.960784</td>\n",
       "      <td>0.000000</td>\n",
       "      <td>0.0</td>\n",
       "      <td>3.846154</td>\n",
       "      <td>2.127660</td>\n",
       "      <td>0.000000</td>\n",
       "      <td>0.000000</td>\n",
       "      <td>0.000000</td>\n",
       "    </tr>\n",
       "  </tbody>\n",
       "</table>\n",
       "</div>"
      ],
      "text/plain": [
       "desk                               S1         S2         S3         S4    S5  \\\n",
       "Q15                                                                            \n",
       "Strongly Agree              21.428571  13.043478  31.372549  30.555556  12.0   \n",
       "Agree                       57.142857  73.913043  56.862745  52.777778  70.0   \n",
       "Neither Agree nor Disagree   7.142857   8.695652   9.803922  11.111111  14.0   \n",
       "Disagree                    14.285714   4.347826   0.000000   5.555556   4.0   \n",
       "Strongly Disagree            0.000000   0.000000   1.960784   0.000000   0.0   \n",
       "\n",
       "desk                               S6         S7         S8         S9  \\\n",
       "Q15                                                                      \n",
       "Strongly Agree              30.769231  17.021277  16.666667  13.793103   \n",
       "Agree                       48.076923  57.446809  50.000000  65.517241   \n",
       "Neither Agree nor Disagree  15.384615  19.148936  25.000000  20.689655   \n",
       "Disagree                     1.923077   4.255319   8.333333   0.000000   \n",
       "Strongly Disagree            3.846154   2.127660   0.000000   0.000000   \n",
       "\n",
       "desk                              S10  \n",
       "Q15                                    \n",
       "Strongly Agree              32.653061  \n",
       "Agree                       55.102041  \n",
       "Neither Agree nor Disagree   8.163265  \n",
       "Disagree                     4.081633  \n",
       "Strongly Disagree            0.000000  "
      ]
     },
     "execution_count": 131,
     "metadata": {},
     "output_type": "execute_result"
    }
   ],
   "source": [
    "Q15_desks\n",
    "\n",
    "# Most popular response from each desk:\n",
    "# S1: Agree\n",
    "# S2: Agree\n",
    "# S3: Agree\n",
    "# S4: Agree\n",
    "# S5: Agree\n",
    "# S6: Agree\n",
    "# S7: Agree\n",
    "# S8: Agree\n",
    "# S9: Agree\n",
    "# S10: Agree\n",
    "\n",
    "# All agree that more specific stock info would have helped net profits."
   ]
  },
  {
   "cell_type": "code",
   "execution_count": 141,
   "metadata": {},
   "outputs": [
    {
     "data": {
      "text/plain": [
       "'I have had prior experience in live trading stock /shares'"
      ]
     },
     "execution_count": 141,
     "metadata": {},
     "output_type": "execute_result"
    }
   ],
   "source": [
    "meta_dict['Q30']"
   ]
  },
  {
   "cell_type": "code",
   "execution_count": 126,
   "metadata": {},
   "outputs": [
    {
     "data": {
      "text/html": [
       "<div>\n",
       "<style scoped>\n",
       "    .dataframe tbody tr th:only-of-type {\n",
       "        vertical-align: middle;\n",
       "    }\n",
       "\n",
       "    .dataframe tbody tr th {\n",
       "        vertical-align: top;\n",
       "    }\n",
       "\n",
       "    .dataframe thead th {\n",
       "        text-align: right;\n",
       "    }\n",
       "</style>\n",
       "<table border=\"1\" class=\"dataframe\">\n",
       "  <thead>\n",
       "    <tr style=\"text-align: right;\">\n",
       "      <th>desk</th>\n",
       "      <th>S1</th>\n",
       "      <th>S2</th>\n",
       "      <th>S3</th>\n",
       "      <th>S4</th>\n",
       "      <th>S5</th>\n",
       "      <th>S6</th>\n",
       "      <th>S7</th>\n",
       "      <th>S8</th>\n",
       "      <th>S9</th>\n",
       "      <th>S10</th>\n",
       "    </tr>\n",
       "    <tr>\n",
       "      <th>Q30</th>\n",
       "      <th></th>\n",
       "      <th></th>\n",
       "      <th></th>\n",
       "      <th></th>\n",
       "      <th></th>\n",
       "      <th></th>\n",
       "      <th></th>\n",
       "      <th></th>\n",
       "      <th></th>\n",
       "      <th></th>\n",
       "    </tr>\n",
       "  </thead>\n",
       "  <tbody>\n",
       "    <tr>\n",
       "      <th>No</th>\n",
       "      <td>57.142857</td>\n",
       "      <td>78.26087</td>\n",
       "      <td>76.470588</td>\n",
       "      <td>86.111111</td>\n",
       "      <td>84.0</td>\n",
       "      <td>78.846154</td>\n",
       "      <td>78.723404</td>\n",
       "      <td>75.0</td>\n",
       "      <td>89.655172</td>\n",
       "      <td>77.55102</td>\n",
       "    </tr>\n",
       "    <tr>\n",
       "      <th>Yes</th>\n",
       "      <td>42.857143</td>\n",
       "      <td>21.73913</td>\n",
       "      <td>23.529412</td>\n",
       "      <td>13.888889</td>\n",
       "      <td>16.0</td>\n",
       "      <td>21.153846</td>\n",
       "      <td>21.276596</td>\n",
       "      <td>25.0</td>\n",
       "      <td>10.344828</td>\n",
       "      <td>22.44898</td>\n",
       "    </tr>\n",
       "  </tbody>\n",
       "</table>\n",
       "</div>"
      ],
      "text/plain": [
       "desk         S1        S2         S3         S4    S5         S6         S7  \\\n",
       "Q30                                                                           \n",
       "No    57.142857  78.26087  76.470588  86.111111  84.0  78.846154  78.723404   \n",
       "Yes   42.857143  21.73913  23.529412  13.888889  16.0  21.153846  21.276596   \n",
       "\n",
       "desk    S8         S9       S10  \n",
       "Q30                              \n",
       "No    75.0  89.655172  77.55102  \n",
       "Yes   25.0  10.344828  22.44898  "
      ]
     },
     "execution_count": 126,
     "metadata": {},
     "output_type": "execute_result"
    }
   ],
   "source": [
    "Q30_desks\n",
    "\n",
    "# Most popular response from each desk:\n",
    "# S1: No\n",
    "# S2: No\n",
    "# S3: No\n",
    "# S4: No\n",
    "# S5: No\n",
    "# S6: No\n",
    "# S7: No\n",
    "# S8: No\n",
    "# S9: No\n",
    "# S10: No\n",
    "\n",
    "# Desk 1 was closest to a 50/50 split, so they had the most experienced traders.\n",
    "# Desks 2, 3, 6, 7, 8, and 10 all had around 1/5 of their traders having had experience."
   ]
  },
  {
   "cell_type": "code",
   "execution_count": 142,
   "metadata": {},
   "outputs": [
    {
     "data": {
      "text/plain": [
       "<matplotlib.axes._subplots.AxesSubplot at 0x1a25ed5390>"
      ]
     },
     "execution_count": 142,
     "metadata": {},
     "output_type": "execute_result"
    },
    {
     "data": {
      "image/png": "[encoded data removed]",
      "text/plain": [
       "<Figure size 432x288 with 1 Axes>"
      ]
     },
     "metadata": {
      "needs_background": "light"
     },
     "output_type": "display_data"
    }
   ],
   "source": [
    "Q30_desks.plot(kind='bar', stacked=True, grid=False)"
   ]
  },
  {
   "cell_type": "markdown",
   "metadata": {},
   "source": [
    "## Could even go as far as to look at gender specific responses"
   ]
  },
  {
   "cell_type": "code",
   "execution_count": 151,
   "metadata": {},
   "outputs": [
    {
     "data": {
      "text/html": [
       "<div>\n",
       "<style scoped>\n",
       "    .dataframe tbody tr th:only-of-type {\n",
       "        vertical-align: middle;\n",
       "    }\n",
       "\n",
       "    .dataframe tbody tr th {\n",
       "        vertical-align: top;\n",
       "    }\n",
       "\n",
       "    .dataframe thead th {\n",
       "        text-align: right;\n",
       "    }\n",
       "</style>\n",
       "<table border=\"1\" class=\"dataframe\">\n",
       "  <thead>\n",
       "    <tr style=\"text-align: right;\">\n",
       "      <th>Gender</th>\n",
       "      <th>F</th>\n",
       "      <th>M</th>\n",
       "    </tr>\n",
       "    <tr>\n",
       "      <th>Q2</th>\n",
       "      <th></th>\n",
       "      <th></th>\n",
       "    </tr>\n",
       "  </thead>\n",
       "  <tbody>\n",
       "    <tr>\n",
       "      <th>Strongly Agree</th>\n",
       "      <td>12.941176</td>\n",
       "      <td>9.326425</td>\n",
       "    </tr>\n",
       "    <tr>\n",
       "      <th>Agree</th>\n",
       "      <td>32.352941</td>\n",
       "      <td>28.497409</td>\n",
       "    </tr>\n",
       "    <tr>\n",
       "      <th>Neither Agree nor Disagree</th>\n",
       "      <td>22.941176</td>\n",
       "      <td>33.678756</td>\n",
       "    </tr>\n",
       "    <tr>\n",
       "      <th>Disagree</th>\n",
       "      <td>21.764706</td>\n",
       "      <td>23.834197</td>\n",
       "    </tr>\n",
       "    <tr>\n",
       "      <th>Strongly Disagree</th>\n",
       "      <td>10.000000</td>\n",
       "      <td>4.663212</td>\n",
       "    </tr>\n",
       "  </tbody>\n",
       "</table>\n",
       "</div>"
      ],
      "text/plain": [
       "Gender                              F          M\n",
       "Q2                                              \n",
       "Strongly Agree              12.941176   9.326425\n",
       "Agree                       32.352941  28.497409\n",
       "Neither Agree nor Disagree  22.941176  33.678756\n",
       "Disagree                    21.764706  23.834197\n",
       "Strongly Disagree           10.000000   4.663212"
      ]
     },
     "execution_count": 151,
     "metadata": {},
     "output_type": "execute_result"
    }
   ],
   "source": [
    "# Looking at Gender responses:\n",
    "Q2_gender = pd.crosstab(df_sav['Q2'].\\\n",
    "        map(meta.variable_value_labels['Q2']), \\\n",
    "        df_sav['Gender'].map(meta.variable_value_labels['Gender']), \\\n",
    "        dropna=True, normalize='columns'). \\\n",
    "        loc[meta.variable_value_labels['Q2'].values()]. \\\n",
    "        loc[:,meta.variable_value_labels['Gender'].values()]*100\n",
    "\n",
    "Q2_gender\n",
    "\n",
    "# Females Agreed\n",
    "# Males NAnD"
   ]
  },
  {
   "cell_type": "code",
   "execution_count": 152,
   "metadata": {},
   "outputs": [
    {
     "data": {
      "text/plain": [
       "<matplotlib.axes._subplots.AxesSubplot at 0x1a27228b00>"
      ]
     },
     "execution_count": 152,
     "metadata": {},
     "output_type": "execute_result"
    },
    {
     "data": {
      "image/png": "[encoded data removed]",
      "text/plain": [
       "<Figure size 432x288 with 1 Axes>"
      ]
     },
     "metadata": {
      "needs_background": "light"
     },
     "output_type": "display_data"
    },
    {
     "data": {
      "image/png": "[encoded data removed]",
      "text/plain": [
       "<Figure size 432x288 with 1 Axes>"
      ]
     },
     "metadata": {
      "needs_background": "light"
     },
     "output_type": "display_data"
    },
    {
     "data": {
      "image/png": "[encoded data removed]",
      "text/plain": [
       "<Figure size 432x288 with 1 Axes>"
      ]
     },
     "metadata": {
      "needs_background": "light"
     },
     "output_type": "display_data"
    },
    {
     "data": {
      "image/png": "[encoded data removed]",
      "text/plain": [
       "<Figure size 432x288 with 1 Axes>"
      ]
     },
     "metadata": {
      "needs_background": "light"
     },
     "output_type": "display_data"
    },
    {
     "data": {
      "image/png": "[encoded data removed]",
      "text/plain": [
       "<Figure size 432x288 with 1 Axes>"
      ]
     },
     "metadata": {
      "needs_background": "light"
     },
     "output_type": "display_data"
    },
    {
     "data": {
      "image/png": "[encoded data removed]",
      "text/plain": [
       "<Figure size 432x288 with 1 Axes>"
      ]
     },
     "metadata": {
      "needs_background": "light"
     },
     "output_type": "display_data"
    },
    {
     "data": {
      "image/png": "[encoded data removed]",
      "text/plain": [
       "<Figure size 432x288 with 1 Axes>"
      ]
     },
     "metadata": {
      "needs_background": "light"
     },
     "output_type": "display_data"
    }
   ],
   "source": [
    "## Seeing what some plots might look like:\n",
    "Q2_desks.plot() # Can see how there are more mixed responses\n",
    "Q9_desks.plot() # More responses around Agree\n",
    "Q12_desks.plot() # More responses around Agree\n",
    "Q14_desks.plot() # More responses around Agree\n",
    "Q15_desks.plot() # More responses around Agree \n",
    "Q30_desks.plot() # Responses around No\n",
    "\n",
    "Q2_gender.plot()"
   ]
  },
  {
   "cell_type": "code",
   "execution_count": 154,
   "metadata": {},
   "outputs": [
    {
     "data": {
      "text/plain": [
       "array([[<matplotlib.axes._subplots.AxesSubplot object at 0x1a269b5978>,\n",
       "        <matplotlib.axes._subplots.AxesSubplot object at 0x1a262c3cc0>,\n",
       "        <matplotlib.axes._subplots.AxesSubplot object at 0x1a262fab38>],\n",
       "       [<matplotlib.axes._subplots.AxesSubplot object at 0x1a26286080>,\n",
       "        <matplotlib.axes._subplots.AxesSubplot object at 0x1a261ade48>,\n",
       "        <matplotlib.axes._subplots.AxesSubplot object at 0x1a262cf6a0>],\n",
       "       [<matplotlib.axes._subplots.AxesSubplot object at 0x1a25fcc630>,\n",
       "        <matplotlib.axes._subplots.AxesSubplot object at 0x1a25ade828>,\n",
       "        <matplotlib.axes._subplots.AxesSubplot object at 0x1a25adef28>],\n",
       "       [<matplotlib.axes._subplots.AxesSubplot object at 0x1a26b87198>,\n",
       "        <matplotlib.axes._subplots.AxesSubplot object at 0x1a264f0710>,\n",
       "        <matplotlib.axes._subplots.AxesSubplot object at 0x1a262a5c88>]],\n",
       "      dtype=object)"
      ]
     },
     "execution_count": 154,
     "metadata": {},
     "output_type": "execute_result"
    },
    {
     "data": {
      "image/png": "[encoded data removed]",
      "text/plain": [
       "<Figure size 432x288 with 12 Axes>"
      ]
     },
     "metadata": {
      "needs_background": "light"
     },
     "output_type": "display_data"
    }
   ],
   "source": [
    "Q2_desks.hist() # Interesting to look at, but hard to find insights"
   ]
  },
  {
   "cell_type": "code",
   "execution_count": 167,
   "metadata": {},
   "outputs": [
    {
     "data": {
      "image/png": "[encoded data removed]",
      "text/plain": [
       "<Figure size 432x288 with 1 Axes>"
      ]
     },
     "metadata": {
      "needs_background": "light"
     },
     "output_type": "display_data"
    }
   ],
   "source": [
    "questions = df.iloc[:,3:8]\n",
    "\n",
    "# Using a basic KMeans algorithm to look at the questions only\n",
    "from sklearn.cluster import KMeans\n",
    "kmeans = KMeans(n_clusters=5, max_iter=500)\n",
    "# Attempt 1: Given all the data\n",
    "kmeans.fit(questions)\n",
    "\n",
    "distortions = []\n",
    "K_to_try = range(1, 6)\n",
    "\n",
    "for i in K_to_try:\n",
    "    model = KMeans(\n",
    "            n_clusters=i,\n",
    "            init='k-means++',\n",
    "            n_jobs=-1,\n",
    "            random_state=1)\n",
    "    model.fit(questions)\n",
    "    distortions.append(model.inertia_)\n",
    "plt.plot(K_to_try, distortions, marker='o')\n",
    "plt.xlabel('Number of Clusters (k)')\n",
    "plt.ylabel('Distortion')\n",
    "plt.show()"
   ]
  },
  {
   "cell_type": "code",
   "execution_count": 165,
   "metadata": {},
   "outputs": [
    {
     "data": {
      "text/plain": [
       "array([1, 2, 1, 2, 2, 1, 2, 1, 1, 2, 1, 2, 1, 1, 2, 1, 1, 2, 2, 1, 2, 2,\n",
       "       1, 0, 2, 2, 1, 0, 2, 1, 0, 0, 2, 1, 1, 0, 0, 0, 1, 1, 2, 2, 1, 0,\n",
       "       2, 2, 0, 2, 2, 0, 1, 1, 1, 1, 2, 2, 2, 2, 2, 1, 2, 1, 2, 2, 2, 0,\n",
       "       2, 2, 0, 1, 2, 0, 1, 1, 0, 2, 1, 2, 1, 0, 2, 0, 2, 0, 1, 1, 2, 1,\n",
       "       0, 0, 0, 1, 1, 2, 0, 2, 2, 1, 2, 2, 1, 0, 1, 1, 2, 2, 1, 2, 1, 2,\n",
       "       2, 0, 0, 1, 2, 2, 2, 0, 1, 2, 2, 0, 1, 1, 1, 1, 1, 0, 2, 1, 2, 0,\n",
       "       0, 2, 2, 1, 2, 1, 0, 0, 1, 0, 2, 0, 2, 2, 0, 0, 1, 0, 1, 0, 2, 2,\n",
       "       2, 2, 1, 0, 1, 0, 2, 1, 0, 0, 2, 1, 1, 2, 0, 1, 2, 0, 0, 1, 1, 1,\n",
       "       1, 1, 1, 1, 1, 0, 0, 0, 0, 1, 2, 1, 1, 0, 1, 1, 1, 0, 0, 2, 1, 0,\n",
       "       1, 2, 1, 0, 0, 2, 1, 1, 2, 0, 0, 1, 0, 0, 2, 0, 0, 1, 1, 0, 0, 0,\n",
       "       0, 2, 0, 1, 1, 2, 0, 0, 2, 2, 0, 0, 2, 0, 0, 0, 1, 1, 0, 0, 1, 1,\n",
       "       1, 0, 1, 1, 1, 0, 0, 2, 0, 1, 0, 1, 0, 0, 1, 1, 1, 1, 1, 0, 0, 1,\n",
       "       0, 1, 2, 1, 1, 1, 0, 0, 0, 1, 1, 0, 1, 1, 0, 1, 2, 0, 1, 0, 1, 1,\n",
       "       1, 2, 1, 0, 1, 0, 1, 0, 1, 1, 0, 1, 0, 0, 0, 0, 1, 2, 1, 2, 1, 0,\n",
       "       1, 1, 1, 2, 0, 1, 0, 0, 0, 0, 0, 0, 1, 1, 0, 1, 0, 1, 0, 1, 1, 0,\n",
       "       2, 0, 1, 2, 2, 0, 1, 1, 0, 2, 0, 0, 0, 1, 1, 0, 1, 1, 1, 1, 1, 0,\n",
       "       1, 1, 0, 0, 2, 1, 0, 1, 1, 1, 1], dtype=int32)"
      ]
     },
     "execution_count": 165,
     "metadata": {},
     "output_type": "execute_result"
    }
   ],
   "source": [
    "# Using the best K from elbow method\n",
    "model = KMeans(\n",
    "    n_clusters=3,\n",
    "    init='k-means++',\n",
    "    n_jobs=-1,\n",
    "    random_state=1)\n",
    "\n",
    "model = model.fit(questions)\n",
    "\n",
    "y = model.predict(questions)\n",
    "y"
   ]
  },
  {
   "cell_type": "code",
   "execution_count": 173,
   "metadata": {},
   "outputs": [],
   "source": [
    "pca = PCA(n_components = 2, random_state=1)\n",
    "X_pca = pca.fit_transform(questions)"
   ]
  },
  {
   "cell_type": "code",
   "execution_count": 175,
   "metadata": {},
   "outputs": [
    {
     "data": {
      "image/png": "[encoded data removed]",
      "text/plain": [
       "<Figure size 432x288 with 1 Axes>"
      ]
     },
     "metadata": {
      "needs_background": "light"
     },
     "output_type": "display_data"
    }
   ],
   "source": [
    "plt.scatter(X_pca[y == 0, 0], X_pca[y == 0, 1], s = 50, c = 'yellow', label = 'Cluster 1')\n",
    "plt.scatter(X_pca[y == 1, 0], X_pca[y == 1, 1], s = 50, c = 'green', label = 'Cluster 2')\n",
    "plt.scatter(X_pca[y == 2, 0], X_pca[y == 2, 1], s = 50, c = 'red', label = 'Cluster 3')\n",
    "plt.scatter(model.cluster_centers_[:, 0], model.cluster_centers_[:, 1], s = 100, c = 'blue', label = 'Centroids')\n",
    "plt.title('Clusters of Questions')\n",
    "plt.xlabel('Principle Component 1')\n",
    "plt.ylabel('Principle Component 2')\n",
    "plt.legend()\n",
    "plt.grid()\n",
    "plt.show()"
   ]
  },
  {
   "cell_type": "code",
   "execution_count": 177,
   "metadata": {},
   "outputs": [
    {
     "data": {
      "image/png": "[encoded data removed]",
      "text/plain": [
       "<Figure size 432x288 with 1 Axes>"
      ]
     },
     "metadata": {
      "needs_background": "light"
     },
     "output_type": "display_data"
    }
   ],
   "source": [
    "dendrogram = hier.dendrogram(hier.linkage(questions, method = 'ward'))\n",
    "plt.title('Dendrogram')\n",
    "plt.xlabel('Questions')\n",
    "plt.ylabel('Euclidean distances')\n",
    "plt.show() # Could not get size of plot to change"
   ]
  },
  {
   "cell_type": "code",
   "execution_count": 186,
   "metadata": {},
   "outputs": [
    {
     "data": {
      "text/html": [
       "<div>\n",
       "<style scoped>\n",
       "    .dataframe tbody tr th:only-of-type {\n",
       "        vertical-align: middle;\n",
       "    }\n",
       "\n",
       "    .dataframe tbody tr th {\n",
       "        vertical-align: top;\n",
       "    }\n",
       "\n",
       "    .dataframe thead th {\n",
       "        text-align: right;\n",
       "    }\n",
       "</style>\n",
       "<table border=\"1\" class=\"dataframe\">\n",
       "  <thead>\n",
       "    <tr style=\"text-align: right;\">\n",
       "      <th></th>\n",
       "      <th>trader</th>\n",
       "    </tr>\n",
       "  </thead>\n",
       "  <tbody>\n",
       "    <tr>\n",
       "      <th>211</th>\n",
       "      <td>108T</td>\n",
       "    </tr>\n",
       "    <tr>\n",
       "      <th>216</th>\n",
       "      <td>1008</td>\n",
       "    </tr>\n",
       "    <tr>\n",
       "      <th>222</th>\n",
       "      <td>1208</td>\n",
       "    </tr>\n",
       "    <tr>\n",
       "      <th>223</th>\n",
       "      <td>1208</td>\n",
       "    </tr>\n",
       "    <tr>\n",
       "      <th>224</th>\n",
       "      <td>1008</td>\n",
       "    </tr>\n",
       "    <tr>\n",
       "      <th>225</th>\n",
       "      <td>108T</td>\n",
       "    </tr>\n",
       "    <tr>\n",
       "      <th>227</th>\n",
       "      <td>1108</td>\n",
       "    </tr>\n",
       "    <tr>\n",
       "      <th>228</th>\n",
       "      <td>208T</td>\n",
       "    </tr>\n",
       "    <tr>\n",
       "      <th>229</th>\n",
       "      <td>608T</td>\n",
       "    </tr>\n",
       "    <tr>\n",
       "      <th>230</th>\n",
       "      <td>308T</td>\n",
       "    </tr>\n",
       "    <tr>\n",
       "      <th>231</th>\n",
       "      <td>808T</td>\n",
       "    </tr>\n",
       "    <tr>\n",
       "      <th>232</th>\n",
       "      <td>808T</td>\n",
       "    </tr>\n",
       "    <tr>\n",
       "      <th>233</th>\n",
       "      <td>708T</td>\n",
       "    </tr>\n",
       "    <tr>\n",
       "      <th>234</th>\n",
       "      <td>6b08</td>\n",
       "    </tr>\n",
       "    <tr>\n",
       "      <th>235</th>\n",
       "      <td>308T</td>\n",
       "    </tr>\n",
       "    <tr>\n",
       "      <th>238</th>\n",
       "      <td>208T</td>\n",
       "    </tr>\n",
       "    <tr>\n",
       "      <th>239</th>\n",
       "      <td>408T</td>\n",
       "    </tr>\n",
       "    <tr>\n",
       "      <th>241</th>\n",
       "      <td>408T</td>\n",
       "    </tr>\n",
       "    <tr>\n",
       "      <th>242</th>\n",
       "      <td>908T</td>\n",
       "    </tr>\n",
       "    <tr>\n",
       "      <th>243</th>\n",
       "      <td>508T</td>\n",
       "    </tr>\n",
       "    <tr>\n",
       "      <th>244</th>\n",
       "      <td>508T</td>\n",
       "    </tr>\n",
       "    <tr>\n",
       "      <th>245</th>\n",
       "      <td>708T</td>\n",
       "    </tr>\n",
       "    <tr>\n",
       "      <th>246</th>\n",
       "      <td>908T</td>\n",
       "    </tr>\n",
       "  </tbody>\n",
       "</table>\n",
       "</div>"
      ],
      "text/plain": [
       "    trader\n",
       "211   108T\n",
       "216   1008\n",
       "222   1208\n",
       "223   1208\n",
       "224   1008\n",
       "225   108T\n",
       "227   1108\n",
       "228   208T\n",
       "229   608T\n",
       "230   308T\n",
       "231   808T\n",
       "232   808T\n",
       "233   708T\n",
       "234   6b08\n",
       "235   308T\n",
       "238   208T\n",
       "239   408T\n",
       "241   408T\n",
       "242   908T\n",
       "243   508T\n",
       "244   508T\n",
       "245   708T\n",
       "246   908T"
      ]
     },
     "execution_count": 186,
     "metadata": {},
     "output_type": "execute_result"
    }
   ],
   "source": [
    "s2[[\"trader\"]]"
   ]
  },
  {
   "cell_type": "code",
   "execution_count": null,
   "metadata": {},
   "outputs": [],
   "source": []
  }
 ],
 "metadata": {
  "kernelspec": {
   "display_name": "Python 3",
   "language": "python",
   "name": "python3"
  },
  "language_info": {
   "codemirror_mode": {
    "name": "ipython",
    "version": 3
   },
   "file_extension": ".py",
   "mimetype": "text/x-python",
   "name": "python",
   "nbconvert_exporter": "python",
   "pygments_lexer": "ipython3",
   "version": "3.7.1"
  }
 },
 "nbformat": 4,
 "nbformat_minor": 2
}
